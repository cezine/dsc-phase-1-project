{
 "cells": [
  {
   "cell_type": "markdown",
   "metadata": {},
   "source": [
    "# Data Preparation\n",
    "\n",
    "## Step 1: Importing the data\n",
    "\n",
    "Our data are contained in the zippedData directory of this repo and will need to be unzipped and imported to be useful for this analysis. First we will import the required packages and build an unzip function to help access our relevant files.\n",
    "\n",
    "### How did we choose our data?\n",
    "\n",
    "We decided to use data from `tn.movie_budgets.csv.gz`, `imdb.title.basics.csv.gz` and `imdb.name.basics.csv.gz`. We chose `tn.movie_budgets.csv.gz` because it provided more detailed information about revenue and production costs which allowed us to ask and answer more meaningful questions about the overall return on investment for each film. We also included `imdb.title.basics.csv.gz` in order to take a more detailed look at what _types_ of films performed best over time. Finally, we took a look at the personell files in `imdb.name.basics.csv.gz` to answer questions about which indusdry professionals were involved in successful titles."
   ]
  },
  {
   "cell_type": "code",
   "execution_count": 1,
   "metadata": {},
   "outputs": [],
   "source": [
    "import pandas as pd\n",
    "import matplotlib.pyplot as plt\n",
    "import pandas as pd\n",
    "import gzip\n",
    "from io import StringIO\n",
    "%matplotlib inline\n",
    "\n",
    "\n",
    "# This function uses try statements to push through errors and unzip the csv data\n",
    "def unzip_csv(file_location): \n",
    "    file = gzip.open(file_location, 'rb')\n",
    "    content = file.read()\n",
    "    file.close()\n",
    "    try:\n",
    "        content_str = str(content,'utf-8')\n",
    "        content_data = StringIO(content_str) \n",
    "    except:\n",
    "        content_str = str(content,'latin-1')\n",
    "        content_data = StringIO(content_str) \n",
    "    try:\n",
    "        return pd.read_csv(content_data)\n",
    "    except:\n",
    "        return pd.read_csv(content_data, sep='\\t')\n",
    "\n",
    "    \n",
    "#hard-coding the file-locations and nicknames into a dict for future reference\n",
    "file_locations = ['zippedData/imdb.name.basics.csv.gz'\n",
    "                  ,'zippedData/imdb.title.basics.csv.gz'\n",
    "                  ,'zippedData/tn.movie_budgets.csv.gz']\n",
    "\n",
    "file_nicknames = ['name','basics','budgets']\n",
    "\n",
    "\n",
    "#this dicitonary comprehension uses a zip function to smush the two lists together and then parse them into a dict\n",
    "#we also have a reference for each raw df and its location on the drive.\n",
    "file_dict = {k:v for k,v in zip(file_nicknames,file_locations)}\n",
    "\n",
    "#we unzip and define frames\n",
    "name_raw = unzip_csv(file_dict['name'])\n",
    "basics_raw = unzip_csv(file_dict['basics'])\n",
    "budgets_raw = unzip_csv(file_dict['budgets'])\n",
    "\n",
    "#renaming frames for cleaning\n",
    "name = name_raw\n",
    "basics = basics_raw\n",
    "budgets = budgets_raw"
   ]
  },
  {
   "cell_type": "markdown",
   "metadata": {},
   "source": [
    "## Step 2: Cleaning the Data\n",
    "\n",
    "In the next step we take the raw data frames and format the values to their appropriate data types, drop duplicates, null values, and redundant or irrelevant columns. We'll examine the head of our budgets DataFrame below as a starting off point:\n",
    "\n",
    "### Budgets"
   ]
  },
  {
   "cell_type": "code",
   "execution_count": 2,
   "metadata": {
    "scrolled": true
   },
   "outputs": [
    {
     "data": {
      "text/html": [
       "<div>\n",
       "<style scoped>\n",
       "    .dataframe tbody tr th:only-of-type {\n",
       "        vertical-align: middle;\n",
       "    }\n",
       "\n",
       "    .dataframe tbody tr th {\n",
       "        vertical-align: top;\n",
       "    }\n",
       "\n",
       "    .dataframe thead th {\n",
       "        text-align: right;\n",
       "    }\n",
       "</style>\n",
       "<table border=\"1\" class=\"dataframe\">\n",
       "  <thead>\n",
       "    <tr style=\"text-align: right;\">\n",
       "      <th></th>\n",
       "      <th>id</th>\n",
       "      <th>release_date</th>\n",
       "      <th>movie</th>\n",
       "      <th>production_budget</th>\n",
       "      <th>domestic_gross</th>\n",
       "      <th>worldwide_gross</th>\n",
       "    </tr>\n",
       "  </thead>\n",
       "  <tbody>\n",
       "    <tr>\n",
       "      <th>0</th>\n",
       "      <td>1</td>\n",
       "      <td>Dec 18, 2009</td>\n",
       "      <td>Avatar</td>\n",
       "      <td>$425,000,000</td>\n",
       "      <td>$760,507,625</td>\n",
       "      <td>$2,776,345,279</td>\n",
       "    </tr>\n",
       "    <tr>\n",
       "      <th>1</th>\n",
       "      <td>2</td>\n",
       "      <td>May 20, 2011</td>\n",
       "      <td>Pirates of the Caribbean: On Stranger Tides</td>\n",
       "      <td>$410,600,000</td>\n",
       "      <td>$241,063,875</td>\n",
       "      <td>$1,045,663,875</td>\n",
       "    </tr>\n",
       "    <tr>\n",
       "      <th>2</th>\n",
       "      <td>3</td>\n",
       "      <td>Jun 7, 2019</td>\n",
       "      <td>Dark Phoenix</td>\n",
       "      <td>$350,000,000</td>\n",
       "      <td>$42,762,350</td>\n",
       "      <td>$149,762,350</td>\n",
       "    </tr>\n",
       "    <tr>\n",
       "      <th>3</th>\n",
       "      <td>4</td>\n",
       "      <td>May 1, 2015</td>\n",
       "      <td>Avengers: Age of Ultron</td>\n",
       "      <td>$330,600,000</td>\n",
       "      <td>$459,005,868</td>\n",
       "      <td>$1,403,013,963</td>\n",
       "    </tr>\n",
       "    <tr>\n",
       "      <th>4</th>\n",
       "      <td>5</td>\n",
       "      <td>Dec 15, 2017</td>\n",
       "      <td>Star Wars Ep. VIII: The Last Jedi</td>\n",
       "      <td>$317,000,000</td>\n",
       "      <td>$620,181,382</td>\n",
       "      <td>$1,316,721,747</td>\n",
       "    </tr>\n",
       "  </tbody>\n",
       "</table>\n",
       "</div>"
      ],
      "text/plain": [
       "   id  release_date                                        movie  \\\n",
       "0   1  Dec 18, 2009                                       Avatar   \n",
       "1   2  May 20, 2011  Pirates of the Caribbean: On Stranger Tides   \n",
       "2   3   Jun 7, 2019                                 Dark Phoenix   \n",
       "3   4   May 1, 2015                      Avengers: Age of Ultron   \n",
       "4   5  Dec 15, 2017            Star Wars Ep. VIII: The Last Jedi   \n",
       "\n",
       "  production_budget domestic_gross worldwide_gross  \n",
       "0      $425,000,000   $760,507,625  $2,776,345,279  \n",
       "1      $410,600,000   $241,063,875  $1,045,663,875  \n",
       "2      $350,000,000    $42,762,350    $149,762,350  \n",
       "3      $330,600,000   $459,005,868  $1,403,013,963  \n",
       "4      $317,000,000   $620,181,382  $1,316,721,747  "
      ]
     },
     "execution_count": 2,
     "metadata": {},
     "output_type": "execute_result"
    }
   ],
   "source": [
    "budgets.head()"
   ]
  },
  {
   "cell_type": "code",
   "execution_count": 3,
   "metadata": {},
   "outputs": [
    {
     "name": "stdout",
     "output_type": "stream",
     "text": [
      "<class 'pandas.core.frame.DataFrame'>\n",
      "RangeIndex: 5782 entries, 0 to 5781\n",
      "Data columns (total 6 columns):\n",
      " #   Column             Non-Null Count  Dtype \n",
      "---  ------             --------------  ----- \n",
      " 0   id                 5782 non-null   int64 \n",
      " 1   release_date       5782 non-null   object\n",
      " 2   movie              5782 non-null   object\n",
      " 3   production_budget  5782 non-null   object\n",
      " 4   domestic_gross     5782 non-null   object\n",
      " 5   worldwide_gross    5782 non-null   object\n",
      "dtypes: int64(1), object(5)\n",
      "memory usage: 271.2+ KB\n"
     ]
    }
   ],
   "source": [
    "budgets.info()"
   ]
  },
  {
   "cell_type": "code",
   "execution_count": 4,
   "metadata": {},
   "outputs": [
    {
     "data": {
      "text/plain": [
       "id                   0\n",
       "release_date         0\n",
       "movie                0\n",
       "production_budget    0\n",
       "domestic_gross       0\n",
       "worldwide_gross      0\n",
       "dtype: int64"
      ]
     },
     "execution_count": 4,
     "metadata": {},
     "output_type": "execute_result"
    }
   ],
   "source": [
    "budgets.isna().sum()"
   ]
  },
  {
   "cell_type": "markdown",
   "metadata": {},
   "source": [
    "After looking at some summary data for the budgets data frame we can see that the we have a few tasks before this is going to be useful for analysis. There seems to be a redundant index column, and the numerical and time information is in the wrong format."
   ]
  },
  {
   "cell_type": "code",
   "execution_count": 5,
   "metadata": {},
   "outputs": [],
   "source": [
    "#id column is a redundant index so we're dropping it\n",
    "budgets.drop('id', axis=1, inplace=True)\n",
    "\n",
    "#setting date column to datatime object for use in charts etc.\n",
    "#budgets['release_date'] = pd.to_datetime(budgets['release_date'])\n",
    "\n",
    "#stripping any unseen or unknown whitespace from the object locales\n",
    "budgets.columns.str.strip()\n",
    "budgets['movie'] = budgets['movie'].str.strip()\n",
    "\n",
    "#this function launders the money ;D\n",
    "def clean_money(budgets_series):\n",
    "    #the map function applys the .replace to each cell in the given series, x[1:] skips the $\n",
    "    return budgets_series.map(lambda x: int(x[1:].replace(',','')))\n",
    "\n",
    "budgets['production_budget'] = clean_money(budgets['production_budget'])\n",
    "budgets['domestic_gross'] = clean_money(budgets['domestic_gross'])\n",
    "budgets['worldwide_gross'] = clean_money(budgets['worldwide_gross'])\n",
    "\n",
    "#adding in relevant columns\n",
    "budgets['foreign_gross'] = budgets.worldwide_gross - budgets.domestic_gross\n",
    "budgets['profit'] = budgets.worldwide_gross - budgets.production_budget\n",
    "\n",
    "#dropping duplicates\n",
    "budgets.drop_duplicates('movie', keep='first',inplace=True)"
   ]
  },
  {
   "cell_type": "code",
   "execution_count": 6,
   "metadata": {},
   "outputs": [
    {
     "name": "stdout",
     "output_type": "stream",
     "text": [
      "<class 'pandas.core.frame.DataFrame'>\n",
      "Int64Index: 5698 entries, 0 to 5781\n",
      "Data columns (total 7 columns):\n",
      " #   Column             Non-Null Count  Dtype \n",
      "---  ------             --------------  ----- \n",
      " 0   release_date       5698 non-null   object\n",
      " 1   movie              5698 non-null   object\n",
      " 2   production_budget  5698 non-null   int64 \n",
      " 3   domestic_gross     5698 non-null   int64 \n",
      " 4   worldwide_gross    5698 non-null   int64 \n",
      " 5   foreign_gross      5698 non-null   int64 \n",
      " 6   profit             5698 non-null   int64 \n",
      "dtypes: int64(5), object(2)\n",
      "memory usage: 356.1+ KB\n"
     ]
    }
   ],
   "source": [
    "#looks good now\n",
    "budgets.info()"
   ]
  },
  {
   "cell_type": "markdown",
   "metadata": {},
   "source": [
    "### Basics\n",
    "Now the general shape of the cleaning process has been defined we can rinse and repeat on our other data sets, making them easier to use in later analysis."
   ]
  },
  {
   "cell_type": "code",
   "execution_count": 7,
   "metadata": {},
   "outputs": [
    {
     "data": {
      "text/html": [
       "<div>\n",
       "<style scoped>\n",
       "    .dataframe tbody tr th:only-of-type {\n",
       "        vertical-align: middle;\n",
       "    }\n",
       "\n",
       "    .dataframe tbody tr th {\n",
       "        vertical-align: top;\n",
       "    }\n",
       "\n",
       "    .dataframe thead th {\n",
       "        text-align: right;\n",
       "    }\n",
       "</style>\n",
       "<table border=\"1\" class=\"dataframe\">\n",
       "  <thead>\n",
       "    <tr style=\"text-align: right;\">\n",
       "      <th></th>\n",
       "      <th>tconst</th>\n",
       "      <th>primary_title</th>\n",
       "      <th>original_title</th>\n",
       "      <th>start_year</th>\n",
       "      <th>runtime_minutes</th>\n",
       "      <th>genres</th>\n",
       "    </tr>\n",
       "  </thead>\n",
       "  <tbody>\n",
       "    <tr>\n",
       "      <th>0</th>\n",
       "      <td>tt0063540</td>\n",
       "      <td>Sunghursh</td>\n",
       "      <td>Sunghursh</td>\n",
       "      <td>2013</td>\n",
       "      <td>175.0</td>\n",
       "      <td>Action,Crime,Drama</td>\n",
       "    </tr>\n",
       "    <tr>\n",
       "      <th>1</th>\n",
       "      <td>tt0066787</td>\n",
       "      <td>One Day Before the Rainy Season</td>\n",
       "      <td>Ashad Ka Ek Din</td>\n",
       "      <td>2019</td>\n",
       "      <td>114.0</td>\n",
       "      <td>Biography,Drama</td>\n",
       "    </tr>\n",
       "    <tr>\n",
       "      <th>2</th>\n",
       "      <td>tt0069049</td>\n",
       "      <td>The Other Side of the Wind</td>\n",
       "      <td>The Other Side of the Wind</td>\n",
       "      <td>2018</td>\n",
       "      <td>122.0</td>\n",
       "      <td>Drama</td>\n",
       "    </tr>\n",
       "    <tr>\n",
       "      <th>3</th>\n",
       "      <td>tt0069204</td>\n",
       "      <td>Sabse Bada Sukh</td>\n",
       "      <td>Sabse Bada Sukh</td>\n",
       "      <td>2018</td>\n",
       "      <td>NaN</td>\n",
       "      <td>Comedy,Drama</td>\n",
       "    </tr>\n",
       "    <tr>\n",
       "      <th>4</th>\n",
       "      <td>tt0100275</td>\n",
       "      <td>The Wandering Soap Opera</td>\n",
       "      <td>La Telenovela Errante</td>\n",
       "      <td>2017</td>\n",
       "      <td>80.0</td>\n",
       "      <td>Comedy,Drama,Fantasy</td>\n",
       "    </tr>\n",
       "  </tbody>\n",
       "</table>\n",
       "</div>"
      ],
      "text/plain": [
       "      tconst                    primary_title              original_title  \\\n",
       "0  tt0063540                        Sunghursh                   Sunghursh   \n",
       "1  tt0066787  One Day Before the Rainy Season             Ashad Ka Ek Din   \n",
       "2  tt0069049       The Other Side of the Wind  The Other Side of the Wind   \n",
       "3  tt0069204                  Sabse Bada Sukh             Sabse Bada Sukh   \n",
       "4  tt0100275         The Wandering Soap Opera       La Telenovela Errante   \n",
       "\n",
       "   start_year  runtime_minutes                genres  \n",
       "0        2013            175.0    Action,Crime,Drama  \n",
       "1        2019            114.0       Biography,Drama  \n",
       "2        2018            122.0                 Drama  \n",
       "3        2018              NaN          Comedy,Drama  \n",
       "4        2017             80.0  Comedy,Drama,Fantasy  "
      ]
     },
     "execution_count": 7,
     "metadata": {},
     "output_type": "execute_result"
    }
   ],
   "source": [
    "basics.head()"
   ]
  },
  {
   "cell_type": "code",
   "execution_count": 8,
   "metadata": {},
   "outputs": [
    {
     "name": "stdout",
     "output_type": "stream",
     "text": [
      "<class 'pandas.core.frame.DataFrame'>\n",
      "RangeIndex: 146144 entries, 0 to 146143\n",
      "Data columns (total 6 columns):\n",
      " #   Column           Non-Null Count   Dtype  \n",
      "---  ------           --------------   -----  \n",
      " 0   tconst           146144 non-null  object \n",
      " 1   primary_title    146144 non-null  object \n",
      " 2   original_title   146123 non-null  object \n",
      " 3   start_year       146144 non-null  int64  \n",
      " 4   runtime_minutes  114405 non-null  float64\n",
      " 5   genres           140736 non-null  object \n",
      "dtypes: float64(1), int64(1), object(4)\n",
      "memory usage: 6.7+ MB\n"
     ]
    }
   ],
   "source": [
    "basics.info()"
   ]
  },
  {
   "cell_type": "code",
   "execution_count": 9,
   "metadata": {},
   "outputs": [
    {
     "data": {
      "text/plain": [
       "tconst                 0\n",
       "primary_title          0\n",
       "original_title        21\n",
       "start_year             0\n",
       "runtime_minutes    31739\n",
       "genres              5408\n",
       "dtype: int64"
      ]
     },
     "execution_count": 9,
     "metadata": {},
     "output_type": "execute_result"
    }
   ],
   "source": [
    "basics.isna().sum()"
   ]
  },
  {
   "cell_type": "markdown",
   "metadata": {},
   "source": [
    "#### Null values\n",
    "So it looks like the column we're most interest in from this data frame has a rather signifigant portion of null values, something we didnt encounter in the other data frame we already processed. Let's address the null values."
   ]
  },
  {
   "cell_type": "code",
   "execution_count": 10,
   "metadata": {},
   "outputs": [],
   "source": [
    "#the dataframe below proivdes a list of indices that contain a null value in the genre column the genre column is very \n",
    "#important to our analysis so we'll drop null values.\n",
    "to_drop = basics[basics['genres'].isna()==True].index\n",
    "\n",
    "#simple drop will finish the job\n",
    "basics.drop(to_drop,inplace=True)"
   ]
  },
  {
   "cell_type": "markdown",
   "metadata": {},
   "source": [
    "#### Pressing on...\n",
    "\n",
    "Now that the null values have been removed we will run a similar set of cleaning techniques on the dataframe as we did previously. Since the 'movie' column in budgets is how we're going to identify which records go where we are going to adjust the primary title column of basics in order to more easily denote the implied relationship."
   ]
  },
  {
   "cell_type": "code",
   "execution_count": 11,
   "metadata": {},
   "outputs": [],
   "source": [
    "basics['movie'] = basics['primary_title']\n",
    "\n",
    "#keeping only 'movie' and 'ttconst' as keys for our other data, and 'genres' for further analysis\n",
    "basics.drop(['primary_title','original_title','start_year'\n",
    "                ,'runtime_minutes'],axis=1,inplace=True)"
   ]
  },
  {
   "cell_type": "markdown",
   "metadata": {},
   "source": [
    "The columns look correct:"
   ]
  },
  {
   "cell_type": "code",
   "execution_count": 12,
   "metadata": {},
   "outputs": [
    {
     "data": {
      "text/plain": [
       "Index(['tconst', 'genres', 'movie'], dtype='object')"
      ]
     },
     "execution_count": 12,
     "metadata": {},
     "output_type": "execute_result"
    }
   ],
   "source": [
    "basics.columns"
   ]
  },
  {
   "cell_type": "code",
   "execution_count": 13,
   "metadata": {},
   "outputs": [],
   "source": [
    "#the strip functions remove unwanted whitespace if its lurking in there\n",
    "basics.columns = basics.columns.str.strip()\n",
    "\n",
    "for column in list(basics.columns):\n",
    "    basics[column] = basics[column].str.strip()\n",
    "\n",
    "#Dropping duplicates\n",
    "basics.drop_duplicates('movie', keep='first', inplace=True)\n",
    "    \n",
    "#this .map will apply a .split to all the genres at each \",\" decoding the genres data into a nested list.\n",
    "basics['genres'] = basics['genres'].map(lambda x: x.split(\",\"))"
   ]
  },
  {
   "cell_type": "markdown",
   "metadata": {},
   "source": [
    "As demonstrated below the previously difficult to use string data has now been munged into a useful format:"
   ]
  },
  {
   "cell_type": "code",
   "execution_count": 14,
   "metadata": {},
   "outputs": [
    {
     "data": {
      "text/plain": [
       "['Action', 'Crime', 'Drama']"
      ]
     },
     "execution_count": 14,
     "metadata": {},
     "output_type": "execute_result"
    }
   ],
   "source": [
    "basics['genres'][0]"
   ]
  },
  {
   "cell_type": "code",
   "execution_count": 15,
   "metadata": {},
   "outputs": [
    {
     "data": {
      "text/plain": [
       "'Action'"
      ]
     },
     "execution_count": 15,
     "metadata": {},
     "output_type": "execute_result"
    }
   ],
   "source": [
    "basics['genres'][0][0]"
   ]
  },
  {
   "cell_type": "markdown",
   "metadata": {},
   "source": [
    "### Name"
   ]
  },
  {
   "cell_type": "code",
   "execution_count": 16,
   "metadata": {},
   "outputs": [
    {
     "data": {
      "text/html": [
       "<div>\n",
       "<style scoped>\n",
       "    .dataframe tbody tr th:only-of-type {\n",
       "        vertical-align: middle;\n",
       "    }\n",
       "\n",
       "    .dataframe tbody tr th {\n",
       "        vertical-align: top;\n",
       "    }\n",
       "\n",
       "    .dataframe thead th {\n",
       "        text-align: right;\n",
       "    }\n",
       "</style>\n",
       "<table border=\"1\" class=\"dataframe\">\n",
       "  <thead>\n",
       "    <tr style=\"text-align: right;\">\n",
       "      <th></th>\n",
       "      <th>nconst</th>\n",
       "      <th>primary_name</th>\n",
       "      <th>birth_year</th>\n",
       "      <th>death_year</th>\n",
       "      <th>primary_profession</th>\n",
       "      <th>known_for_titles</th>\n",
       "    </tr>\n",
       "  </thead>\n",
       "  <tbody>\n",
       "    <tr>\n",
       "      <th>0</th>\n",
       "      <td>nm0061671</td>\n",
       "      <td>Mary Ellen Bauder</td>\n",
       "      <td>NaN</td>\n",
       "      <td>NaN</td>\n",
       "      <td>miscellaneous,production_manager,producer</td>\n",
       "      <td>tt0837562,tt2398241,tt0844471,tt0118553</td>\n",
       "    </tr>\n",
       "    <tr>\n",
       "      <th>1</th>\n",
       "      <td>nm0061865</td>\n",
       "      <td>Joseph Bauer</td>\n",
       "      <td>NaN</td>\n",
       "      <td>NaN</td>\n",
       "      <td>composer,music_department,sound_department</td>\n",
       "      <td>tt0896534,tt6791238,tt0287072,tt1682940</td>\n",
       "    </tr>\n",
       "    <tr>\n",
       "      <th>2</th>\n",
       "      <td>nm0062070</td>\n",
       "      <td>Bruce Baum</td>\n",
       "      <td>NaN</td>\n",
       "      <td>NaN</td>\n",
       "      <td>miscellaneous,actor,writer</td>\n",
       "      <td>tt1470654,tt0363631,tt0104030,tt0102898</td>\n",
       "    </tr>\n",
       "    <tr>\n",
       "      <th>3</th>\n",
       "      <td>nm0062195</td>\n",
       "      <td>Axel Baumann</td>\n",
       "      <td>NaN</td>\n",
       "      <td>NaN</td>\n",
       "      <td>camera_department,cinematographer,art_department</td>\n",
       "      <td>tt0114371,tt2004304,tt1618448,tt1224387</td>\n",
       "    </tr>\n",
       "    <tr>\n",
       "      <th>4</th>\n",
       "      <td>nm0062798</td>\n",
       "      <td>Pete Baxter</td>\n",
       "      <td>NaN</td>\n",
       "      <td>NaN</td>\n",
       "      <td>production_designer,art_department,set_decorator</td>\n",
       "      <td>tt0452644,tt0452692,tt3458030,tt2178256</td>\n",
       "    </tr>\n",
       "  </tbody>\n",
       "</table>\n",
       "</div>"
      ],
      "text/plain": [
       "      nconst       primary_name  birth_year  death_year  \\\n",
       "0  nm0061671  Mary Ellen Bauder         NaN         NaN   \n",
       "1  nm0061865       Joseph Bauer         NaN         NaN   \n",
       "2  nm0062070         Bruce Baum         NaN         NaN   \n",
       "3  nm0062195       Axel Baumann         NaN         NaN   \n",
       "4  nm0062798        Pete Baxter         NaN         NaN   \n",
       "\n",
       "                                 primary_profession  \\\n",
       "0         miscellaneous,production_manager,producer   \n",
       "1        composer,music_department,sound_department   \n",
       "2                        miscellaneous,actor,writer   \n",
       "3  camera_department,cinematographer,art_department   \n",
       "4  production_designer,art_department,set_decorator   \n",
       "\n",
       "                          known_for_titles  \n",
       "0  tt0837562,tt2398241,tt0844471,tt0118553  \n",
       "1  tt0896534,tt6791238,tt0287072,tt1682940  \n",
       "2  tt1470654,tt0363631,tt0104030,tt0102898  \n",
       "3  tt0114371,tt2004304,tt1618448,tt1224387  \n",
       "4  tt0452644,tt0452692,tt3458030,tt2178256  "
      ]
     },
     "execution_count": 16,
     "metadata": {},
     "output_type": "execute_result"
    }
   ],
   "source": [
    "name.head()"
   ]
  },
  {
   "cell_type": "code",
   "execution_count": 17,
   "metadata": {},
   "outputs": [
    {
     "name": "stdout",
     "output_type": "stream",
     "text": [
      "<class 'pandas.core.frame.DataFrame'>\n",
      "RangeIndex: 606648 entries, 0 to 606647\n",
      "Data columns (total 6 columns):\n",
      " #   Column              Non-Null Count   Dtype  \n",
      "---  ------              --------------   -----  \n",
      " 0   nconst              606648 non-null  object \n",
      " 1   primary_name        606648 non-null  object \n",
      " 2   birth_year          82736 non-null   float64\n",
      " 3   death_year          6783 non-null    float64\n",
      " 4   primary_profession  555308 non-null  object \n",
      " 5   known_for_titles    576444 non-null  object \n",
      "dtypes: float64(2), object(4)\n",
      "memory usage: 27.8+ MB\n"
     ]
    }
   ],
   "source": [
    "name.info()"
   ]
  },
  {
   "cell_type": "code",
   "execution_count": 18,
   "metadata": {},
   "outputs": [
    {
     "data": {
      "text/plain": [
       "nconst                     0\n",
       "primary_name               0\n",
       "birth_year            523912\n",
       "death_year            599865\n",
       "primary_profession     51340\n",
       "known_for_titles       30204\n",
       "dtype: int64"
      ]
     },
     "execution_count": 18,
     "metadata": {},
     "output_type": "execute_result"
    }
   ],
   "source": [
    "name.isnull().sum()"
   ]
  },
  {
   "cell_type": "code",
   "execution_count": 19,
   "metadata": {},
   "outputs": [],
   "source": [
    "#dropping these since they're outside the scope of our analysis\n",
    "name.drop(['nconst','birth_year','death_year',],axis=1,inplace=True)\n",
    "\n",
    "#this phrase finds null values in either column\n",
    "to_drop = name[(name['primary_profession'].isna()==True)|\n",
    "               name['known_for_titles'].isna()==True].index\n",
    "\n",
    "name.drop(to_drop,inplace=True)\n",
    "\n",
    "#cleaning the object data\n",
    "name.columns = name.columns.str.strip()\n",
    "\n",
    "#for loop will work here since all columns are object data\n",
    "for column in list(name.columns):\n",
    "    name[column] = name[column].str.strip()\n",
    "\n",
    "#splitting the cleaned data into nested lists\n",
    "name['known_for_titles'] = name['known_for_titles'].map(lambda x: x.split(\",\"))\n",
    "name['primary_profession'] = name['primary_profession'].map(lambda x: x.split(\",\"));"
   ]
  },
  {
   "cell_type": "markdown",
   "metadata": {},
   "source": [
    "#### Unnesting the tconst values\n",
    "Now our primary linkage to the rest of our data set seems to be encoded in a nested list. To access these records we need to employe .explode() to get just 1 tconst and job value per record."
   ]
  },
  {
   "cell_type": "code",
   "execution_count": 20,
   "metadata": {},
   "outputs": [],
   "source": [
    "name_exploded = name.explode('known_for_titles')"
   ]
  },
  {
   "cell_type": "code",
   "execution_count": 21,
   "metadata": {},
   "outputs": [
    {
     "name": "stdout",
     "output_type": "stream",
     "text": [
      "<class 'pandas.core.frame.DataFrame'>\n",
      "RangeIndex: 3434013 entries, 0 to 3434012\n",
      "Data columns (total 3 columns):\n",
      " #   Column              Dtype \n",
      "---  ------              ----- \n",
      " 0   primary_name        object\n",
      " 1   primary_profession  object\n",
      " 2   known_for_titles    object\n",
      "dtypes: object(3)\n",
      "memory usage: 78.6+ MB\n"
     ]
    }
   ],
   "source": [
    "name_exploded = name_exploded.explode('primary_profession', ignore_index=True)\n",
    "name_exploded.info()"
   ]
  },
  {
   "cell_type": "code",
   "execution_count": 22,
   "metadata": {},
   "outputs": [
    {
     "data": {
      "text/html": [
       "<div>\n",
       "<style scoped>\n",
       "    .dataframe tbody tr th:only-of-type {\n",
       "        vertical-align: middle;\n",
       "    }\n",
       "\n",
       "    .dataframe tbody tr th {\n",
       "        vertical-align: top;\n",
       "    }\n",
       "\n",
       "    .dataframe thead th {\n",
       "        text-align: right;\n",
       "    }\n",
       "</style>\n",
       "<table border=\"1\" class=\"dataframe\">\n",
       "  <thead>\n",
       "    <tr style=\"text-align: right;\">\n",
       "      <th></th>\n",
       "      <th>primary_name</th>\n",
       "      <th>primary_profession</th>\n",
       "      <th>known_for_titles</th>\n",
       "    </tr>\n",
       "  </thead>\n",
       "  <tbody>\n",
       "    <tr>\n",
       "      <th>0</th>\n",
       "      <td>Mary Ellen Bauder</td>\n",
       "      <td>miscellaneous</td>\n",
       "      <td>tt0837562</td>\n",
       "    </tr>\n",
       "    <tr>\n",
       "      <th>1</th>\n",
       "      <td>Mary Ellen Bauder</td>\n",
       "      <td>production_manager</td>\n",
       "      <td>tt0837562</td>\n",
       "    </tr>\n",
       "    <tr>\n",
       "      <th>2</th>\n",
       "      <td>Mary Ellen Bauder</td>\n",
       "      <td>producer</td>\n",
       "      <td>tt0837562</td>\n",
       "    </tr>\n",
       "    <tr>\n",
       "      <th>3</th>\n",
       "      <td>Mary Ellen Bauder</td>\n",
       "      <td>miscellaneous</td>\n",
       "      <td>tt2398241</td>\n",
       "    </tr>\n",
       "    <tr>\n",
       "      <th>4</th>\n",
       "      <td>Mary Ellen Bauder</td>\n",
       "      <td>production_manager</td>\n",
       "      <td>tt2398241</td>\n",
       "    </tr>\n",
       "    <tr>\n",
       "      <th>...</th>\n",
       "      <td>...</td>\n",
       "      <td>...</td>\n",
       "      <td>...</td>\n",
       "    </tr>\n",
       "    <tr>\n",
       "      <th>3434008</th>\n",
       "      <td>Madeline Smith</td>\n",
       "      <td>actress</td>\n",
       "      <td>tt8734436</td>\n",
       "    </tr>\n",
       "    <tr>\n",
       "      <th>3434009</th>\n",
       "      <td>Madeline Smith</td>\n",
       "      <td>actress</td>\n",
       "      <td>tt9615610</td>\n",
       "    </tr>\n",
       "    <tr>\n",
       "      <th>3434010</th>\n",
       "      <td>Pegasus Envoyé</td>\n",
       "      <td>director</td>\n",
       "      <td>tt8743182</td>\n",
       "    </tr>\n",
       "    <tr>\n",
       "      <th>3434011</th>\n",
       "      <td>Pegasus Envoyé</td>\n",
       "      <td>actor</td>\n",
       "      <td>tt8743182</td>\n",
       "    </tr>\n",
       "    <tr>\n",
       "      <th>3434012</th>\n",
       "      <td>Pegasus Envoyé</td>\n",
       "      <td>writer</td>\n",
       "      <td>tt8743182</td>\n",
       "    </tr>\n",
       "  </tbody>\n",
       "</table>\n",
       "<p>3432481 rows × 3 columns</p>\n",
       "</div>"
      ],
      "text/plain": [
       "              primary_name  primary_profession known_for_titles\n",
       "0        Mary Ellen Bauder       miscellaneous        tt0837562\n",
       "1        Mary Ellen Bauder  production_manager        tt0837562\n",
       "2        Mary Ellen Bauder            producer        tt0837562\n",
       "3        Mary Ellen Bauder       miscellaneous        tt2398241\n",
       "4        Mary Ellen Bauder  production_manager        tt2398241\n",
       "...                    ...                 ...              ...\n",
       "3434008     Madeline Smith             actress        tt8734436\n",
       "3434009     Madeline Smith             actress        tt9615610\n",
       "3434010     Pegasus Envoyé            director        tt8743182\n",
       "3434011     Pegasus Envoyé               actor        tt8743182\n",
       "3434012     Pegasus Envoyé              writer        tt8743182\n",
       "\n",
       "[3432481 rows x 3 columns]"
      ]
     },
     "execution_count": 22,
     "metadata": {},
     "output_type": "execute_result"
    }
   ],
   "source": [
    "name_exploded.drop_duplicates()"
   ]
  },
  {
   "cell_type": "code",
   "execution_count": 23,
   "metadata": {},
   "outputs": [],
   "source": [
    "#name_exploded = name_exploded[(name_exploded['primary_profession']=='director')| (name_exploded['primary_profession']=='producer')]"
   ]
  },
  {
   "cell_type": "code",
   "execution_count": 54,
   "metadata": {},
   "outputs": [],
   "source": [
    "name_exploded = name_exploded[name_exploded['primary_profession']=='director']"
   ]
  },
  {
   "cell_type": "code",
   "execution_count": 55,
   "metadata": {},
   "outputs": [
    {
     "name": "stdout",
     "output_type": "stream",
     "text": [
      "<class 'pandas.core.frame.DataFrame'>\n",
      "Int64Index: 404144 entries, 60 to 3434010\n",
      "Data columns (total 3 columns):\n",
      " #   Column              Non-Null Count   Dtype \n",
      "---  ------              --------------   ----- \n",
      " 0   primary_name        404144 non-null  object\n",
      " 1   primary_profession  404144 non-null  object\n",
      " 2   known_for_titles    404144 non-null  object\n",
      "dtypes: object(3)\n",
      "memory usage: 12.3+ MB\n"
     ]
    }
   ],
   "source": [
    "name_exploded.info()"
   ]
  },
  {
   "cell_type": "code",
   "execution_count": 56,
   "metadata": {},
   "outputs": [],
   "source": [
    "name_gb = name_exploded.groupby('known_for_titles')\n",
    "group_dict = name_gb.groups"
   ]
  },
  {
   "cell_type": "code",
   "execution_count": 57,
   "metadata": {},
   "outputs": [],
   "source": [
    "name_gb = name_exploded.groupby(['known_for_titles'])['primary_name'].apply(', '.join).reset_index()"
   ]
  },
  {
   "cell_type": "code",
   "execution_count": 58,
   "metadata": {},
   "outputs": [],
   "source": [
    "name_gb2 = name_exploded.groupby(['known_for_titles'])['primary_profession'].apply(', '.join).reset_index()"
   ]
  },
  {
   "cell_type": "markdown",
   "metadata": {},
   "source": [
    "## Merging the data"
   ]
  },
  {
   "cell_type": "code",
   "execution_count": 59,
   "metadata": {},
   "outputs": [],
   "source": [
    "name = name_gb.merge(name_gb2)\n",
    "name['primary_profession'] = name['primary_profession'].map(lambda x: x.split(\",\"))\n",
    "name['primary_name'] = name['primary_name'].map(lambda x: x.split(\",\"))"
   ]
  },
  {
   "cell_type": "code",
   "execution_count": 60,
   "metadata": {},
   "outputs": [],
   "source": [
    "df = budgets.merge(basics.merge(name,how='left',left_on='tconst',right_on='known_for_titles'),how='left')"
   ]
  },
  {
   "cell_type": "code",
   "execution_count": 61,
   "metadata": {
    "scrolled": true
   },
   "outputs": [
    {
     "data": {
      "text/html": [
       "<div>\n",
       "<style scoped>\n",
       "    .dataframe tbody tr th:only-of-type {\n",
       "        vertical-align: middle;\n",
       "    }\n",
       "\n",
       "    .dataframe tbody tr th {\n",
       "        vertical-align: top;\n",
       "    }\n",
       "\n",
       "    .dataframe thead th {\n",
       "        text-align: right;\n",
       "    }\n",
       "</style>\n",
       "<table border=\"1\" class=\"dataframe\">\n",
       "  <thead>\n",
       "    <tr style=\"text-align: right;\">\n",
       "      <th></th>\n",
       "      <th>release_date</th>\n",
       "      <th>movie</th>\n",
       "      <th>production_budget</th>\n",
       "      <th>domestic_gross</th>\n",
       "      <th>worldwide_gross</th>\n",
       "      <th>foreign_gross</th>\n",
       "      <th>profit</th>\n",
       "      <th>tconst</th>\n",
       "      <th>genres</th>\n",
       "      <th>known_for_titles</th>\n",
       "      <th>primary_name</th>\n",
       "      <th>primary_profession</th>\n",
       "    </tr>\n",
       "  </thead>\n",
       "  <tbody>\n",
       "    <tr>\n",
       "      <th>0</th>\n",
       "      <td>Dec 18, 2009</td>\n",
       "      <td>Avatar</td>\n",
       "      <td>425000000</td>\n",
       "      <td>760507625</td>\n",
       "      <td>2776345279</td>\n",
       "      <td>2015837654</td>\n",
       "      <td>2351345279</td>\n",
       "      <td>tt1775309</td>\n",
       "      <td>[Horror]</td>\n",
       "      <td>tt1775309</td>\n",
       "      <td>[Teruo Noguchi,  Atsushi Wada]</td>\n",
       "      <td>[director,  director]</td>\n",
       "    </tr>\n",
       "    <tr>\n",
       "      <th>1</th>\n",
       "      <td>May 20, 2011</td>\n",
       "      <td>Pirates of the Caribbean: On Stranger Tides</td>\n",
       "      <td>410600000</td>\n",
       "      <td>241063875</td>\n",
       "      <td>1045663875</td>\n",
       "      <td>804600000</td>\n",
       "      <td>635063875</td>\n",
       "      <td>tt1298650</td>\n",
       "      <td>[Action, Adventure, Fantasy]</td>\n",
       "      <td>tt1298650</td>\n",
       "      <td>[Patrick Kennedy,  Juan Carlos Vellido,  Sebas...</td>\n",
       "      <td>[director,  director,  director,  director,  d...</td>\n",
       "    </tr>\n",
       "    <tr>\n",
       "      <th>2</th>\n",
       "      <td>Jun 7, 2019</td>\n",
       "      <td>Dark Phoenix</td>\n",
       "      <td>350000000</td>\n",
       "      <td>42762350</td>\n",
       "      <td>149762350</td>\n",
       "      <td>107000000</td>\n",
       "      <td>-200237650</td>\n",
       "      <td>tt6565702</td>\n",
       "      <td>[Action, Adventure, Sci-Fi]</td>\n",
       "      <td>tt6565702</td>\n",
       "      <td>[Danny MAlin,  Alexandre Bélanger,  Dominic Ew...</td>\n",
       "      <td>[director,  director,  director,  director,  d...</td>\n",
       "    </tr>\n",
       "    <tr>\n",
       "      <th>3</th>\n",
       "      <td>May 1, 2015</td>\n",
       "      <td>Avengers: Age of Ultron</td>\n",
       "      <td>330600000</td>\n",
       "      <td>459005868</td>\n",
       "      <td>1403013963</td>\n",
       "      <td>944008095</td>\n",
       "      <td>1072413963</td>\n",
       "      <td>tt2395427</td>\n",
       "      <td>[Action, Adventure, Sci-Fi]</td>\n",
       "      <td>tt2395427</td>\n",
       "      <td>[Christopher Beasley,  Jay Hunter,  Ben Vokes,...</td>\n",
       "      <td>[director,  director,  director,  director,  d...</td>\n",
       "    </tr>\n",
       "    <tr>\n",
       "      <th>4</th>\n",
       "      <td>Dec 15, 2017</td>\n",
       "      <td>Star Wars Ep. VIII: The Last Jedi</td>\n",
       "      <td>317000000</td>\n",
       "      <td>620181382</td>\n",
       "      <td>1316721747</td>\n",
       "      <td>696540365</td>\n",
       "      <td>999721747</td>\n",
       "      <td>NaN</td>\n",
       "      <td>NaN</td>\n",
       "      <td>NaN</td>\n",
       "      <td>NaN</td>\n",
       "      <td>NaN</td>\n",
       "    </tr>\n",
       "  </tbody>\n",
       "</table>\n",
       "</div>"
      ],
      "text/plain": [
       "   release_date                                        movie  \\\n",
       "0  Dec 18, 2009                                       Avatar   \n",
       "1  May 20, 2011  Pirates of the Caribbean: On Stranger Tides   \n",
       "2   Jun 7, 2019                                 Dark Phoenix   \n",
       "3   May 1, 2015                      Avengers: Age of Ultron   \n",
       "4  Dec 15, 2017            Star Wars Ep. VIII: The Last Jedi   \n",
       "\n",
       "   production_budget  domestic_gross  worldwide_gross  foreign_gross  \\\n",
       "0          425000000       760507625       2776345279     2015837654   \n",
       "1          410600000       241063875       1045663875      804600000   \n",
       "2          350000000        42762350        149762350      107000000   \n",
       "3          330600000       459005868       1403013963      944008095   \n",
       "4          317000000       620181382       1316721747      696540365   \n",
       "\n",
       "       profit     tconst                        genres known_for_titles  \\\n",
       "0  2351345279  tt1775309                      [Horror]        tt1775309   \n",
       "1   635063875  tt1298650  [Action, Adventure, Fantasy]        tt1298650   \n",
       "2  -200237650  tt6565702   [Action, Adventure, Sci-Fi]        tt6565702   \n",
       "3  1072413963  tt2395427   [Action, Adventure, Sci-Fi]        tt2395427   \n",
       "4   999721747        NaN                           NaN              NaN   \n",
       "\n",
       "                                        primary_name  \\\n",
       "0                     [Teruo Noguchi,  Atsushi Wada]   \n",
       "1  [Patrick Kennedy,  Juan Carlos Vellido,  Sebas...   \n",
       "2  [Danny MAlin,  Alexandre Bélanger,  Dominic Ew...   \n",
       "3  [Christopher Beasley,  Jay Hunter,  Ben Vokes,...   \n",
       "4                                                NaN   \n",
       "\n",
       "                                  primary_profession  \n",
       "0                              [director,  director]  \n",
       "1  [director,  director,  director,  director,  d...  \n",
       "2  [director,  director,  director,  director,  d...  \n",
       "3  [director,  director,  director,  director,  d...  \n",
       "4                                                NaN  "
      ]
     },
     "execution_count": 61,
     "metadata": {},
     "output_type": "execute_result"
    }
   ],
   "source": [
    "df.head()"
   ]
  },
  {
   "cell_type": "code",
   "execution_count": null,
   "metadata": {},
   "outputs": [],
   "source": []
  },
  {
   "cell_type": "code",
   "execution_count": null,
   "metadata": {},
   "outputs": [],
   "source": []
  },
  {
   "cell_type": "markdown",
   "metadata": {},
   "source": [
    "# Sejin's work starts here"
   ]
  },
  {
   "cell_type": "code",
   "execution_count": 107,
   "metadata": {},
   "outputs": [
    {
     "name": "stdout",
     "output_type": "stream",
     "text": [
      "<class 'pandas.core.frame.DataFrame'>\n",
      "Int64Index: 1902 entries, 1 to 5696\n",
      "Data columns (total 13 columns):\n",
      " #   Column              Non-Null Count  Dtype \n",
      "---  ------              --------------  ----- \n",
      " 0   release_date        1902 non-null   object\n",
      " 1   movie               1902 non-null   object\n",
      " 2   production_budget   1902 non-null   int64 \n",
      " 3   domestic_gross      1902 non-null   int64 \n",
      " 4   worldwide_gross     1902 non-null   int64 \n",
      " 5   foreign_gross       1902 non-null   int64 \n",
      " 6   profit              1902 non-null   int64 \n",
      " 7   tconst              1604 non-null   object\n",
      " 8   genres              1604 non-null   object\n",
      " 9   known_for_titles    1450 non-null   object\n",
      " 10  primary_name        1450 non-null   object\n",
      " 11  primary_profession  1450 non-null   object\n",
      " 12  release_year        1902 non-null   object\n",
      "dtypes: int64(5), object(8)\n",
      "memory usage: 208.0+ KB\n"
     ]
    }
   ],
   "source": [
    "#Exploring dataframe\n",
    "df.info()"
   ]
  },
  {
   "cell_type": "code",
   "execution_count": 108,
   "metadata": {
    "scrolled": false
   },
   "outputs": [
    {
     "data": {
      "text/plain": [
       "release_date            0\n",
       "movie                   0\n",
       "production_budget       0\n",
       "domestic_gross          0\n",
       "worldwide_gross         0\n",
       "foreign_gross           0\n",
       "profit                  0\n",
       "tconst                298\n",
       "genres                298\n",
       "known_for_titles      452\n",
       "primary_name          452\n",
       "primary_profession    452\n",
       "release_year            0\n",
       "dtype: int64"
      ]
     },
     "execution_count": 108,
     "metadata": {},
     "output_type": "execute_result"
    }
   ],
   "source": [
    "#Checking missing data\n",
    "df.isna().sum()"
   ]
  },
  {
   "cell_type": "code",
   "execution_count": 109,
   "metadata": {},
   "outputs": [],
   "source": [
    "#Commented Shane's date format and creating 'release_year' column\n",
    "df['release_year'] = df['release_date'].map(lambda x: x[-4:])"
   ]
  },
  {
   "cell_type": "code",
   "execution_count": 110,
   "metadata": {},
   "outputs": [
    {
     "name": "stdout",
     "output_type": "stream",
     "text": [
      "This merged data includes movies from 2011 to 2020.\n"
     ]
    }
   ],
   "source": [
    "print(f'This merged data includes movies from {df.release_year.min()} to {df.release_year.max()}.')"
   ]
  },
  {
   "cell_type": "code",
   "execution_count": 111,
   "metadata": {},
   "outputs": [
    {
     "name": "stdout",
     "output_type": "stream",
     "text": [
      "<class 'pandas.core.frame.DataFrame'>\n",
      "Int64Index: 1902 entries, 1 to 5696\n",
      "Data columns (total 13 columns):\n",
      " #   Column              Non-Null Count  Dtype \n",
      "---  ------              --------------  ----- \n",
      " 0   release_date        1902 non-null   object\n",
      " 1   movie               1902 non-null   object\n",
      " 2   production_budget   1902 non-null   int64 \n",
      " 3   domestic_gross      1902 non-null   int64 \n",
      " 4   worldwide_gross     1902 non-null   int64 \n",
      " 5   foreign_gross       1902 non-null   int64 \n",
      " 6   profit              1902 non-null   int64 \n",
      " 7   tconst              1604 non-null   object\n",
      " 8   genres              1604 non-null   object\n",
      " 9   known_for_titles    1450 non-null   object\n",
      " 10  primary_name        1450 non-null   object\n",
      " 11  primary_profession  1450 non-null   object\n",
      " 12  release_year        1902 non-null   object\n",
      "dtypes: int64(5), object(8)\n",
      "memory usage: 208.0+ KB\n"
     ]
    }
   ],
   "source": [
    "#Updating the dataframe by filtering out years to get the lastest 10 years\n",
    "df = df.loc[df['release_year'] > '2010']\n",
    "df.info()"
   ]
  },
  {
   "cell_type": "code",
   "execution_count": 112,
   "metadata": {
    "scrolled": true
   },
   "outputs": [
    {
     "name": "stdout",
     "output_type": "stream",
     "text": [
      "<class 'pandas.core.frame.DataFrame'>\n",
      "Int64Index: 1902 entries, 1 to 5696\n",
      "Data columns (total 13 columns):\n",
      " #   Column              Non-Null Count  Dtype \n",
      "---  ------              --------------  ----- \n",
      " 0   release_date        1902 non-null   object\n",
      " 1   movie               1902 non-null   object\n",
      " 2   production_budget   1902 non-null   int64 \n",
      " 3   domestic_gross      1902 non-null   int64 \n",
      " 4   worldwide_gross     1902 non-null   int64 \n",
      " 5   foreign_gross       1902 non-null   int64 \n",
      " 6   profit              1902 non-null   int64 \n",
      " 7   tconst              1604 non-null   object\n",
      " 8   genres              1604 non-null   object\n",
      " 9   known_for_titles    1450 non-null   object\n",
      " 10  primary_name        1450 non-null   object\n",
      " 11  primary_profession  1450 non-null   object\n",
      " 12  release_year        1902 non-null   object\n",
      "dtypes: int64(5), object(8)\n",
      "memory usage: 208.0+ KB\n"
     ]
    }
   ],
   "source": [
    "#Dropping any duplicates\n",
    "df = df.drop_duplicates(subset='movie')\n",
    "df.info()"
   ]
  },
  {
   "cell_type": "code",
   "execution_count": 113,
   "metadata": {
    "scrolled": true
   },
   "outputs": [
    {
     "data": {
      "text/html": [
       "<div>\n",
       "<style scoped>\n",
       "    .dataframe tbody tr th:only-of-type {\n",
       "        vertical-align: middle;\n",
       "    }\n",
       "\n",
       "    .dataframe tbody tr th {\n",
       "        vertical-align: top;\n",
       "    }\n",
       "\n",
       "    .dataframe thead th {\n",
       "        text-align: right;\n",
       "    }\n",
       "</style>\n",
       "<table border=\"1\" class=\"dataframe\">\n",
       "  <thead>\n",
       "    <tr style=\"text-align: right;\">\n",
       "      <th></th>\n",
       "      <th>release_date</th>\n",
       "      <th>movie</th>\n",
       "      <th>production_budget</th>\n",
       "      <th>domestic_gross</th>\n",
       "      <th>worldwide_gross</th>\n",
       "      <th>foreign_gross</th>\n",
       "      <th>profit</th>\n",
       "      <th>tconst</th>\n",
       "      <th>genres</th>\n",
       "      <th>known_for_titles</th>\n",
       "      <th>primary_name</th>\n",
       "      <th>primary_profession</th>\n",
       "      <th>release_year</th>\n",
       "    </tr>\n",
       "  </thead>\n",
       "  <tbody>\n",
       "    <tr>\n",
       "      <th>5</th>\n",
       "      <td>Dec 18, 2015</td>\n",
       "      <td>Star Wars Ep. VII: The Force Awakens</td>\n",
       "      <td>306000000</td>\n",
       "      <td>936662225</td>\n",
       "      <td>2053311220</td>\n",
       "      <td>1116648995</td>\n",
       "      <td>1747311220</td>\n",
       "      <td>NaN</td>\n",
       "      <td>NaN</td>\n",
       "      <td>NaN</td>\n",
       "      <td>NaN</td>\n",
       "      <td>NaN</td>\n",
       "      <td>2015</td>\n",
       "    </tr>\n",
       "    <tr>\n",
       "      <th>6</th>\n",
       "      <td>Apr 27, 2018</td>\n",
       "      <td>Avengers: Infinity War</td>\n",
       "      <td>300000000</td>\n",
       "      <td>678815482</td>\n",
       "      <td>2048134200</td>\n",
       "      <td>1369318718</td>\n",
       "      <td>1748134200</td>\n",
       "      <td>tt4154756</td>\n",
       "      <td>[Action, Adventure, Sci-Fi]</td>\n",
       "      <td>tt4154756</td>\n",
       "      <td>[Joe Russo,  André Freitas,  Anthony Russo,  R...</td>\n",
       "      <td>[director,  director,  director,  director,  d...</td>\n",
       "      <td>2018</td>\n",
       "    </tr>\n",
       "    <tr>\n",
       "      <th>33</th>\n",
       "      <td>Jun 12, 2015</td>\n",
       "      <td>Jurassic World</td>\n",
       "      <td>215000000</td>\n",
       "      <td>652270625</td>\n",
       "      <td>1648854864</td>\n",
       "      <td>996584239</td>\n",
       "      <td>1433854864</td>\n",
       "      <td>tt0369610</td>\n",
       "      <td>[Action, Adventure, Sci-Fi]</td>\n",
       "      <td>tt0369610</td>\n",
       "      <td>[Irrfan Khan,  Mike Piccirillo,  Bryce Dallas ...</td>\n",
       "      <td>[director,  director,  director,  director,  d...</td>\n",
       "      <td>2015</td>\n",
       "    </tr>\n",
       "    <tr>\n",
       "      <th>66</th>\n",
       "      <td>Apr 3, 2015</td>\n",
       "      <td>Furious 7</td>\n",
       "      <td>190000000</td>\n",
       "      <td>353007020</td>\n",
       "      <td>1518722794</td>\n",
       "      <td>1165715774</td>\n",
       "      <td>1328722794</td>\n",
       "      <td>tt2820852</td>\n",
       "      <td>[Action, Crime, Thriller]</td>\n",
       "      <td>tt2820852</td>\n",
       "      <td>[Stephen F. Windon,  Brian McCulley,  Vin Dies...</td>\n",
       "      <td>[director,  director,  director,  director,  d...</td>\n",
       "      <td>2015</td>\n",
       "    </tr>\n",
       "    <tr>\n",
       "      <th>26</th>\n",
       "      <td>May 4, 2012</td>\n",
       "      <td>The Avengers</td>\n",
       "      <td>225000000</td>\n",
       "      <td>623279547</td>\n",
       "      <td>1517935897</td>\n",
       "      <td>894656350</td>\n",
       "      <td>1292935897</td>\n",
       "      <td>tt0848228</td>\n",
       "      <td>[Action, Adventure, Sci-Fi]</td>\n",
       "      <td>tt0848228</td>\n",
       "      <td>[James Eckhouse,  Johnny Wu,  Jerzy Skolimowsk...</td>\n",
       "      <td>[director,  director,  director,  director,  d...</td>\n",
       "      <td>2012</td>\n",
       "    </tr>\n",
       "    <tr>\n",
       "      <th>3</th>\n",
       "      <td>May 1, 2015</td>\n",
       "      <td>Avengers: Age of Ultron</td>\n",
       "      <td>330600000</td>\n",
       "      <td>459005868</td>\n",
       "      <td>1403013963</td>\n",
       "      <td>944008095</td>\n",
       "      <td>1072413963</td>\n",
       "      <td>tt2395427</td>\n",
       "      <td>[Action, Adventure, Sci-Fi]</td>\n",
       "      <td>tt2395427</td>\n",
       "      <td>[Christopher Beasley,  Jay Hunter,  Ben Vokes,...</td>\n",
       "      <td>[director,  director,  director,  director,  d...</td>\n",
       "      <td>2015</td>\n",
       "    </tr>\n",
       "    <tr>\n",
       "      <th>41</th>\n",
       "      <td>Feb 16, 2018</td>\n",
       "      <td>Black Panther</td>\n",
       "      <td>200000000</td>\n",
       "      <td>700059566</td>\n",
       "      <td>1348258224</td>\n",
       "      <td>648198658</td>\n",
       "      <td>1148258224</td>\n",
       "      <td>tt1825683</td>\n",
       "      <td>[Action, Adventure, Sci-Fi]</td>\n",
       "      <td>tt1825683</td>\n",
       "      <td>[Rachel Morrison,  Alexis Rhee,  Forest Whitak...</td>\n",
       "      <td>[director,  director,  director,  director,  d...</td>\n",
       "      <td>2018</td>\n",
       "    </tr>\n",
       "    <tr>\n",
       "      <th>260</th>\n",
       "      <td>Jul 15, 2011</td>\n",
       "      <td>Harry Potter and the Deathly Hallows: Part II</td>\n",
       "      <td>125000000</td>\n",
       "      <td>381193157</td>\n",
       "      <td>1341693157</td>\n",
       "      <td>960500000</td>\n",
       "      <td>1216693157</td>\n",
       "      <td>NaN</td>\n",
       "      <td>NaN</td>\n",
       "      <td>NaN</td>\n",
       "      <td>NaN</td>\n",
       "      <td>NaN</td>\n",
       "      <td>2011</td>\n",
       "    </tr>\n",
       "    <tr>\n",
       "      <th>4</th>\n",
       "      <td>Dec 15, 2017</td>\n",
       "      <td>Star Wars Ep. VIII: The Last Jedi</td>\n",
       "      <td>317000000</td>\n",
       "      <td>620181382</td>\n",
       "      <td>1316721747</td>\n",
       "      <td>696540365</td>\n",
       "      <td>999721747</td>\n",
       "      <td>NaN</td>\n",
       "      <td>NaN</td>\n",
       "      <td>NaN</td>\n",
       "      <td>NaN</td>\n",
       "      <td>NaN</td>\n",
       "      <td>2017</td>\n",
       "    </tr>\n",
       "    <tr>\n",
       "      <th>112</th>\n",
       "      <td>Jun 22, 2018</td>\n",
       "      <td>Jurassic World: Fallen Kingdom</td>\n",
       "      <td>170000000</td>\n",
       "      <td>417719760</td>\n",
       "      <td>1305772799</td>\n",
       "      <td>888053039</td>\n",
       "      <td>1135772799</td>\n",
       "      <td>tt4881806</td>\n",
       "      <td>[Action, Adventure, Sci-Fi]</td>\n",
       "      <td>tt4881806</td>\n",
       "      <td>[Colin Trevorrow,  J.A. Bayona,  Faith Fay,  G...</td>\n",
       "      <td>[director,  director,  director,  director,  d...</td>\n",
       "      <td>2018</td>\n",
       "    </tr>\n",
       "  </tbody>\n",
       "</table>\n",
       "</div>"
      ],
      "text/plain": [
       "     release_date                                          movie  \\\n",
       "5    Dec 18, 2015           Star Wars Ep. VII: The Force Awakens   \n",
       "6    Apr 27, 2018                         Avengers: Infinity War   \n",
       "33   Jun 12, 2015                                 Jurassic World   \n",
       "66    Apr 3, 2015                                      Furious 7   \n",
       "26    May 4, 2012                                   The Avengers   \n",
       "3     May 1, 2015                        Avengers: Age of Ultron   \n",
       "41   Feb 16, 2018                                  Black Panther   \n",
       "260  Jul 15, 2011  Harry Potter and the Deathly Hallows: Part II   \n",
       "4    Dec 15, 2017              Star Wars Ep. VIII: The Last Jedi   \n",
       "112  Jun 22, 2018                 Jurassic World: Fallen Kingdom   \n",
       "\n",
       "     production_budget  domestic_gross  worldwide_gross  foreign_gross  \\\n",
       "5            306000000       936662225       2053311220     1116648995   \n",
       "6            300000000       678815482       2048134200     1369318718   \n",
       "33           215000000       652270625       1648854864      996584239   \n",
       "66           190000000       353007020       1518722794     1165715774   \n",
       "26           225000000       623279547       1517935897      894656350   \n",
       "3            330600000       459005868       1403013963      944008095   \n",
       "41           200000000       700059566       1348258224      648198658   \n",
       "260          125000000       381193157       1341693157      960500000   \n",
       "4            317000000       620181382       1316721747      696540365   \n",
       "112          170000000       417719760       1305772799      888053039   \n",
       "\n",
       "         profit     tconst                       genres known_for_titles  \\\n",
       "5    1747311220        NaN                          NaN              NaN   \n",
       "6    1748134200  tt4154756  [Action, Adventure, Sci-Fi]        tt4154756   \n",
       "33   1433854864  tt0369610  [Action, Adventure, Sci-Fi]        tt0369610   \n",
       "66   1328722794  tt2820852    [Action, Crime, Thriller]        tt2820852   \n",
       "26   1292935897  tt0848228  [Action, Adventure, Sci-Fi]        tt0848228   \n",
       "3    1072413963  tt2395427  [Action, Adventure, Sci-Fi]        tt2395427   \n",
       "41   1148258224  tt1825683  [Action, Adventure, Sci-Fi]        tt1825683   \n",
       "260  1216693157        NaN                          NaN              NaN   \n",
       "4     999721747        NaN                          NaN              NaN   \n",
       "112  1135772799  tt4881806  [Action, Adventure, Sci-Fi]        tt4881806   \n",
       "\n",
       "                                          primary_name  \\\n",
       "5                                                  NaN   \n",
       "6    [Joe Russo,  André Freitas,  Anthony Russo,  R...   \n",
       "33   [Irrfan Khan,  Mike Piccirillo,  Bryce Dallas ...   \n",
       "66   [Stephen F. Windon,  Brian McCulley,  Vin Dies...   \n",
       "26   [James Eckhouse,  Johnny Wu,  Jerzy Skolimowsk...   \n",
       "3    [Christopher Beasley,  Jay Hunter,  Ben Vokes,...   \n",
       "41   [Rachel Morrison,  Alexis Rhee,  Forest Whitak...   \n",
       "260                                                NaN   \n",
       "4                                                  NaN   \n",
       "112  [Colin Trevorrow,  J.A. Bayona,  Faith Fay,  G...   \n",
       "\n",
       "                                    primary_profession release_year  \n",
       "5                                                  NaN         2015  \n",
       "6    [director,  director,  director,  director,  d...         2018  \n",
       "33   [director,  director,  director,  director,  d...         2015  \n",
       "66   [director,  director,  director,  director,  d...         2015  \n",
       "26   [director,  director,  director,  director,  d...         2012  \n",
       "3    [director,  director,  director,  director,  d...         2015  \n",
       "41   [director,  director,  director,  director,  d...         2018  \n",
       "260                                                NaN         2011  \n",
       "4                                                  NaN         2017  \n",
       "112  [director,  director,  director,  director,  d...         2018  "
      ]
     },
     "execution_count": 113,
     "metadata": {},
     "output_type": "execute_result"
    }
   ],
   "source": [
    "#Finding top 10 movies by 'worldwide_gross'\n",
    "top10_worldwide = df.sort_values(by='worldwide_gross', ascending=False).head(10)\n",
    "top10_worldwide"
   ]
  },
  {
   "cell_type": "code",
   "execution_count": 114,
   "metadata": {
    "scrolled": true
   },
   "outputs": [
    {
     "data": {
      "text/html": [
       "<div>\n",
       "<style scoped>\n",
       "    .dataframe tbody tr th:only-of-type {\n",
       "        vertical-align: middle;\n",
       "    }\n",
       "\n",
       "    .dataframe tbody tr th {\n",
       "        vertical-align: top;\n",
       "    }\n",
       "\n",
       "    .dataframe thead th {\n",
       "        text-align: right;\n",
       "    }\n",
       "</style>\n",
       "<table border=\"1\" class=\"dataframe\">\n",
       "  <thead>\n",
       "    <tr style=\"text-align: right;\">\n",
       "      <th></th>\n",
       "      <th>release_date</th>\n",
       "      <th>movie</th>\n",
       "      <th>production_budget</th>\n",
       "      <th>domestic_gross</th>\n",
       "      <th>worldwide_gross</th>\n",
       "      <th>foreign_gross</th>\n",
       "      <th>profit</th>\n",
       "      <th>tconst</th>\n",
       "      <th>genres</th>\n",
       "      <th>known_for_titles</th>\n",
       "      <th>primary_name</th>\n",
       "      <th>primary_profession</th>\n",
       "      <th>release_year</th>\n",
       "    </tr>\n",
       "  </thead>\n",
       "  <tbody>\n",
       "    <tr>\n",
       "      <th>5</th>\n",
       "      <td>Dec 18, 2015</td>\n",
       "      <td>Star Wars Ep. VII: The Force Awakens</td>\n",
       "      <td>306000000</td>\n",
       "      <td>936662225</td>\n",
       "      <td>2053311220</td>\n",
       "      <td>1116648995</td>\n",
       "      <td>1747311220</td>\n",
       "      <td>NaN</td>\n",
       "      <td>NaN</td>\n",
       "      <td>NaN</td>\n",
       "      <td>NaN</td>\n",
       "      <td>NaN</td>\n",
       "      <td>2015</td>\n",
       "    </tr>\n",
       "    <tr>\n",
       "      <th>41</th>\n",
       "      <td>Feb 16, 2018</td>\n",
       "      <td>Black Panther</td>\n",
       "      <td>200000000</td>\n",
       "      <td>700059566</td>\n",
       "      <td>1348258224</td>\n",
       "      <td>648198658</td>\n",
       "      <td>1148258224</td>\n",
       "      <td>tt1825683</td>\n",
       "      <td>[Action, Adventure, Sci-Fi]</td>\n",
       "      <td>tt1825683</td>\n",
       "      <td>[Rachel Morrison,  Alexis Rhee,  Forest Whitak...</td>\n",
       "      <td>[director,  director,  director,  director,  d...</td>\n",
       "      <td>2018</td>\n",
       "    </tr>\n",
       "    <tr>\n",
       "      <th>6</th>\n",
       "      <td>Apr 27, 2018</td>\n",
       "      <td>Avengers: Infinity War</td>\n",
       "      <td>300000000</td>\n",
       "      <td>678815482</td>\n",
       "      <td>2048134200</td>\n",
       "      <td>1369318718</td>\n",
       "      <td>1748134200</td>\n",
       "      <td>tt4154756</td>\n",
       "      <td>[Action, Adventure, Sci-Fi]</td>\n",
       "      <td>tt4154756</td>\n",
       "      <td>[Joe Russo,  André Freitas,  Anthony Russo,  R...</td>\n",
       "      <td>[director,  director,  director,  director,  d...</td>\n",
       "      <td>2018</td>\n",
       "    </tr>\n",
       "    <tr>\n",
       "      <th>33</th>\n",
       "      <td>Jun 12, 2015</td>\n",
       "      <td>Jurassic World</td>\n",
       "      <td>215000000</td>\n",
       "      <td>652270625</td>\n",
       "      <td>1648854864</td>\n",
       "      <td>996584239</td>\n",
       "      <td>1433854864</td>\n",
       "      <td>tt0369610</td>\n",
       "      <td>[Action, Adventure, Sci-Fi]</td>\n",
       "      <td>tt0369610</td>\n",
       "      <td>[Irrfan Khan,  Mike Piccirillo,  Bryce Dallas ...</td>\n",
       "      <td>[director,  director,  director,  director,  d...</td>\n",
       "      <td>2015</td>\n",
       "    </tr>\n",
       "    <tr>\n",
       "      <th>26</th>\n",
       "      <td>May 4, 2012</td>\n",
       "      <td>The Avengers</td>\n",
       "      <td>225000000</td>\n",
       "      <td>623279547</td>\n",
       "      <td>1517935897</td>\n",
       "      <td>894656350</td>\n",
       "      <td>1292935897</td>\n",
       "      <td>tt0848228</td>\n",
       "      <td>[Action, Adventure, Sci-Fi]</td>\n",
       "      <td>tt0848228</td>\n",
       "      <td>[James Eckhouse,  Johnny Wu,  Jerzy Skolimowsk...</td>\n",
       "      <td>[director,  director,  director,  director,  d...</td>\n",
       "      <td>2012</td>\n",
       "    </tr>\n",
       "    <tr>\n",
       "      <th>4</th>\n",
       "      <td>Dec 15, 2017</td>\n",
       "      <td>Star Wars Ep. VIII: The Last Jedi</td>\n",
       "      <td>317000000</td>\n",
       "      <td>620181382</td>\n",
       "      <td>1316721747</td>\n",
       "      <td>696540365</td>\n",
       "      <td>999721747</td>\n",
       "      <td>NaN</td>\n",
       "      <td>NaN</td>\n",
       "      <td>NaN</td>\n",
       "      <td>NaN</td>\n",
       "      <td>NaN</td>\n",
       "      <td>2017</td>\n",
       "    </tr>\n",
       "    <tr>\n",
       "      <th>43</th>\n",
       "      <td>Jun 15, 2018</td>\n",
       "      <td>Incredibles 2</td>\n",
       "      <td>200000000</td>\n",
       "      <td>608581744</td>\n",
       "      <td>1242520711</td>\n",
       "      <td>633938967</td>\n",
       "      <td>1042520711</td>\n",
       "      <td>tt3606756</td>\n",
       "      <td>[Action, Adventure, Animation]</td>\n",
       "      <td>tt3606756</td>\n",
       "      <td>[Alan Barillaro,  Brad Bird,  Mahyar Abousaeedi]</td>\n",
       "      <td>[director,  director,  director]</td>\n",
       "      <td>2018</td>\n",
       "    </tr>\n",
       "    <tr>\n",
       "      <th>44</th>\n",
       "      <td>Dec 16, 2016</td>\n",
       "      <td>Rogue One: A Star Wars Story</td>\n",
       "      <td>200000000</td>\n",
       "      <td>532177324</td>\n",
       "      <td>1049102856</td>\n",
       "      <td>516925532</td>\n",
       "      <td>849102856</td>\n",
       "      <td>tt3748528</td>\n",
       "      <td>[Action, Adventure, Sci-Fi]</td>\n",
       "      <td>tt3748528</td>\n",
       "      <td>[Haukur M. Hrafnsson,  Wen Jiang,  Tony Gilroy...</td>\n",
       "      <td>[director,  director,  director,  director,  d...</td>\n",
       "      <td>2016</td>\n",
       "    </tr>\n",
       "    <tr>\n",
       "      <th>134</th>\n",
       "      <td>Mar 17, 2017</td>\n",
       "      <td>Beauty and the Beast</td>\n",
       "      <td>160000000</td>\n",
       "      <td>504014165</td>\n",
       "      <td>1259199706</td>\n",
       "      <td>755185541</td>\n",
       "      <td>1099199706</td>\n",
       "      <td>tt2316801</td>\n",
       "      <td>[Drama, Fantasy, Romance]</td>\n",
       "      <td>tt2316801</td>\n",
       "      <td>[Christophe Gans,  Rita Hatzmann]</td>\n",
       "      <td>[director,  director]</td>\n",
       "      <td>2017</td>\n",
       "    </tr>\n",
       "    <tr>\n",
       "      <th>45</th>\n",
       "      <td>Jun 17, 2016</td>\n",
       "      <td>Finding Dory</td>\n",
       "      <td>200000000</td>\n",
       "      <td>486295561</td>\n",
       "      <td>1021215193</td>\n",
       "      <td>534919632</td>\n",
       "      <td>821215193</td>\n",
       "      <td>tt2277860</td>\n",
       "      <td>[Adventure, Animation, Comedy]</td>\n",
       "      <td>tt2277860</td>\n",
       "      <td>[Daniel Clark]</td>\n",
       "      <td>[director]</td>\n",
       "      <td>2016</td>\n",
       "    </tr>\n",
       "  </tbody>\n",
       "</table>\n",
       "</div>"
      ],
      "text/plain": [
       "     release_date                                 movie  production_budget  \\\n",
       "5    Dec 18, 2015  Star Wars Ep. VII: The Force Awakens          306000000   \n",
       "41   Feb 16, 2018                         Black Panther          200000000   \n",
       "6    Apr 27, 2018                Avengers: Infinity War          300000000   \n",
       "33   Jun 12, 2015                        Jurassic World          215000000   \n",
       "26    May 4, 2012                          The Avengers          225000000   \n",
       "4    Dec 15, 2017     Star Wars Ep. VIII: The Last Jedi          317000000   \n",
       "43   Jun 15, 2018                         Incredibles 2          200000000   \n",
       "44   Dec 16, 2016          Rogue One: A Star Wars Story          200000000   \n",
       "134  Mar 17, 2017                  Beauty and the Beast          160000000   \n",
       "45   Jun 17, 2016                          Finding Dory          200000000   \n",
       "\n",
       "     domestic_gross  worldwide_gross  foreign_gross      profit     tconst  \\\n",
       "5         936662225       2053311220     1116648995  1747311220        NaN   \n",
       "41        700059566       1348258224      648198658  1148258224  tt1825683   \n",
       "6         678815482       2048134200     1369318718  1748134200  tt4154756   \n",
       "33        652270625       1648854864      996584239  1433854864  tt0369610   \n",
       "26        623279547       1517935897      894656350  1292935897  tt0848228   \n",
       "4         620181382       1316721747      696540365   999721747        NaN   \n",
       "43        608581744       1242520711      633938967  1042520711  tt3606756   \n",
       "44        532177324       1049102856      516925532   849102856  tt3748528   \n",
       "134       504014165       1259199706      755185541  1099199706  tt2316801   \n",
       "45        486295561       1021215193      534919632   821215193  tt2277860   \n",
       "\n",
       "                             genres known_for_titles  \\\n",
       "5                               NaN              NaN   \n",
       "41      [Action, Adventure, Sci-Fi]        tt1825683   \n",
       "6       [Action, Adventure, Sci-Fi]        tt4154756   \n",
       "33      [Action, Adventure, Sci-Fi]        tt0369610   \n",
       "26      [Action, Adventure, Sci-Fi]        tt0848228   \n",
       "4                               NaN              NaN   \n",
       "43   [Action, Adventure, Animation]        tt3606756   \n",
       "44      [Action, Adventure, Sci-Fi]        tt3748528   \n",
       "134       [Drama, Fantasy, Romance]        tt2316801   \n",
       "45   [Adventure, Animation, Comedy]        tt2277860   \n",
       "\n",
       "                                          primary_name  \\\n",
       "5                                                  NaN   \n",
       "41   [Rachel Morrison,  Alexis Rhee,  Forest Whitak...   \n",
       "6    [Joe Russo,  André Freitas,  Anthony Russo,  R...   \n",
       "33   [Irrfan Khan,  Mike Piccirillo,  Bryce Dallas ...   \n",
       "26   [James Eckhouse,  Johnny Wu,  Jerzy Skolimowsk...   \n",
       "4                                                  NaN   \n",
       "43    [Alan Barillaro,  Brad Bird,  Mahyar Abousaeedi]   \n",
       "44   [Haukur M. Hrafnsson,  Wen Jiang,  Tony Gilroy...   \n",
       "134                  [Christophe Gans,  Rita Hatzmann]   \n",
       "45                                      [Daniel Clark]   \n",
       "\n",
       "                                    primary_profession release_year  \n",
       "5                                                  NaN         2015  \n",
       "41   [director,  director,  director,  director,  d...         2018  \n",
       "6    [director,  director,  director,  director,  d...         2018  \n",
       "33   [director,  director,  director,  director,  d...         2015  \n",
       "26   [director,  director,  director,  director,  d...         2012  \n",
       "4                                                  NaN         2017  \n",
       "43                    [director,  director,  director]         2018  \n",
       "44   [director,  director,  director,  director,  d...         2016  \n",
       "134                              [director,  director]         2017  \n",
       "45                                          [director]         2016  "
      ]
     },
     "execution_count": 114,
     "metadata": {},
     "output_type": "execute_result"
    }
   ],
   "source": [
    "#Fiding top 10 movies by 'domestic_gross'\n",
    "top10_domestic = df.sort_values(by='domestic_gross', ascending=False).head(10)\n",
    "top10_domestic"
   ]
  },
  {
   "cell_type": "code",
   "execution_count": 115,
   "metadata": {},
   "outputs": [],
   "source": [
    "#Visualizing top10 movies domestic & worldwide\n",
    "import matplotlib.pyplot as plt\n",
    "%matplotlib inline"
   ]
  },
  {
   "cell_type": "code",
   "execution_count": 116,
   "metadata": {
    "scrolled": true
   },
   "outputs": [
    {
     "data": {
      "image/png": "[encoded data removed]",
      "text/plain": [
       "<Figure size 432x288 with 1 Axes>"
      ]
     },
     "metadata": {
      "needs_background": "light"
     },
     "output_type": "display_data"
    },
    {
     "data": {
      "image/png": "[encoded data removed]",
      "text/plain": [
       "<Figure size 432x288 with 1 Axes>"
      ]
     },
     "metadata": {
      "needs_background": "light"
     },
     "output_type": "display_data"
    }
   ],
   "source": [
    "ax1 = top10_worldwide.set_index('movie').plot(kind='barh')\n",
    "ax2 = top10_domestic.set_index('movie').plot(kind='barh')        \n",
    "ax1.set_ylabel(\"Worldwide Gross\")\n",
    "ax2.set_ylabel(\"Domestic Gross\")\n",
    "ax1.set_title(\"Top 10 Movies Worldwide 2011-2020\")\n",
    "ax2.set_title(\"Top 10 Movies Domestic 2011-2020\");"
   ]
  },
  {
   "cell_type": "code",
   "execution_count": 106,
   "metadata": {},
   "outputs": [
    {
     "data": {
      "image/png": "[encoded data removed]",
      "text/plain": [
       "<Figure size 432x288 with 1 Axes>"
      ]
     },
     "metadata": {
      "needs_background": "light"
     },
     "output_type": "display_data"
    },
    {
     "data": {
      "image/png": "[encoded data removed]",
      "text/plain": [
       "<Figure size 432x288 with 1 Axes>"
      ]
     },
     "metadata": {
      "needs_background": "light"
     },
     "output_type": "display_data"
    }
   ],
   "source": [
    "top10_worldwide.plot(x='movie', kind='barh', stacked=True, title='Top 10 Movies Worldwide 2011-2020')\n",
    "top10_domestic.plot(x='movie', kind='barh', stacked=True, title='Top 10 Movies Domestic 2011-2020');"
   ]
  },
  {
   "cell_type": "code",
   "execution_count": 117,
   "metadata": {},
   "outputs": [],
   "source": [
    "### Answering Q3: Is there any particular director/producer who appears frequently in the above findings?"
   ]
  },
  {
   "cell_type": "code",
   "execution_count": 120,
   "metadata": {},
   "outputs": [
    {
     "data": {
      "text/plain": [
       " Michael Lafuente          2\n",
       " Doug Mallette             2\n",
       " Rick James                2\n",
       " Michael-Ryan Fletchall    1\n",
       " Brent Anbe                1\n",
       "Name: primary_name, dtype: int64"
      ]
     },
     "execution_count": 120,
     "metadata": {},
     "output_type": "execute_result"
    }
   ],
   "source": [
    "directors = top10_domestic.explode('primary_name')\n",
    "directors['primary_name'].value_counts().head()"
   ]
  },
  {
   "cell_type": "code",
   "execution_count": 123,
   "metadata": {},
   "outputs": [
    {
     "name": "stdout",
     "output_type": "stream",
     "text": [
      "The directors who appear the most in 'the top 10 movies by domestic gross' are  Michael Lafuente    2\n",
      " Doug Mallette       2\n",
      " Rick James          2\n",
      "Name: primary_name, dtype: int64.\n"
     ]
    }
   ],
   "source": [
    "print(f\"The directors who appear the most in 'the top 10 movies by domestic gross' are {directors['primary_name'].value_counts().head(3)}.\")"
   ]
  },
  {
   "cell_type": "code",
   "execution_count": 119,
   "metadata": {},
   "outputs": [
    {
     "data": {
      "text/plain": [
       " Robert Pralgo         2\n",
       " Daniel S. Kaminsky    2\n",
       " Doug Mallette         2\n",
       " Teo Lee               2\n",
       " Monique Ganderton     1\n",
       "                      ..\n",
       " Alexis Rhee           1\n",
       " Robert Emms           1\n",
       " Joe Robert Cole       1\n",
       " Clark Gregg           1\n",
       " Anthony Russo         1\n",
       "Name: primary_name, Length: 108, dtype: int64"
      ]
     },
     "execution_count": 119,
     "metadata": {},
     "output_type": "execute_result"
    }
   ],
   "source": [
    "directors_w = top10_worldwide.explode('primary_name')\n",
    "directors_w['primary_name'].value_counts()"
   ]
  },
  {
   "cell_type": "code",
   "execution_count": 124,
   "metadata": {},
   "outputs": [
    {
     "name": "stdout",
     "output_type": "stream",
     "text": [
      "The directors who appear the most in 'the top 10 movies by worldwide gross' are  Michael Lafuente          2\n",
      " Doug Mallette             2\n",
      " Rick James                2\n",
      " Michael-Ryan Fletchall    1\n",
      "Name: primary_name, dtype: int64.\n"
     ]
    }
   ],
   "source": [
    "print(f\"The directors who appear the most in 'the top 10 movies by worldwide gross' are {directors['primary_name'].value_counts().head(4)}.\")"
   ]
  },
  {
   "cell_type": "code",
   "execution_count": null,
   "metadata": {},
   "outputs": [],
   "source": []
  },
  {
   "cell_type": "code",
   "execution_count": null,
   "metadata": {},
   "outputs": [],
   "source": []
  },
  {
   "cell_type": "code",
   "execution_count": null,
   "metadata": {},
   "outputs": [],
   "source": []
  },
  {
   "cell_type": "code",
   "execution_count": null,
   "metadata": {},
   "outputs": [],
   "source": []
  },
  {
   "cell_type": "code",
   "execution_count": null,
   "metadata": {},
   "outputs": [],
   "source": []
  },
  {
   "cell_type": "code",
   "execution_count": null,
   "metadata": {},
   "outputs": [],
   "source": []
  },
  {
   "cell_type": "code",
   "execution_count": null,
   "metadata": {},
   "outputs": [],
   "source": []
  },
  {
   "cell_type": "code",
   "execution_count": null,
   "metadata": {},
   "outputs": [],
   "source": []
  },
  {
   "cell_type": "code",
   "execution_count": null,
   "metadata": {},
   "outputs": [],
   "source": []
  },
  {
   "cell_type": "code",
   "execution_count": null,
   "metadata": {},
   "outputs": [],
   "source": []
  },
  {
   "cell_type": "code",
   "execution_count": null,
   "metadata": {},
   "outputs": [],
   "source": []
  },
  {
   "cell_type": "code",
   "execution_count": null,
   "metadata": {},
   "outputs": [],
   "source": []
  },
  {
   "cell_type": "code",
   "execution_count": null,
   "metadata": {},
   "outputs": [],
   "source": []
  },
  {
   "cell_type": "code",
   "execution_count": null,
   "metadata": {},
   "outputs": [],
   "source": []
  },
  {
   "cell_type": "code",
   "execution_count": null,
   "metadata": {},
   "outputs": [],
   "source": []
  },
  {
   "cell_type": "code",
   "execution_count": null,
   "metadata": {},
   "outputs": [],
   "source": []
  },
  {
   "cell_type": "code",
   "execution_count": null,
   "metadata": {},
   "outputs": [],
   "source": []
  },
  {
   "cell_type": "code",
   "execution_count": null,
   "metadata": {},
   "outputs": [],
   "source": []
  },
  {
   "cell_type": "code",
   "execution_count": null,
   "metadata": {},
   "outputs": [],
   "source": []
  },
  {
   "cell_type": "code",
   "execution_count": null,
   "metadata": {},
   "outputs": [],
   "source": []
  },
  {
   "cell_type": "code",
   "execution_count": null,
   "metadata": {},
   "outputs": [],
   "source": []
  },
  {
   "cell_type": "code",
   "execution_count": null,
   "metadata": {},
   "outputs": [],
   "source": []
  },
  {
   "cell_type": "code",
   "execution_count": null,
   "metadata": {},
   "outputs": [],
   "source": []
  },
  {
   "cell_type": "code",
   "execution_count": null,
   "metadata": {},
   "outputs": [],
   "source": []
  },
  {
   "cell_type": "code",
   "execution_count": null,
   "metadata": {},
   "outputs": [],
   "source": []
  },
  {
   "cell_type": "code",
   "execution_count": null,
   "metadata": {},
   "outputs": [],
   "source": []
  },
  {
   "cell_type": "code",
   "execution_count": null,
   "metadata": {},
   "outputs": [],
   "source": []
  },
  {
   "cell_type": "code",
   "execution_count": null,
   "metadata": {},
   "outputs": [],
   "source": []
  },
  {
   "cell_type": "code",
   "execution_count": null,
   "metadata": {},
   "outputs": [],
   "source": []
  },
  {
   "cell_type": "code",
   "execution_count": null,
   "metadata": {},
   "outputs": [],
   "source": []
  },
  {
   "cell_type": "code",
   "execution_count": null,
   "metadata": {},
   "outputs": [],
   "source": []
  },
  {
   "cell_type": "code",
   "execution_count": null,
   "metadata": {},
   "outputs": [],
   "source": []
  },
  {
   "cell_type": "code",
   "execution_count": null,
   "metadata": {},
   "outputs": [],
   "source": []
  },
  {
   "cell_type": "code",
   "execution_count": null,
   "metadata": {},
   "outputs": [],
   "source": []
  },
  {
   "cell_type": "code",
   "execution_count": null,
   "metadata": {},
   "outputs": [],
   "source": []
  },
  {
   "cell_type": "code",
   "execution_count": null,
   "metadata": {},
   "outputs": [],
   "source": []
  },
  {
   "cell_type": "code",
   "execution_count": null,
   "metadata": {},
   "outputs": [],
   "source": []
  },
  {
   "cell_type": "code",
   "execution_count": null,
   "metadata": {},
   "outputs": [],
   "source": []
  },
  {
   "cell_type": "code",
   "execution_count": null,
   "metadata": {},
   "outputs": [],
   "source": []
  },
  {
   "cell_type": "code",
   "execution_count": null,
   "metadata": {},
   "outputs": [],
   "source": []
  },
  {
   "cell_type": "code",
   "execution_count": null,
   "metadata": {},
   "outputs": [],
   "source": []
  },
  {
   "cell_type": "code",
   "execution_count": null,
   "metadata": {},
   "outputs": [],
   "source": []
  },
  {
   "cell_type": "code",
   "execution_count": null,
   "metadata": {},
   "outputs": [],
   "source": []
  },
  {
   "cell_type": "code",
   "execution_count": null,
   "metadata": {},
   "outputs": [],
   "source": []
  },
  {
   "cell_type": "code",
   "execution_count": null,
   "metadata": {},
   "outputs": [],
   "source": []
  },
  {
   "cell_type": "code",
   "execution_count": null,
   "metadata": {},
   "outputs": [],
   "source": []
  },
  {
   "cell_type": "code",
   "execution_count": null,
   "metadata": {},
   "outputs": [],
   "source": []
  },
  {
   "cell_type": "code",
   "execution_count": null,
   "metadata": {},
   "outputs": [],
   "source": []
  },
  {
   "cell_type": "code",
   "execution_count": null,
   "metadata": {},
   "outputs": [],
   "source": []
  },
  {
   "cell_type": "code",
   "execution_count": null,
   "metadata": {},
   "outputs": [],
   "source": []
  },
  {
   "cell_type": "code",
   "execution_count": null,
   "metadata": {},
   "outputs": [],
   "source": []
  },
  {
   "cell_type": "code",
   "execution_count": null,
   "metadata": {},
   "outputs": [],
   "source": []
  },
  {
   "cell_type": "code",
   "execution_count": null,
   "metadata": {},
   "outputs": [],
   "source": []
  },
  {
   "cell_type": "code",
   "execution_count": null,
   "metadata": {},
   "outputs": [],
   "source": []
  },
  {
   "cell_type": "code",
   "execution_count": null,
   "metadata": {},
   "outputs": [],
   "source": []
  },
  {
   "cell_type": "code",
   "execution_count": null,
   "metadata": {},
   "outputs": [],
   "source": []
  },
  {
   "cell_type": "code",
   "execution_count": null,
   "metadata": {},
   "outputs": [],
   "source": []
  },
  {
   "cell_type": "code",
   "execution_count": null,
   "metadata": {},
   "outputs": [],
   "source": []
  },
  {
   "cell_type": "code",
   "execution_count": null,
   "metadata": {},
   "outputs": [],
   "source": []
  },
  {
   "cell_type": "code",
   "execution_count": null,
   "metadata": {},
   "outputs": [],
   "source": []
  },
  {
   "cell_type": "code",
   "execution_count": null,
   "metadata": {},
   "outputs": [],
   "source": []
  }
 ],
 "metadata": {
  "kernelspec": {
   "display_name": "Python 3",
   "language": "python",
   "name": "python3"
  },
  "language_info": {
   "codemirror_mode": {
    "name": "ipython",
    "version": 3
   },
   "file_extension": ".py",
   "mimetype": "text/x-python",
   "name": "python",
   "nbconvert_exporter": "python",
   "pygments_lexer": "ipython3",
   "version": "3.8.5"
  }
 },
 "nbformat": 4,
 "nbformat_minor": 2
}
