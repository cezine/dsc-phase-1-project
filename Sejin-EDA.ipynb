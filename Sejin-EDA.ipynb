{
 "cells": [
  {
   "cell_type": "markdown",
   "metadata": {},
   "source": [
    "## Final Project Submission\n",
    "\n",
    "Please fill out:\n",
    "* Student name: \n",
    "* Student pace: self paced / part time / full time\n",
    "* Scheduled project review date/time: \n",
    "* Instructor name: \n",
    "* Blog post URL:\n"
   ]
  },
  {
   "cell_type": "markdown",
   "metadata": {},
   "source": [
    "# Business Understanding\n",
    "\n"
   ]
  },
  {
   "cell_type": "code",
   "execution_count": 1,
   "metadata": {},
   "outputs": [
    {
     "data": {
      "text/html": [
       "<div>\n",
       "<style scoped>\n",
       "    .dataframe tbody tr th:only-of-type {\n",
       "        vertical-align: middle;\n",
       "    }\n",
       "\n",
       "    .dataframe tbody tr th {\n",
       "        vertical-align: top;\n",
       "    }\n",
       "\n",
       "    .dataframe thead th {\n",
       "        text-align: right;\n",
       "    }\n",
       "</style>\n",
       "<table border=\"1\" class=\"dataframe\">\n",
       "  <thead>\n",
       "    <tr style=\"text-align: right;\">\n",
       "      <th></th>\n",
       "      <th>release_date</th>\n",
       "      <th>movie</th>\n",
       "      <th>production_budget</th>\n",
       "      <th>domestic_gross</th>\n",
       "      <th>worldwide_gross</th>\n",
       "      <th>foreign_gross</th>\n",
       "      <th>profit</th>\n",
       "      <th>genres</th>\n",
       "      <th>director</th>\n",
       "    </tr>\n",
       "  </thead>\n",
       "  <tbody>\n",
       "    <tr>\n",
       "      <th>0</th>\n",
       "      <td>2011-05-20</td>\n",
       "      <td>Pirates of the Caribbean: On Stranger Tides 2011</td>\n",
       "      <td>410600000</td>\n",
       "      <td>241063875</td>\n",
       "      <td>1045663875</td>\n",
       "      <td>804600000</td>\n",
       "      <td>635063875</td>\n",
       "      <td>[Action, Adventure, Fantasy]</td>\n",
       "      <td>[Rob Marshall]</td>\n",
       "    </tr>\n",
       "    <tr>\n",
       "      <th>1</th>\n",
       "      <td>2019-06-07</td>\n",
       "      <td>Dark Phoenix 2019</td>\n",
       "      <td>350000000</td>\n",
       "      <td>42762350</td>\n",
       "      <td>149762350</td>\n",
       "      <td>107000000</td>\n",
       "      <td>-200237650</td>\n",
       "      <td>[Action, Adventure, Sci-Fi]</td>\n",
       "      <td>[Simon Kinberg]</td>\n",
       "    </tr>\n",
       "  </tbody>\n",
       "</table>\n",
       "</div>"
      ],
      "text/plain": [
       "  release_date                                             movie  \\\n",
       "0   2011-05-20  Pirates of the Caribbean: On Stranger Tides 2011   \n",
       "1   2019-06-07                                 Dark Phoenix 2019   \n",
       "\n",
       "   production_budget  domestic_gross  worldwide_gross  foreign_gross  \\\n",
       "0          410600000       241063875       1045663875      804600000   \n",
       "1          350000000        42762350        149762350      107000000   \n",
       "\n",
       "      profit                        genres         director  \n",
       "0  635063875  [Action, Adventure, Fantasy]   [Rob Marshall]  \n",
       "1 -200237650   [Action, Adventure, Sci-Fi]  [Simon Kinberg]  "
      ]
     },
     "metadata": {},
     "output_type": "display_data"
    },
    {
     "name": "stdout",
     "output_type": "stream",
     "text": [
      "<class 'pandas.core.frame.DataFrame'>\n",
      "RangeIndex: 1483 entries, 0 to 1482\n",
      "Data columns (total 9 columns):\n",
      " #   Column             Non-Null Count  Dtype \n",
      "---  ------             --------------  ----- \n",
      " 0   release_date       1483 non-null   object\n",
      " 1   movie              1483 non-null   object\n",
      " 2   production_budget  1483 non-null   int64 \n",
      " 3   domestic_gross     1483 non-null   int64 \n",
      " 4   worldwide_gross    1483 non-null   int64 \n",
      " 5   foreign_gross      1483 non-null   int64 \n",
      " 6   profit             1483 non-null   int64 \n",
      " 7   genres             1483 non-null   object\n",
      " 8   director           1483 non-null   object\n",
      "dtypes: int64(5), object(4)\n",
      "memory usage: 104.4+ KB\n"
     ]
    },
    {
     "data": {
      "text/plain": [
       "None"
      ]
     },
     "metadata": {},
     "output_type": "display_data"
    },
    {
     "data": {
      "text/plain": [
       "release_date         0\n",
       "movie                0\n",
       "production_budget    0\n",
       "domestic_gross       0\n",
       "worldwide_gross      0\n",
       "foreign_gross        0\n",
       "profit               0\n",
       "genres               0\n",
       "director             0\n",
       "dtype: int64"
      ]
     },
     "metadata": {},
     "output_type": "display_data"
    },
    {
     "data": {
      "text/plain": [
       "(None, None, None)"
      ]
     },
     "execution_count": 1,
     "metadata": {},
     "output_type": "execute_result"
    }
   ],
   "source": [
    "import pandas as pd\n",
    "import matplotlib.pyplot as plt\n",
    "import numpy as np\n",
    "import math\n",
    "import seaborn as sns\n",
    "%matplotlib inline\n",
    "df = pd.read_csv('Data/data-clean.csv')\n",
    "df.drop('Unnamed: 0',axis=1,inplace=True)\n",
    "\n",
    "#doing this here and not during data cleaning because this split doesnt survive being saved as .csv\n",
    "df['genres'] = df['genres'].map(lambda x: x.split(\",\"))\n",
    "df['director'] = df['director'].map(lambda x: x.split(\",\"))\n",
    "\n",
    "display(df.head(2)), display(df.info()) ,display(df.isna().sum())"
   ]
  },
  {
   "cell_type": "markdown",
   "metadata": {},
   "source": [
    "# Question: Is there any relationship between directors' performance and movies' success?"
   ]
  },
  {
   "cell_type": "markdown",
   "metadata": {},
   "source": [
    "After discovering the relationship between movie genres and movies' success, we were curious if there was any particular director who appeared frequently in successful movies.\n",
    "\n",
    "To answer this, we will first look at the top 10 movies by profit. "
   ]
  },
  {
   "cell_type": "code",
   "execution_count": 2,
   "metadata": {
    "scrolled": true
   },
   "outputs": [
    {
     "name": "stdout",
     "output_type": "stream",
     "text": [
      "This cleaned data we are using includes movies from 2010-01-08 to 2020-02-21.\n"
     ]
    }
   ],
   "source": [
    "print(f'This cleaned data we are using includes movies from {df.release_date.min()} to {df.release_date.max()}.')"
   ]
  },
  {
   "cell_type": "markdown",
   "metadata": {},
   "source": [
    "The first step will be preparing a new dataframe that has only the necessary columns. Then, we will find and visualize the top movies sorted by profit."
   ]
  },
  {
   "cell_type": "code",
   "execution_count": 3,
   "metadata": {
    "scrolled": true
   },
   "outputs": [
    {
     "data": {
      "text/html": [
       "<div>\n",
       "<style scoped>\n",
       "    .dataframe tbody tr th:only-of-type {\n",
       "        vertical-align: middle;\n",
       "    }\n",
       "\n",
       "    .dataframe tbody tr th {\n",
       "        vertical-align: top;\n",
       "    }\n",
       "\n",
       "    .dataframe thead th {\n",
       "        text-align: right;\n",
       "    }\n",
       "</style>\n",
       "<table border=\"1\" class=\"dataframe\">\n",
       "  <thead>\n",
       "    <tr style=\"text-align: right;\">\n",
       "      <th></th>\n",
       "      <th>movie</th>\n",
       "      <th>production_budget</th>\n",
       "      <th>profit</th>\n",
       "      <th>director</th>\n",
       "    </tr>\n",
       "  </thead>\n",
       "  <tbody>\n",
       "    <tr>\n",
       "      <th>0</th>\n",
       "      <td>Pirates of the Caribbean: On Stranger Tides 2011</td>\n",
       "      <td>410600000</td>\n",
       "      <td>635063875</td>\n",
       "      <td>[Rob Marshall]</td>\n",
       "    </tr>\n",
       "    <tr>\n",
       "      <th>1</th>\n",
       "      <td>Dark Phoenix 2019</td>\n",
       "      <td>350000000</td>\n",
       "      <td>-200237650</td>\n",
       "      <td>[Simon Kinberg]</td>\n",
       "    </tr>\n",
       "    <tr>\n",
       "      <th>2</th>\n",
       "      <td>Avengers: Age of Ultron 2015</td>\n",
       "      <td>330600000</td>\n",
       "      <td>1072413963</td>\n",
       "      <td>[Joss Whedon]</td>\n",
       "    </tr>\n",
       "    <tr>\n",
       "      <th>3</th>\n",
       "      <td>Avengers: Infinity War 2018</td>\n",
       "      <td>300000000</td>\n",
       "      <td>1748134200</td>\n",
       "      <td>[Anthony Russo,  Joe Russo]</td>\n",
       "    </tr>\n",
       "    <tr>\n",
       "      <th>4</th>\n",
       "      <td>Justice League 2017</td>\n",
       "      <td>300000000</td>\n",
       "      <td>355945209</td>\n",
       "      <td>[Zack Snyder]</td>\n",
       "    </tr>\n",
       "    <tr>\n",
       "      <th>...</th>\n",
       "      <td>...</td>\n",
       "      <td>...</td>\n",
       "      <td>...</td>\n",
       "      <td>...</td>\n",
       "    </tr>\n",
       "    <tr>\n",
       "      <th>1478</th>\n",
       "      <td>Emily 2017</td>\n",
       "      <td>27000</td>\n",
       "      <td>-23453</td>\n",
       "      <td>[Ryan Graves]</td>\n",
       "    </tr>\n",
       "    <tr>\n",
       "      <th>1479</th>\n",
       "      <td>Exeter 2015</td>\n",
       "      <td>25000</td>\n",
       "      <td>464792</td>\n",
       "      <td>[Marcus Nispel]</td>\n",
       "    </tr>\n",
       "    <tr>\n",
       "      <th>1480</th>\n",
       "      <td>Dutch Kills 2015</td>\n",
       "      <td>25000</td>\n",
       "      <td>-25000</td>\n",
       "      <td>[Joseph Mazzella]</td>\n",
       "    </tr>\n",
       "    <tr>\n",
       "      <th>1481</th>\n",
       "      <td>The Ridges 2011</td>\n",
       "      <td>17300</td>\n",
       "      <td>-17300</td>\n",
       "      <td>[Brandon Landers]</td>\n",
       "    </tr>\n",
       "    <tr>\n",
       "      <th>1482</th>\n",
       "      <td>Stories of Our Lives 2014</td>\n",
       "      <td>15000</td>\n",
       "      <td>-15000</td>\n",
       "      <td>[Jim Chuchu]</td>\n",
       "    </tr>\n",
       "  </tbody>\n",
       "</table>\n",
       "<p>1483 rows × 4 columns</p>\n",
       "</div>"
      ],
      "text/plain": [
       "                                                 movie  production_budget  \\\n",
       "0     Pirates of the Caribbean: On Stranger Tides 2011          410600000   \n",
       "1                                    Dark Phoenix 2019          350000000   \n",
       "2                         Avengers: Age of Ultron 2015          330600000   \n",
       "3                          Avengers: Infinity War 2018          300000000   \n",
       "4                                  Justice League 2017          300000000   \n",
       "...                                                ...                ...   \n",
       "1478                                        Emily 2017              27000   \n",
       "1479                                       Exeter 2015              25000   \n",
       "1480                                  Dutch Kills 2015              25000   \n",
       "1481                                   The Ridges 2011              17300   \n",
       "1482                         Stories of Our Lives 2014              15000   \n",
       "\n",
       "          profit                     director  \n",
       "0      635063875               [Rob Marshall]  \n",
       "1     -200237650              [Simon Kinberg]  \n",
       "2     1072413963                [Joss Whedon]  \n",
       "3     1748134200  [Anthony Russo,  Joe Russo]  \n",
       "4      355945209                [Zack Snyder]  \n",
       "...          ...                          ...  \n",
       "1478      -23453                [Ryan Graves]  \n",
       "1479      464792              [Marcus Nispel]  \n",
       "1480      -25000            [Joseph Mazzella]  \n",
       "1481      -17300            [Brandon Landers]  \n",
       "1482      -15000                 [Jim Chuchu]  \n",
       "\n",
       "[1483 rows x 4 columns]"
      ]
     },
     "execution_count": 3,
     "metadata": {},
     "output_type": "execute_result"
    }
   ],
   "source": [
    "# Keeping only the necessary columns\n",
    "q3_df = df.loc[:, ['movie', 'production_budget', 'profit', 'director']]\n",
    "q3_df"
   ]
  },
  {
   "cell_type": "code",
   "execution_count": 4,
   "metadata": {
    "scrolled": true
   },
   "outputs": [
    {
     "data": {
      "text/html": [
       "<div>\n",
       "<style scoped>\n",
       "    .dataframe tbody tr th:only-of-type {\n",
       "        vertical-align: middle;\n",
       "    }\n",
       "\n",
       "    .dataframe tbody tr th {\n",
       "        vertical-align: top;\n",
       "    }\n",
       "\n",
       "    .dataframe thead th {\n",
       "        text-align: right;\n",
       "    }\n",
       "</style>\n",
       "<table border=\"1\" class=\"dataframe\">\n",
       "  <thead>\n",
       "    <tr style=\"text-align: right;\">\n",
       "      <th></th>\n",
       "      <th>production_budget</th>\n",
       "      <th>profit</th>\n",
       "      <th>director</th>\n",
       "    </tr>\n",
       "    <tr>\n",
       "      <th>movie</th>\n",
       "      <th></th>\n",
       "      <th></th>\n",
       "      <th></th>\n",
       "    </tr>\n",
       "  </thead>\n",
       "  <tbody>\n",
       "    <tr>\n",
       "      <th>Avengers: Infinity War 2018</th>\n",
       "      <td>300000000</td>\n",
       "      <td>1748134200</td>\n",
       "      <td>[Anthony Russo,  Joe Russo]</td>\n",
       "    </tr>\n",
       "    <tr>\n",
       "      <th>Jurassic World 2015</th>\n",
       "      <td>215000000</td>\n",
       "      <td>1433854864</td>\n",
       "      <td>[Colin Trevorrow]</td>\n",
       "    </tr>\n",
       "    <tr>\n",
       "      <th>Furious 7 2015</th>\n",
       "      <td>190000000</td>\n",
       "      <td>1328722794</td>\n",
       "      <td>[James Wan]</td>\n",
       "    </tr>\n",
       "    <tr>\n",
       "      <th>The Avengers 2012</th>\n",
       "      <td>225000000</td>\n",
       "      <td>1292935897</td>\n",
       "      <td>[Joss Whedon]</td>\n",
       "    </tr>\n",
       "    <tr>\n",
       "      <th>Black Panther 2018</th>\n",
       "      <td>200000000</td>\n",
       "      <td>1148258224</td>\n",
       "      <td>[Ryan Coogler]</td>\n",
       "    </tr>\n",
       "    <tr>\n",
       "      <th>Jurassic World: Fallen Kingdom 2018</th>\n",
       "      <td>170000000</td>\n",
       "      <td>1135772799</td>\n",
       "      <td>[J.A. Bayona]</td>\n",
       "    </tr>\n",
       "    <tr>\n",
       "      <th>Frozen 2013</th>\n",
       "      <td>150000000</td>\n",
       "      <td>1122469910</td>\n",
       "      <td>[Chris Buck,  Jennifer Lee]</td>\n",
       "    </tr>\n",
       "    <tr>\n",
       "      <th>Beauty and the Beast 2017</th>\n",
       "      <td>160000000</td>\n",
       "      <td>1099199706</td>\n",
       "      <td>[Bill Condon]</td>\n",
       "    </tr>\n",
       "    <tr>\n",
       "      <th>Minions 2015</th>\n",
       "      <td>74000000</td>\n",
       "      <td>1086336173</td>\n",
       "      <td>[Pierre Coffin,  Kyle Balda]</td>\n",
       "    </tr>\n",
       "    <tr>\n",
       "      <th>Avengers: Age of Ultron 2015</th>\n",
       "      <td>330600000</td>\n",
       "      <td>1072413963</td>\n",
       "      <td>[Joss Whedon]</td>\n",
       "    </tr>\n",
       "  </tbody>\n",
       "</table>\n",
       "</div>"
      ],
      "text/plain": [
       "                                     production_budget      profit  \\\n",
       "movie                                                                \n",
       "Avengers: Infinity War 2018                  300000000  1748134200   \n",
       "Jurassic World 2015                          215000000  1433854864   \n",
       "Furious 7 2015                               190000000  1328722794   \n",
       "The Avengers 2012                            225000000  1292935897   \n",
       "Black Panther 2018                           200000000  1148258224   \n",
       "Jurassic World: Fallen Kingdom 2018          170000000  1135772799   \n",
       "Frozen 2013                                  150000000  1122469910   \n",
       "Beauty and the Beast 2017                    160000000  1099199706   \n",
       "Minions 2015                                  74000000  1086336173   \n",
       "Avengers: Age of Ultron 2015                 330600000  1072413963   \n",
       "\n",
       "                                                         director  \n",
       "movie                                                              \n",
       "Avengers: Infinity War 2018           [Anthony Russo,  Joe Russo]  \n",
       "Jurassic World 2015                             [Colin Trevorrow]  \n",
       "Furious 7 2015                                        [James Wan]  \n",
       "The Avengers 2012                                   [Joss Whedon]  \n",
       "Black Panther 2018                                 [Ryan Coogler]  \n",
       "Jurassic World: Fallen Kingdom 2018                 [J.A. Bayona]  \n",
       "Frozen 2013                           [Chris Buck,  Jennifer Lee]  \n",
       "Beauty and the Beast 2017                           [Bill Condon]  \n",
       "Minions 2015                         [Pierre Coffin,  Kyle Balda]  \n",
       "Avengers: Age of Ultron 2015                        [Joss Whedon]  "
      ]
     },
     "execution_count": 4,
     "metadata": {},
     "output_type": "execute_result"
    }
   ],
   "source": [
    "# Finding the top 10 movies by 'profit'\n",
    "top10_profit = q3_df.sort_values(by='profit', ascending=False).head(10)\n",
    "top10_profit = top10_profit.set_index('movie')\n",
    "top10_profit"
   ]
  },
  {
   "cell_type": "code",
   "execution_count": 5,
   "metadata": {},
   "outputs": [],
   "source": [
    "# Visualizing the top 10 movies by 'profit' \n",
    "# Bar chart\n",
    "#ax1 = top10_profit.plot(kind='barh')\n",
    "        \n",
    "#ax1.set_xlabel(\"Profit\")\n",
    "#ax1.set_title(\"Top 10 Movies by Profit 2010-2020\")\n",
    "#ax1.legend(bbox_to_anchor=(1, 1), loc='upper left', ncol=1);"
   ]
  },
  {
   "cell_type": "code",
   "execution_count": 6,
   "metadata": {
    "scrolled": true
   },
   "outputs": [
    {
     "data": {
      "image/png": "[encoded data removed]",
      "text/plain": [
       "<Figure size 1440x864 with 1 Axes>"
      ]
     },
     "metadata": {
      "needs_background": "light"
     },
     "output_type": "display_data"
    }
   ],
   "source": [
    "# Stacked bar chart\n",
    "ax = top10_profit.plot(kind='barh', stacked=True, figsize=(20,12), fontsize=25)\n",
    "\n",
    "ax.set_xlabel(\"Profit in USD Billion\", fontsize=25, labelpad=20)\n",
    "ax.set_title(\"Top 10 Movies by Profit 2010-2020\", fontsize=35, pad=30)\n",
    "ax.legend(bbox_to_anchor=(1, 1), loc='upper left', ncol=1, fontsize=20);"
   ]
  },
  {
   "cell_type": "code",
   "execution_count": 7,
   "metadata": {},
   "outputs": [
    {
     "ename": "TypeError",
     "evalue": "unhashable type: 'list'",
     "output_type": "error",
     "traceback": [
      "\u001b[0;31m---------------------------------------------------------------------------\u001b[0m",
      "\u001b[0;31mTypeError\u001b[0m                                 Traceback (most recent call last)",
      "\u001b[0;32mpandas/_libs/hashtable_class_helper.pxi\u001b[0m in \u001b[0;36mpandas._libs.hashtable.PyObjectHashTable.map_locations\u001b[0;34m()\u001b[0m\n",
      "\u001b[0;31mTypeError\u001b[0m: unhashable type: 'list'"
     ]
    },
    {
     "name": "stderr",
     "output_type": "stream",
     "text": [
      "Exception ignored in: 'pandas._libs.index.IndexEngine._call_map_locations'\n",
      "Traceback (most recent call last):\n",
      "  File \"pandas/_libs/hashtable_class_helper.pxi\", line 1709, in pandas._libs.hashtable.PyObjectHashTable.map_locations\n",
      "TypeError: unhashable type: 'list'\n"
     ]
    },
    {
     "data": {
      "text/plain": [
       "[Joss Whedon]                   2\n",
       "[J.A. Bayona]                   1\n",
       "[Colin Trevorrow]               1\n",
       "[Anthony Russo,  Joe Russo]     1\n",
       "[Chris Buck,  Jennifer Lee]     1\n",
       "[Pierre Coffin,  Kyle Balda]    1\n",
       "[Ryan Coogler]                  1\n",
       "[James Wan]                     1\n",
       "[Bill Condon]                   1\n",
       "Name: director, dtype: int64"
      ]
     },
     "execution_count": 7,
     "metadata": {},
     "output_type": "execute_result"
    }
   ],
   "source": [
    "top10_profit['director'].value_counts()"
   ]
  },
  {
   "cell_type": "code",
   "execution_count": 8,
   "metadata": {},
   "outputs": [
    {
     "name": "stdout",
     "output_type": "stream",
     "text": [
      "The directors who appear the most in the 'Top 10 Movies by Profit' are [Joss Whedon]    2\n",
      "[J.A. Bayona]    1\n",
      "Name: director, dtype: int64.\n"
     ]
    }
   ],
   "source": [
    "print(f\"The directors who appear the most in the 'Top 10 Movies by Profit' are {top10_profit['director'].value_counts().head(2)}.\")"
   ]
  },
  {
   "cell_type": "markdown",
   "metadata": {},
   "source": [
    "We found out the top 10 movies by profit and their directors.  The dirctor, Joss Whedon, appeared the most (2 times) in the top 10 movies by profit. \n",
    "\n",
    "However, based on this result, it is difficult to say that there is any correlation between directors' performance and the movie success. We want to go back and check the previous dataframe with all the movies and see if there is any correlation between them at all. \n",
    "\n",
    "We will count the number of movies that each director made and calculate their average return.  "
   ]
  },
  {
   "cell_type": "markdown",
   "metadata": {},
   "source": [
    "Before investigating, we notice that the director column has nested lists. We would like to expand these so we have individaul director per row."
   ]
  },
  {
   "cell_type": "code",
   "execution_count": 9,
   "metadata": {},
   "outputs": [],
   "source": [
    "### Finding correlation between directors' performance and profit"
   ]
  },
  {
   "cell_type": "code",
   "execution_count": 10,
   "metadata": {
    "scrolled": true
   },
   "outputs": [
    {
     "data": {
      "text/html": [
       "<div>\n",
       "<style scoped>\n",
       "    .dataframe tbody tr th:only-of-type {\n",
       "        vertical-align: middle;\n",
       "    }\n",
       "\n",
       "    .dataframe tbody tr th {\n",
       "        vertical-align: top;\n",
       "    }\n",
       "\n",
       "    .dataframe thead th {\n",
       "        text-align: right;\n",
       "    }\n",
       "</style>\n",
       "<table border=\"1\" class=\"dataframe\">\n",
       "  <thead>\n",
       "    <tr style=\"text-align: right;\">\n",
       "      <th></th>\n",
       "      <th>movie</th>\n",
       "      <th>production_budget</th>\n",
       "      <th>profit</th>\n",
       "      <th>director</th>\n",
       "    </tr>\n",
       "  </thead>\n",
       "  <tbody>\n",
       "    <tr>\n",
       "      <th>0</th>\n",
       "      <td>Pirates of the Caribbean: On Stranger Tides 2011</td>\n",
       "      <td>410600000</td>\n",
       "      <td>635063875</td>\n",
       "      <td>Rob Marshall</td>\n",
       "    </tr>\n",
       "    <tr>\n",
       "      <th>1</th>\n",
       "      <td>Dark Phoenix 2019</td>\n",
       "      <td>350000000</td>\n",
       "      <td>-200237650</td>\n",
       "      <td>Simon Kinberg</td>\n",
       "    </tr>\n",
       "    <tr>\n",
       "      <th>2</th>\n",
       "      <td>Avengers: Age of Ultron 2015</td>\n",
       "      <td>330600000</td>\n",
       "      <td>1072413963</td>\n",
       "      <td>Joss Whedon</td>\n",
       "    </tr>\n",
       "    <tr>\n",
       "      <th>3</th>\n",
       "      <td>Avengers: Infinity War 2018</td>\n",
       "      <td>300000000</td>\n",
       "      <td>1748134200</td>\n",
       "      <td>Anthony Russo</td>\n",
       "    </tr>\n",
       "    <tr>\n",
       "      <th>3</th>\n",
       "      <td>Avengers: Infinity War 2018</td>\n",
       "      <td>300000000</td>\n",
       "      <td>1748134200</td>\n",
       "      <td>Joe Russo</td>\n",
       "    </tr>\n",
       "    <tr>\n",
       "      <th>...</th>\n",
       "      <td>...</td>\n",
       "      <td>...</td>\n",
       "      <td>...</td>\n",
       "      <td>...</td>\n",
       "    </tr>\n",
       "    <tr>\n",
       "      <th>1478</th>\n",
       "      <td>Emily 2017</td>\n",
       "      <td>27000</td>\n",
       "      <td>-23453</td>\n",
       "      <td>Ryan Graves</td>\n",
       "    </tr>\n",
       "    <tr>\n",
       "      <th>1479</th>\n",
       "      <td>Exeter 2015</td>\n",
       "      <td>25000</td>\n",
       "      <td>464792</td>\n",
       "      <td>Marcus Nispel</td>\n",
       "    </tr>\n",
       "    <tr>\n",
       "      <th>1480</th>\n",
       "      <td>Dutch Kills 2015</td>\n",
       "      <td>25000</td>\n",
       "      <td>-25000</td>\n",
       "      <td>Joseph Mazzella</td>\n",
       "    </tr>\n",
       "    <tr>\n",
       "      <th>1481</th>\n",
       "      <td>The Ridges 2011</td>\n",
       "      <td>17300</td>\n",
       "      <td>-17300</td>\n",
       "      <td>Brandon Landers</td>\n",
       "    </tr>\n",
       "    <tr>\n",
       "      <th>1482</th>\n",
       "      <td>Stories of Our Lives 2014</td>\n",
       "      <td>15000</td>\n",
       "      <td>-15000</td>\n",
       "      <td>Jim Chuchu</td>\n",
       "    </tr>\n",
       "  </tbody>\n",
       "</table>\n",
       "<p>1634 rows × 4 columns</p>\n",
       "</div>"
      ],
      "text/plain": [
       "                                                 movie  production_budget  \\\n",
       "0     Pirates of the Caribbean: On Stranger Tides 2011          410600000   \n",
       "1                                    Dark Phoenix 2019          350000000   \n",
       "2                         Avengers: Age of Ultron 2015          330600000   \n",
       "3                          Avengers: Infinity War 2018          300000000   \n",
       "3                          Avengers: Infinity War 2018          300000000   \n",
       "...                                                ...                ...   \n",
       "1478                                        Emily 2017              27000   \n",
       "1479                                       Exeter 2015              25000   \n",
       "1480                                  Dutch Kills 2015              25000   \n",
       "1481                                   The Ridges 2011              17300   \n",
       "1482                         Stories of Our Lives 2014              15000   \n",
       "\n",
       "          profit         director  \n",
       "0      635063875     Rob Marshall  \n",
       "1     -200237650    Simon Kinberg  \n",
       "2     1072413963      Joss Whedon  \n",
       "3     1748134200    Anthony Russo  \n",
       "3     1748134200        Joe Russo  \n",
       "...          ...              ...  \n",
       "1478      -23453      Ryan Graves  \n",
       "1479      464792    Marcus Nispel  \n",
       "1480      -25000  Joseph Mazzella  \n",
       "1481      -17300  Brandon Landers  \n",
       "1482      -15000       Jim Chuchu  \n",
       "\n",
       "[1634 rows x 4 columns]"
      ]
     },
     "execution_count": 10,
     "metadata": {},
     "output_type": "execute_result"
    }
   ],
   "source": [
    "# Creating a new dataframe 'individual_df' with 'director' column expanded to show individaul director per row\n",
    "individual_df = q3_df.explode('director')\n",
    "individual_df"
   ]
  },
  {
   "cell_type": "code",
   "execution_count": 11,
   "metadata": {
    "scrolled": false
   },
   "outputs": [
    {
     "data": {
      "text/plain": [
       "Tim Story               8\n",
       "Clint Eastwood          7\n",
       "Steven Spielberg        7\n",
       "Ridley Scott            6\n",
       "Jon M. Chu              6\n",
       "                       ..\n",
       " Ron Clements           1\n",
       "Alejandro Monteverde    1\n",
       "Andrew Adamson          1\n",
       "Gus Van Sant            1\n",
       "Noam Murro              1\n",
       "Name: director, Length: 1122, dtype: int64"
      ]
     },
     "execution_count": 11,
     "metadata": {},
     "output_type": "execute_result"
    }
   ],
   "source": [
    "# Counting movies made by each director\n",
    "individual_df['director'].value_counts()"
   ]
  },
  {
   "cell_type": "code",
   "execution_count": 12,
   "metadata": {
    "scrolled": true
   },
   "outputs": [
    {
     "data": {
      "text/html": [
       "<div>\n",
       "<style scoped>\n",
       "    .dataframe tbody tr th:only-of-type {\n",
       "        vertical-align: middle;\n",
       "    }\n",
       "\n",
       "    .dataframe tbody tr th {\n",
       "        vertical-align: top;\n",
       "    }\n",
       "\n",
       "    .dataframe thead th {\n",
       "        text-align: right;\n",
       "    }\n",
       "</style>\n",
       "<table border=\"1\" class=\"dataframe\">\n",
       "  <thead>\n",
       "    <tr style=\"text-align: right;\">\n",
       "      <th></th>\n",
       "      <th></th>\n",
       "      <th>production_budget</th>\n",
       "      <th>profit</th>\n",
       "      <th>#movies_by_director</th>\n",
       "    </tr>\n",
       "    <tr>\n",
       "      <th>director</th>\n",
       "      <th>movie</th>\n",
       "      <th></th>\n",
       "      <th></th>\n",
       "      <th></th>\n",
       "    </tr>\n",
       "  </thead>\n",
       "  <tbody>\n",
       "    <tr>\n",
       "      <th>Aaron Seltzer</th>\n",
       "      <th>Vampires Suck 2010</th>\n",
       "      <td>20000000</td>\n",
       "      <td>61424988</td>\n",
       "      <td>1</td>\n",
       "    </tr>\n",
       "    <tr>\n",
       "      <th>Aaron T. Wells</th>\n",
       "      <th>Girls Gone Dead 2012</th>\n",
       "      <td>500000</td>\n",
       "      <td>-500000</td>\n",
       "      <td>1</td>\n",
       "    </tr>\n",
       "    <tr>\n",
       "      <th>Abby Kohn</th>\n",
       "      <th>I Feel Pretty 2018</th>\n",
       "      <td>32000000</td>\n",
       "      <td>59553797</td>\n",
       "      <td>1</td>\n",
       "    </tr>\n",
       "    <tr>\n",
       "      <th>Adam Busch</th>\n",
       "      <th>Drones 2010</th>\n",
       "      <td>500000</td>\n",
       "      <td>-500000</td>\n",
       "      <td>1</td>\n",
       "    </tr>\n",
       "    <tr>\n",
       "      <th>Adam Montierth</th>\n",
       "      <th>Locker 13 2014</th>\n",
       "      <td>300000</td>\n",
       "      <td>-296504</td>\n",
       "      <td>1</td>\n",
       "    </tr>\n",
       "    <tr>\n",
       "      <th>...</th>\n",
       "      <th>...</th>\n",
       "      <td>...</td>\n",
       "      <td>...</td>\n",
       "      <td>...</td>\n",
       "    </tr>\n",
       "    <tr>\n",
       "      <th rowspan=\"4\" valign=\"top\">Zack Snyder</th>\n",
       "      <th>Justice League 2017</th>\n",
       "      <td>300000000</td>\n",
       "      <td>355945209</td>\n",
       "      <td>5</td>\n",
       "    </tr>\n",
       "    <tr>\n",
       "      <th>Legend of the Guardians: The Owls of Ga'Hoole 2010</th>\n",
       "      <td>100000000</td>\n",
       "      <td>39716717</td>\n",
       "      <td>5</td>\n",
       "    </tr>\n",
       "    <tr>\n",
       "      <th>Man of Steel 2013</th>\n",
       "      <td>225000000</td>\n",
       "      <td>442999518</td>\n",
       "      <td>5</td>\n",
       "    </tr>\n",
       "    <tr>\n",
       "      <th>Sucker Punch 2011</th>\n",
       "      <td>75000000</td>\n",
       "      <td>14758389</td>\n",
       "      <td>5</td>\n",
       "    </tr>\n",
       "    <tr>\n",
       "      <th>Zal Batmanglij</th>\n",
       "      <th>The East 2013</th>\n",
       "      <td>6500000</td>\n",
       "      <td>-3472044</td>\n",
       "      <td>1</td>\n",
       "    </tr>\n",
       "  </tbody>\n",
       "</table>\n",
       "<p>1634 rows × 3 columns</p>\n",
       "</div>"
      ],
      "text/plain": [
       "                                                                    production_budget  \\\n",
       "director        movie                                                                   \n",
       " Aaron Seltzer  Vampires Suck 2010                                           20000000   \n",
       " Aaron T. Wells Girls Gone Dead 2012                                           500000   \n",
       " Abby Kohn      I Feel Pretty 2018                                           32000000   \n",
       " Adam Busch     Drones 2010                                                    500000   \n",
       " Adam Montierth Locker 13 2014                                                 300000   \n",
       "...                                                                               ...   \n",
       "Zack Snyder     Justice League 2017                                         300000000   \n",
       "                Legend of the Guardians: The Owls of Ga'Hoole 2010          100000000   \n",
       "                Man of Steel 2013                                           225000000   \n",
       "                Sucker Punch 2011                                            75000000   \n",
       "Zal Batmanglij  The East 2013                                                 6500000   \n",
       "\n",
       "                                                                       profit  \\\n",
       "director        movie                                                           \n",
       " Aaron Seltzer  Vampires Suck 2010                                   61424988   \n",
       " Aaron T. Wells Girls Gone Dead 2012                                  -500000   \n",
       " Abby Kohn      I Feel Pretty 2018                                   59553797   \n",
       " Adam Busch     Drones 2010                                           -500000   \n",
       " Adam Montierth Locker 13 2014                                        -296504   \n",
       "...                                                                       ...   \n",
       "Zack Snyder     Justice League 2017                                 355945209   \n",
       "                Legend of the Guardians: The Owls of Ga'Hoole 2010   39716717   \n",
       "                Man of Steel 2013                                   442999518   \n",
       "                Sucker Punch 2011                                    14758389   \n",
       "Zal Batmanglij  The East 2013                                        -3472044   \n",
       "\n",
       "                                                                    #movies_by_director  \n",
       "director        movie                                                                    \n",
       " Aaron Seltzer  Vampires Suck 2010                                                    1  \n",
       " Aaron T. Wells Girls Gone Dead 2012                                                  1  \n",
       " Abby Kohn      I Feel Pretty 2018                                                    1  \n",
       " Adam Busch     Drones 2010                                                           1  \n",
       " Adam Montierth Locker 13 2014                                                        1  \n",
       "...                                                                                 ...  \n",
       "Zack Snyder     Justice League 2017                                                   5  \n",
       "                Legend of the Guardians: The Owls of Ga'Hoole 2010                    5  \n",
       "                Man of Steel 2013                                                     5  \n",
       "                Sucker Punch 2011                                                     5  \n",
       "Zal Batmanglij  The East 2013                                                         1  \n",
       "\n",
       "[1634 rows x 3 columns]"
      ]
     },
     "execution_count": 12,
     "metadata": {},
     "output_type": "execute_result"
    }
   ],
   "source": [
    "# Creating a column that shows the number of movies made by the individual director\n",
    "individual_df['#movies_by_director'] = individual_df.groupby(['director'])['movie'].transform('count')\n",
    "\n",
    "# Organizing the dataframe by 'director' and 'movie'\n",
    "individual_df.groupby(by=['director','movie']).sum()"
   ]
  },
  {
   "cell_type": "code",
   "execution_count": 13,
   "metadata": {},
   "outputs": [
    {
     "data": {
      "text/html": [
       "<div>\n",
       "<style scoped>\n",
       "    .dataframe tbody tr th:only-of-type {\n",
       "        vertical-align: middle;\n",
       "    }\n",
       "\n",
       "    .dataframe tbody tr th {\n",
       "        vertical-align: top;\n",
       "    }\n",
       "\n",
       "    .dataframe thead th {\n",
       "        text-align: right;\n",
       "    }\n",
       "</style>\n",
       "<table border=\"1\" class=\"dataframe\">\n",
       "  <thead>\n",
       "    <tr style=\"text-align: right;\">\n",
       "      <th></th>\n",
       "      <th></th>\n",
       "      <th>production_budget</th>\n",
       "      <th>profit</th>\n",
       "      <th>#movies_by_director</th>\n",
       "      <th>avg_profit</th>\n",
       "    </tr>\n",
       "    <tr>\n",
       "      <th>director</th>\n",
       "      <th>movie</th>\n",
       "      <th></th>\n",
       "      <th></th>\n",
       "      <th></th>\n",
       "      <th></th>\n",
       "    </tr>\n",
       "  </thead>\n",
       "  <tbody>\n",
       "    <tr>\n",
       "      <th>Aaron Seltzer</th>\n",
       "      <th>Vampires Suck 2010</th>\n",
       "      <td>20000000</td>\n",
       "      <td>61424988</td>\n",
       "      <td>1</td>\n",
       "      <td>61424988.0</td>\n",
       "    </tr>\n",
       "    <tr>\n",
       "      <th>Aaron T. Wells</th>\n",
       "      <th>Girls Gone Dead 2012</th>\n",
       "      <td>500000</td>\n",
       "      <td>-500000</td>\n",
       "      <td>1</td>\n",
       "      <td>-500000.0</td>\n",
       "    </tr>\n",
       "    <tr>\n",
       "      <th>Abby Kohn</th>\n",
       "      <th>I Feel Pretty 2018</th>\n",
       "      <td>32000000</td>\n",
       "      <td>59553797</td>\n",
       "      <td>1</td>\n",
       "      <td>59553797.0</td>\n",
       "    </tr>\n",
       "    <tr>\n",
       "      <th>Adam Busch</th>\n",
       "      <th>Drones 2010</th>\n",
       "      <td>500000</td>\n",
       "      <td>-500000</td>\n",
       "      <td>1</td>\n",
       "      <td>-500000.0</td>\n",
       "    </tr>\n",
       "    <tr>\n",
       "      <th>Adam Montierth</th>\n",
       "      <th>Locker 13 2014</th>\n",
       "      <td>300000</td>\n",
       "      <td>-296504</td>\n",
       "      <td>1</td>\n",
       "      <td>-296504.0</td>\n",
       "    </tr>\n",
       "    <tr>\n",
       "      <th>...</th>\n",
       "      <th>...</th>\n",
       "      <td>...</td>\n",
       "      <td>...</td>\n",
       "      <td>...</td>\n",
       "      <td>...</td>\n",
       "    </tr>\n",
       "    <tr>\n",
       "      <th rowspan=\"4\" valign=\"top\">Zack Snyder</th>\n",
       "      <th>Justice League 2017</th>\n",
       "      <td>300000000</td>\n",
       "      <td>355945209</td>\n",
       "      <td>5</td>\n",
       "      <td>294184022.8</td>\n",
       "    </tr>\n",
       "    <tr>\n",
       "      <th>Legend of the Guardians: The Owls of Ga'Hoole 2010</th>\n",
       "      <td>100000000</td>\n",
       "      <td>39716717</td>\n",
       "      <td>5</td>\n",
       "      <td>294184022.8</td>\n",
       "    </tr>\n",
       "    <tr>\n",
       "      <th>Man of Steel 2013</th>\n",
       "      <td>225000000</td>\n",
       "      <td>442999518</td>\n",
       "      <td>5</td>\n",
       "      <td>294184022.8</td>\n",
       "    </tr>\n",
       "    <tr>\n",
       "      <th>Sucker Punch 2011</th>\n",
       "      <td>75000000</td>\n",
       "      <td>14758389</td>\n",
       "      <td>5</td>\n",
       "      <td>294184022.8</td>\n",
       "    </tr>\n",
       "    <tr>\n",
       "      <th>Zal Batmanglij</th>\n",
       "      <th>The East 2013</th>\n",
       "      <td>6500000</td>\n",
       "      <td>-3472044</td>\n",
       "      <td>1</td>\n",
       "      <td>-3472044.0</td>\n",
       "    </tr>\n",
       "  </tbody>\n",
       "</table>\n",
       "<p>1634 rows × 4 columns</p>\n",
       "</div>"
      ],
      "text/plain": [
       "                                                                    production_budget  \\\n",
       "director        movie                                                                   \n",
       " Aaron Seltzer  Vampires Suck 2010                                           20000000   \n",
       " Aaron T. Wells Girls Gone Dead 2012                                           500000   \n",
       " Abby Kohn      I Feel Pretty 2018                                           32000000   \n",
       " Adam Busch     Drones 2010                                                    500000   \n",
       " Adam Montierth Locker 13 2014                                                 300000   \n",
       "...                                                                               ...   \n",
       "Zack Snyder     Justice League 2017                                         300000000   \n",
       "                Legend of the Guardians: The Owls of Ga'Hoole 2010          100000000   \n",
       "                Man of Steel 2013                                           225000000   \n",
       "                Sucker Punch 2011                                            75000000   \n",
       "Zal Batmanglij  The East 2013                                                 6500000   \n",
       "\n",
       "                                                                       profit  \\\n",
       "director        movie                                                           \n",
       " Aaron Seltzer  Vampires Suck 2010                                   61424988   \n",
       " Aaron T. Wells Girls Gone Dead 2012                                  -500000   \n",
       " Abby Kohn      I Feel Pretty 2018                                   59553797   \n",
       " Adam Busch     Drones 2010                                           -500000   \n",
       " Adam Montierth Locker 13 2014                                        -296504   \n",
       "...                                                                       ...   \n",
       "Zack Snyder     Justice League 2017                                 355945209   \n",
       "                Legend of the Guardians: The Owls of Ga'Hoole 2010   39716717   \n",
       "                Man of Steel 2013                                   442999518   \n",
       "                Sucker Punch 2011                                    14758389   \n",
       "Zal Batmanglij  The East 2013                                        -3472044   \n",
       "\n",
       "                                                                    #movies_by_director  \\\n",
       "director        movie                                                                     \n",
       " Aaron Seltzer  Vampires Suck 2010                                                    1   \n",
       " Aaron T. Wells Girls Gone Dead 2012                                                  1   \n",
       " Abby Kohn      I Feel Pretty 2018                                                    1   \n",
       " Adam Busch     Drones 2010                                                           1   \n",
       " Adam Montierth Locker 13 2014                                                        1   \n",
       "...                                                                                 ...   \n",
       "Zack Snyder     Justice League 2017                                                   5   \n",
       "                Legend of the Guardians: The Owls of Ga'Hoole 2010                    5   \n",
       "                Man of Steel 2013                                                     5   \n",
       "                Sucker Punch 2011                                                     5   \n",
       "Zal Batmanglij  The East 2013                                                         1   \n",
       "\n",
       "                                                                     avg_profit  \n",
       "director        movie                                                            \n",
       " Aaron Seltzer  Vampires Suck 2010                                   61424988.0  \n",
       " Aaron T. Wells Girls Gone Dead 2012                                  -500000.0  \n",
       " Abby Kohn      I Feel Pretty 2018                                   59553797.0  \n",
       " Adam Busch     Drones 2010                                           -500000.0  \n",
       " Adam Montierth Locker 13 2014                                        -296504.0  \n",
       "...                                                                         ...  \n",
       "Zack Snyder     Justice League 2017                                 294184022.8  \n",
       "                Legend of the Guardians: The Owls of Ga'Hoole 2010  294184022.8  \n",
       "                Man of Steel 2013                                   294184022.8  \n",
       "                Sucker Punch 2011                                   294184022.8  \n",
       "Zal Batmanglij  The East 2013                                        -3472044.0  \n",
       "\n",
       "[1634 rows x 4 columns]"
      ]
     },
     "execution_count": 13,
     "metadata": {},
     "output_type": "execute_result"
    }
   ],
   "source": [
    "# Creating a column that shows the average profit made by the individual director\n",
    "individual_df['avg_profit'] = individual_df.groupby(['director'])['profit'].transform('mean')\n",
    "individual_df.groupby(by=['director', 'movie']).sum()"
   ]
  },
  {
   "cell_type": "code",
   "execution_count": 14,
   "metadata": {},
   "outputs": [
    {
     "data": {
      "text/plain": [
       "profit                 0.183414\n",
       "avg_profit             0.212817\n",
       "production_budget      0.254591\n",
       "#movies_by_director    1.000000\n",
       "Name: #movies_by_director, dtype: float64"
      ]
     },
     "execution_count": 14,
     "metadata": {},
     "output_type": "execute_result"
    }
   ],
   "source": [
    "# Checking correlation between the number of movies each director made and their average profit(performance)\n",
    "individual_df.corr()['#movies_by_director'].sort_values()"
   ]
  },
  {
   "cell_type": "code",
   "execution_count": 15,
   "metadata": {
    "scrolled": true
   },
   "outputs": [
    {
     "data": {
      "image/png": "[encoded data removed]",
      "text/plain": [
       "<Figure size 864x504 with 1 Axes>"
      ]
     },
     "metadata": {
      "needs_background": "light"
     },
     "output_type": "display_data"
    }
   ],
   "source": [
    "# Scatter plot of the relationship between the number of movies each director made and their average profit(performance)\n",
    "fig, ax = plt.subplots(figsize=(12,7))\n",
    "\n",
    "ax.scatter(individual_df['#movies_by_director'], individual_df['avg_profit'], alpha=0.3, color=\"green\")\n",
    "ax.set_title(\"Number of Movies Made by Director\\nvs. Their Average Profit\", fontsize=25, pad=20)\n",
    "ax.set_xlabel(\"Number of Movies Made by Director\", fontsize=20, labelpad=20)\n",
    "ax.set_ylabel(\"Average Profit \\nin USD Billion\", fontsize=20, labelpad=70, rotation=0);\n",
    "for label in (ax.get_xticklabels() + ax.get_yticklabels()):\n",
    "    label.set_fontsize(16)"
   ]
  },
  {
   "cell_type": "markdown",
   "metadata": {},
   "source": [
    "Conclusion: With correlation being 0.21, we see that there is no strong relationship between the number of movies each director made and their average return. However, we have a few interesting observations. \n",
    "\n",
    "First, the directors who made more than 5 movies during 2010 - 2020 did not make the most profitable movies. However, they also did not lose money and made steady and modest profits. \n",
    "\n",
    "Second, the most profitable movies were made by directors who produced 1 to 3 movies in that time. These movies did subtantially better than others, and therefore we could look deeper into them to find more insights. \n",
    "\n",
    "Perhaps, we could provide a suggested list of potential dirctors for Microsoft's new movie studio. "
   ]
  },
  {
   "cell_type": "code",
   "execution_count": null,
   "metadata": {},
   "outputs": [],
   "source": []
  },
  {
   "cell_type": "code",
   "execution_count": null,
   "metadata": {},
   "outputs": [],
   "source": []
  },
  {
   "cell_type": "code",
   "execution_count": null,
   "metadata": {},
   "outputs": [],
   "source": []
  },
  {
   "cell_type": "code",
   "execution_count": null,
   "metadata": {},
   "outputs": [],
   "source": []
  },
  {
   "cell_type": "code",
   "execution_count": null,
   "metadata": {},
   "outputs": [],
   "source": []
  },
  {
   "cell_type": "code",
   "execution_count": null,
   "metadata": {},
   "outputs": [],
   "source": []
  },
  {
   "cell_type": "code",
   "execution_count": null,
   "metadata": {},
   "outputs": [],
   "source": []
  },
  {
   "cell_type": "code",
   "execution_count": null,
   "metadata": {},
   "outputs": [],
   "source": []
  },
  {
   "cell_type": "code",
   "execution_count": 16,
   "metadata": {},
   "outputs": [
    {
     "data": {
      "text/html": [
       "<div>\n",
       "<style scoped>\n",
       "    .dataframe tbody tr th:only-of-type {\n",
       "        vertical-align: middle;\n",
       "    }\n",
       "\n",
       "    .dataframe tbody tr th {\n",
       "        vertical-align: top;\n",
       "    }\n",
       "\n",
       "    .dataframe thead th {\n",
       "        text-align: right;\n",
       "    }\n",
       "</style>\n",
       "<table border=\"1\" class=\"dataframe\">\n",
       "  <thead>\n",
       "    <tr style=\"text-align: right;\">\n",
       "      <th></th>\n",
       "      <th>movie</th>\n",
       "      <th>production_budget</th>\n",
       "      <th>profit</th>\n",
       "      <th>director</th>\n",
       "      <th>#movies_by_director</th>\n",
       "      <th>avg_profit</th>\n",
       "    </tr>\n",
       "  </thead>\n",
       "  <tbody>\n",
       "    <tr>\n",
       "      <th>2</th>\n",
       "      <td>Avengers: Age of Ultron 2015</td>\n",
       "      <td>330600000</td>\n",
       "      <td>1072413963</td>\n",
       "      <td>Joss Whedon</td>\n",
       "      <td>2</td>\n",
       "      <td>1.182675e+09</td>\n",
       "    </tr>\n",
       "    <tr>\n",
       "      <th>18</th>\n",
       "      <td>The Avengers 2012</td>\n",
       "      <td>225000000</td>\n",
       "      <td>1292935897</td>\n",
       "      <td>Joss Whedon</td>\n",
       "      <td>2</td>\n",
       "      <td>1.182675e+09</td>\n",
       "    </tr>\n",
       "    <tr>\n",
       "      <th>282</th>\n",
       "      <td>Despicable Me 3 2017</td>\n",
       "      <td>75000000</td>\n",
       "      <td>959727750</td>\n",
       "      <td>Pierre Coffin</td>\n",
       "      <td>2</td>\n",
       "      <td>1.023032e+09</td>\n",
       "    </tr>\n",
       "    <tr>\n",
       "      <th>282</th>\n",
       "      <td>Despicable Me 3 2017</td>\n",
       "      <td>75000000</td>\n",
       "      <td>959727750</td>\n",
       "      <td>Kyle Balda</td>\n",
       "      <td>2</td>\n",
       "      <td>1.023032e+09</td>\n",
       "    </tr>\n",
       "    <tr>\n",
       "      <th>290</th>\n",
       "      <td>Minions 2015</td>\n",
       "      <td>74000000</td>\n",
       "      <td>1086336173</td>\n",
       "      <td>Pierre Coffin</td>\n",
       "      <td>2</td>\n",
       "      <td>1.023032e+09</td>\n",
       "    </tr>\n",
       "    <tr>\n",
       "      <th>290</th>\n",
       "      <td>Minions 2015</td>\n",
       "      <td>74000000</td>\n",
       "      <td>1086336173</td>\n",
       "      <td>Kyle Balda</td>\n",
       "      <td>2</td>\n",
       "      <td>1.023032e+09</td>\n",
       "    </tr>\n",
       "  </tbody>\n",
       "</table>\n",
       "</div>"
      ],
      "text/plain": [
       "                            movie  production_budget      profit  \\\n",
       "2    Avengers: Age of Ultron 2015          330600000  1072413963   \n",
       "18              The Avengers 2012          225000000  1292935897   \n",
       "282          Despicable Me 3 2017           75000000   959727750   \n",
       "282          Despicable Me 3 2017           75000000   959727750   \n",
       "290                  Minions 2015           74000000  1086336173   \n",
       "290                  Minions 2015           74000000  1086336173   \n",
       "\n",
       "          director  #movies_by_director    avg_profit  \n",
       "2      Joss Whedon                    2  1.182675e+09  \n",
       "18     Joss Whedon                    2  1.182675e+09  \n",
       "282  Pierre Coffin                    2  1.023032e+09  \n",
       "282     Kyle Balda                    2  1.023032e+09  \n",
       "290  Pierre Coffin                    2  1.023032e+09  \n",
       "290     Kyle Balda                    2  1.023032e+09  "
      ]
     },
     "execution_count": 16,
     "metadata": {},
     "output_type": "execute_result"
    }
   ],
   "source": [
    "# Fiding the succesful directors\n",
    "individual_df[(individual_df['#movies_by_director'] == 2) & (individual_df['avg_profit'] > 900000000)]"
   ]
  },
  {
   "cell_type": "code",
   "execution_count": null,
   "metadata": {},
   "outputs": [],
   "source": []
  },
  {
   "cell_type": "code",
   "execution_count": null,
   "metadata": {},
   "outputs": [],
   "source": []
  },
  {
   "cell_type": "code",
   "execution_count": null,
   "metadata": {},
   "outputs": [],
   "source": []
  },
  {
   "cell_type": "code",
   "execution_count": null,
   "metadata": {},
   "outputs": [],
   "source": []
  },
  {
   "cell_type": "code",
   "execution_count": null,
   "metadata": {},
   "outputs": [],
   "source": []
  },
  {
   "cell_type": "code",
   "execution_count": null,
   "metadata": {},
   "outputs": [],
   "source": []
  },
  {
   "cell_type": "code",
   "execution_count": null,
   "metadata": {},
   "outputs": [],
   "source": []
  },
  {
   "cell_type": "code",
   "execution_count": null,
   "metadata": {},
   "outputs": [],
   "source": []
  },
  {
   "cell_type": "code",
   "execution_count": null,
   "metadata": {},
   "outputs": [],
   "source": []
  },
  {
   "cell_type": "code",
   "execution_count": null,
   "metadata": {},
   "outputs": [],
   "source": []
  },
  {
   "cell_type": "code",
   "execution_count": null,
   "metadata": {},
   "outputs": [],
   "source": []
  },
  {
   "cell_type": "code",
   "execution_count": null,
   "metadata": {},
   "outputs": [],
   "source": []
  },
  {
   "cell_type": "code",
   "execution_count": null,
   "metadata": {},
   "outputs": [],
   "source": []
  },
  {
   "cell_type": "code",
   "execution_count": null,
   "metadata": {},
   "outputs": [],
   "source": []
  },
  {
   "cell_type": "code",
   "execution_count": null,
   "metadata": {},
   "outputs": [],
   "source": []
  },
  {
   "cell_type": "code",
   "execution_count": null,
   "metadata": {},
   "outputs": [],
   "source": []
  },
  {
   "cell_type": "code",
   "execution_count": null,
   "metadata": {},
   "outputs": [],
   "source": []
  },
  {
   "cell_type": "code",
   "execution_count": null,
   "metadata": {},
   "outputs": [],
   "source": []
  }
 ],
 "metadata": {
  "kernelspec": {
   "display_name": "Python 3",
   "language": "python",
   "name": "python3"
  },
  "language_info": {
   "codemirror_mode": {
    "name": "ipython",
    "version": 3
   },
   "file_extension": ".py",
   "mimetype": "text/x-python",
   "name": "python",
   "nbconvert_exporter": "python",
   "pygments_lexer": "ipython3",
   "version": "3.8.5"
  }
 },
 "nbformat": 4,
 "nbformat_minor": 2
}
