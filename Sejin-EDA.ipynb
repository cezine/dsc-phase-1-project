{
 "cells": [
  {
   "cell_type": "markdown",
   "metadata": {},
   "source": [
    "## Final Project Submission\n",
    "\n",
    "Please fill out:\n",
    "* Student name: \n",
    "* Student pace: self paced / part time / full time\n",
    "* Scheduled project review date/time: \n",
    "* Instructor name: \n",
    "* Blog post URL:\n"
   ]
  },
  {
   "cell_type": "markdown",
   "metadata": {},
   "source": [
    "# Business Understanding\n",
    "\n"
   ]
  },
  {
   "cell_type": "code",
   "execution_count": 1,
   "metadata": {},
   "outputs": [
    {
     "data": {
      "text/html": [
       "<div>\n",
       "<style scoped>\n",
       "    .dataframe tbody tr th:only-of-type {\n",
       "        vertical-align: middle;\n",
       "    }\n",
       "\n",
       "    .dataframe tbody tr th {\n",
       "        vertical-align: top;\n",
       "    }\n",
       "\n",
       "    .dataframe thead th {\n",
       "        text-align: right;\n",
       "    }\n",
       "</style>\n",
       "<table border=\"1\" class=\"dataframe\">\n",
       "  <thead>\n",
       "    <tr style=\"text-align: right;\">\n",
       "      <th></th>\n",
       "      <th>release_date</th>\n",
       "      <th>movie</th>\n",
       "      <th>production_budget</th>\n",
       "      <th>domestic_gross</th>\n",
       "      <th>worldwide_gross</th>\n",
       "      <th>foreign_gross</th>\n",
       "      <th>profit</th>\n",
       "      <th>genres</th>\n",
       "      <th>director</th>\n",
       "    </tr>\n",
       "  </thead>\n",
       "  <tbody>\n",
       "    <tr>\n",
       "      <th>0</th>\n",
       "      <td>2011-05-20</td>\n",
       "      <td>Pirates of the Caribbean: On Stranger Tides 2011</td>\n",
       "      <td>410600000</td>\n",
       "      <td>241063875</td>\n",
       "      <td>1045663875</td>\n",
       "      <td>804600000</td>\n",
       "      <td>635063875</td>\n",
       "      <td>[Action, Adventure, Fantasy]</td>\n",
       "      <td>[Rob Marshall]</td>\n",
       "    </tr>\n",
       "    <tr>\n",
       "      <th>1</th>\n",
       "      <td>2019-06-07</td>\n",
       "      <td>Dark Phoenix 2019</td>\n",
       "      <td>350000000</td>\n",
       "      <td>42762350</td>\n",
       "      <td>149762350</td>\n",
       "      <td>107000000</td>\n",
       "      <td>-200237650</td>\n",
       "      <td>[Action, Adventure, Sci-Fi]</td>\n",
       "      <td>[Simon Kinberg]</td>\n",
       "    </tr>\n",
       "  </tbody>\n",
       "</table>\n",
       "</div>"
      ],
      "text/plain": [
       "  release_date                                             movie  \\\n",
       "0   2011-05-20  Pirates of the Caribbean: On Stranger Tides 2011   \n",
       "1   2019-06-07                                 Dark Phoenix 2019   \n",
       "\n",
       "   production_budget  domestic_gross  worldwide_gross  foreign_gross  \\\n",
       "0          410600000       241063875       1045663875      804600000   \n",
       "1          350000000        42762350        149762350      107000000   \n",
       "\n",
       "      profit                        genres         director  \n",
       "0  635063875  [Action, Adventure, Fantasy]   [Rob Marshall]  \n",
       "1 -200237650   [Action, Adventure, Sci-Fi]  [Simon Kinberg]  "
      ]
     },
     "metadata": {},
     "output_type": "display_data"
    },
    {
     "name": "stdout",
     "output_type": "stream",
     "text": [
      "<class 'pandas.core.frame.DataFrame'>\n",
      "RangeIndex: 1483 entries, 0 to 1482\n",
      "Data columns (total 9 columns):\n",
      " #   Column             Non-Null Count  Dtype \n",
      "---  ------             --------------  ----- \n",
      " 0   release_date       1483 non-null   object\n",
      " 1   movie              1483 non-null   object\n",
      " 2   production_budget  1483 non-null   int64 \n",
      " 3   domestic_gross     1483 non-null   int64 \n",
      " 4   worldwide_gross    1483 non-null   int64 \n",
      " 5   foreign_gross      1483 non-null   int64 \n",
      " 6   profit             1483 non-null   int64 \n",
      " 7   genres             1483 non-null   object\n",
      " 8   director           1483 non-null   object\n",
      "dtypes: int64(5), object(4)\n",
      "memory usage: 104.4+ KB\n"
     ]
    },
    {
     "data": {
      "text/plain": [
       "None"
      ]
     },
     "metadata": {},
     "output_type": "display_data"
    },
    {
     "data": {
      "text/plain": [
       "release_date         0\n",
       "movie                0\n",
       "production_budget    0\n",
       "domestic_gross       0\n",
       "worldwide_gross      0\n",
       "foreign_gross        0\n",
       "profit               0\n",
       "genres               0\n",
       "director             0\n",
       "dtype: int64"
      ]
     },
     "metadata": {},
     "output_type": "display_data"
    },
    {
     "data": {
      "text/plain": [
       "(None, None, None)"
      ]
     },
     "execution_count": 1,
     "metadata": {},
     "output_type": "execute_result"
    }
   ],
   "source": [
    "import pandas as pd\n",
    "import matplotlib.pyplot as plt\n",
    "import numpy as np\n",
    "import math\n",
    "import seaborn as sns\n",
    "%matplotlib inline\n",
    "df = pd.read_csv('Data/data-clean.csv')\n",
    "df.drop('Unnamed: 0',axis=1,inplace=True)\n",
    "\n",
    "#doing this here and not during data cleaning because this split doesnt survive being saved as .csv\n",
    "df['genres'] = df['genres'].map(lambda x: x.split(\",\"))\n",
    "df['director'] = df['director'].map(lambda x: x.split(\",\"))\n",
    "\n",
    "display(df.head(2)), display(df.info()) ,display(df.isna().sum())"
   ]
  },
  {
   "cell_type": "markdown",
   "metadata": {},
   "source": [
    "# Question 3.  Who are our potential directors? Is there any particular director who appears frequently in the successful movies. What kind of genres do these directors make?"
   ]
  },
  {
   "cell_type": "markdown",
   "metadata": {},
   "source": [
    "After discovering the relationship between movie genres and movies' success, we were curious if there was any particular director who appeared frequently in the successful movies and what genres they were good at making. \n",
    "\n",
    "To answer this, we will first look at the top 10 movies by profit. "
   ]
  },
  {
   "cell_type": "code",
   "execution_count": 2,
   "metadata": {
    "scrolled": true
   },
   "outputs": [
    {
     "name": "stdout",
     "output_type": "stream",
     "text": [
      "This cleaned data we are using includes movies from 2010-01-08 to 2020-02-21.\n"
     ]
    }
   ],
   "source": [
    "print(f'This cleaned data we are using includes movies from {df.release_date.min()} to {df.release_date.max()}.')"
   ]
  },
  {
   "cell_type": "markdown",
   "metadata": {},
   "source": [
    "The first step will be preparing a new dataframe that has only the necessary columns. Then, we will find and visualize the top movies sorted by profit."
   ]
  },
  {
   "cell_type": "code",
   "execution_count": 3,
   "metadata": {
    "scrolled": true
   },
   "outputs": [
    {
     "data": {
      "text/html": [
       "<div>\n",
       "<style scoped>\n",
       "    .dataframe tbody tr th:only-of-type {\n",
       "        vertical-align: middle;\n",
       "    }\n",
       "\n",
       "    .dataframe tbody tr th {\n",
       "        vertical-align: top;\n",
       "    }\n",
       "\n",
       "    .dataframe thead th {\n",
       "        text-align: right;\n",
       "    }\n",
       "</style>\n",
       "<table border=\"1\" class=\"dataframe\">\n",
       "  <thead>\n",
       "    <tr style=\"text-align: right;\">\n",
       "      <th></th>\n",
       "      <th>movie</th>\n",
       "      <th>profit</th>\n",
       "      <th>genres</th>\n",
       "      <th>director</th>\n",
       "    </tr>\n",
       "  </thead>\n",
       "  <tbody>\n",
       "    <tr>\n",
       "      <th>0</th>\n",
       "      <td>Pirates of the Caribbean: On Stranger Tides 2011</td>\n",
       "      <td>635063875</td>\n",
       "      <td>[Action, Adventure, Fantasy]</td>\n",
       "      <td>[Rob Marshall]</td>\n",
       "    </tr>\n",
       "    <tr>\n",
       "      <th>1</th>\n",
       "      <td>Dark Phoenix 2019</td>\n",
       "      <td>-200237650</td>\n",
       "      <td>[Action, Adventure, Sci-Fi]</td>\n",
       "      <td>[Simon Kinberg]</td>\n",
       "    </tr>\n",
       "    <tr>\n",
       "      <th>2</th>\n",
       "      <td>Avengers: Age of Ultron 2015</td>\n",
       "      <td>1072413963</td>\n",
       "      <td>[Action, Adventure, Sci-Fi]</td>\n",
       "      <td>[Joss Whedon]</td>\n",
       "    </tr>\n",
       "    <tr>\n",
       "      <th>3</th>\n",
       "      <td>Avengers: Infinity War 2018</td>\n",
       "      <td>1748134200</td>\n",
       "      <td>[Action, Adventure, Sci-Fi]</td>\n",
       "      <td>[Anthony Russo,  Joe Russo]</td>\n",
       "    </tr>\n",
       "    <tr>\n",
       "      <th>4</th>\n",
       "      <td>Justice League 2017</td>\n",
       "      <td>355945209</td>\n",
       "      <td>[Action, Adventure, Fantasy]</td>\n",
       "      <td>[Zack Snyder]</td>\n",
       "    </tr>\n",
       "    <tr>\n",
       "      <th>...</th>\n",
       "      <td>...</td>\n",
       "      <td>...</td>\n",
       "      <td>...</td>\n",
       "      <td>...</td>\n",
       "    </tr>\n",
       "    <tr>\n",
       "      <th>1478</th>\n",
       "      <td>Emily 2017</td>\n",
       "      <td>-23453</td>\n",
       "      <td>[Drama]</td>\n",
       "      <td>[Ryan Graves]</td>\n",
       "    </tr>\n",
       "    <tr>\n",
       "      <th>1479</th>\n",
       "      <td>Exeter 2015</td>\n",
       "      <td>464792</td>\n",
       "      <td>[Horror, Mystery, Thriller]</td>\n",
       "      <td>[Marcus Nispel]</td>\n",
       "    </tr>\n",
       "    <tr>\n",
       "      <th>1480</th>\n",
       "      <td>Dutch Kills 2015</td>\n",
       "      <td>-25000</td>\n",
       "      <td>[Crime, Drama, Thriller]</td>\n",
       "      <td>[Joseph Mazzella]</td>\n",
       "    </tr>\n",
       "    <tr>\n",
       "      <th>1481</th>\n",
       "      <td>The Ridges 2011</td>\n",
       "      <td>-17300</td>\n",
       "      <td>[Drama, Horror, Thriller]</td>\n",
       "      <td>[Brandon Landers]</td>\n",
       "    </tr>\n",
       "    <tr>\n",
       "      <th>1482</th>\n",
       "      <td>Stories of Our Lives 2014</td>\n",
       "      <td>-15000</td>\n",
       "      <td>[Drama]</td>\n",
       "      <td>[Jim Chuchu]</td>\n",
       "    </tr>\n",
       "  </tbody>\n",
       "</table>\n",
       "<p>1483 rows × 4 columns</p>\n",
       "</div>"
      ],
      "text/plain": [
       "                                                 movie      profit  \\\n",
       "0     Pirates of the Caribbean: On Stranger Tides 2011   635063875   \n",
       "1                                    Dark Phoenix 2019  -200237650   \n",
       "2                         Avengers: Age of Ultron 2015  1072413963   \n",
       "3                          Avengers: Infinity War 2018  1748134200   \n",
       "4                                  Justice League 2017   355945209   \n",
       "...                                                ...         ...   \n",
       "1478                                        Emily 2017      -23453   \n",
       "1479                                       Exeter 2015      464792   \n",
       "1480                                  Dutch Kills 2015      -25000   \n",
       "1481                                   The Ridges 2011      -17300   \n",
       "1482                         Stories of Our Lives 2014      -15000   \n",
       "\n",
       "                            genres                     director  \n",
       "0     [Action, Adventure, Fantasy]               [Rob Marshall]  \n",
       "1      [Action, Adventure, Sci-Fi]              [Simon Kinberg]  \n",
       "2      [Action, Adventure, Sci-Fi]                [Joss Whedon]  \n",
       "3      [Action, Adventure, Sci-Fi]  [Anthony Russo,  Joe Russo]  \n",
       "4     [Action, Adventure, Fantasy]                [Zack Snyder]  \n",
       "...                            ...                          ...  \n",
       "1478                       [Drama]                [Ryan Graves]  \n",
       "1479   [Horror, Mystery, Thriller]              [Marcus Nispel]  \n",
       "1480      [Crime, Drama, Thriller]            [Joseph Mazzella]  \n",
       "1481     [Drama, Horror, Thriller]            [Brandon Landers]  \n",
       "1482                       [Drama]                 [Jim Chuchu]  \n",
       "\n",
       "[1483 rows x 4 columns]"
      ]
     },
     "execution_count": 3,
     "metadata": {},
     "output_type": "execute_result"
    }
   ],
   "source": [
    "# Keeping only the necessary columns\n",
    "q3_df = df.loc[:, ['movie', 'profit', 'genres', 'director']]\n",
    "q3_df"
   ]
  },
  {
   "cell_type": "code",
   "execution_count": 4,
   "metadata": {
    "scrolled": true
   },
   "outputs": [
    {
     "data": {
      "text/html": [
       "<div>\n",
       "<style scoped>\n",
       "    .dataframe tbody tr th:only-of-type {\n",
       "        vertical-align: middle;\n",
       "    }\n",
       "\n",
       "    .dataframe tbody tr th {\n",
       "        vertical-align: top;\n",
       "    }\n",
       "\n",
       "    .dataframe thead th {\n",
       "        text-align: right;\n",
       "    }\n",
       "</style>\n",
       "<table border=\"1\" class=\"dataframe\">\n",
       "  <thead>\n",
       "    <tr style=\"text-align: right;\">\n",
       "      <th></th>\n",
       "      <th>profit</th>\n",
       "      <th>genres</th>\n",
       "      <th>director</th>\n",
       "    </tr>\n",
       "    <tr>\n",
       "      <th>movie</th>\n",
       "      <th></th>\n",
       "      <th></th>\n",
       "      <th></th>\n",
       "    </tr>\n",
       "  </thead>\n",
       "  <tbody>\n",
       "    <tr>\n",
       "      <th>Avengers: Infinity War 2018</th>\n",
       "      <td>1748134200</td>\n",
       "      <td>[Action, Adventure, Sci-Fi]</td>\n",
       "      <td>[Anthony Russo,  Joe Russo]</td>\n",
       "    </tr>\n",
       "    <tr>\n",
       "      <th>Jurassic World 2015</th>\n",
       "      <td>1433854864</td>\n",
       "      <td>[Action, Adventure, Sci-Fi]</td>\n",
       "      <td>[Colin Trevorrow]</td>\n",
       "    </tr>\n",
       "    <tr>\n",
       "      <th>Furious 7 2015</th>\n",
       "      <td>1328722794</td>\n",
       "      <td>[Action, Crime, Thriller]</td>\n",
       "      <td>[James Wan]</td>\n",
       "    </tr>\n",
       "    <tr>\n",
       "      <th>The Avengers 2012</th>\n",
       "      <td>1292935897</td>\n",
       "      <td>[Action, Adventure, Sci-Fi]</td>\n",
       "      <td>[Joss Whedon]</td>\n",
       "    </tr>\n",
       "    <tr>\n",
       "      <th>Black Panther 2018</th>\n",
       "      <td>1148258224</td>\n",
       "      <td>[Action, Adventure, Sci-Fi]</td>\n",
       "      <td>[Ryan Coogler]</td>\n",
       "    </tr>\n",
       "    <tr>\n",
       "      <th>Jurassic World: Fallen Kingdom 2018</th>\n",
       "      <td>1135772799</td>\n",
       "      <td>[Action, Adventure, Sci-Fi]</td>\n",
       "      <td>[J.A. Bayona]</td>\n",
       "    </tr>\n",
       "    <tr>\n",
       "      <th>Frozen 2013</th>\n",
       "      <td>1122469910</td>\n",
       "      <td>[Adventure, Animation, Comedy]</td>\n",
       "      <td>[Chris Buck,  Jennifer Lee]</td>\n",
       "    </tr>\n",
       "    <tr>\n",
       "      <th>Beauty and the Beast 2017</th>\n",
       "      <td>1099199706</td>\n",
       "      <td>[Family, Fantasy, Musical]</td>\n",
       "      <td>[Bill Condon]</td>\n",
       "    </tr>\n",
       "    <tr>\n",
       "      <th>Minions 2015</th>\n",
       "      <td>1086336173</td>\n",
       "      <td>[Adventure, Animation, Comedy]</td>\n",
       "      <td>[Pierre Coffin,  Kyle Balda]</td>\n",
       "    </tr>\n",
       "    <tr>\n",
       "      <th>Avengers: Age of Ultron 2015</th>\n",
       "      <td>1072413963</td>\n",
       "      <td>[Action, Adventure, Sci-Fi]</td>\n",
       "      <td>[Joss Whedon]</td>\n",
       "    </tr>\n",
       "  </tbody>\n",
       "</table>\n",
       "</div>"
      ],
      "text/plain": [
       "                                         profit  \\\n",
       "movie                                             \n",
       "Avengers: Infinity War 2018          1748134200   \n",
       "Jurassic World 2015                  1433854864   \n",
       "Furious 7 2015                       1328722794   \n",
       "The Avengers 2012                    1292935897   \n",
       "Black Panther 2018                   1148258224   \n",
       "Jurassic World: Fallen Kingdom 2018  1135772799   \n",
       "Frozen 2013                          1122469910   \n",
       "Beauty and the Beast 2017            1099199706   \n",
       "Minions 2015                         1086336173   \n",
       "Avengers: Age of Ultron 2015         1072413963   \n",
       "\n",
       "                                                             genres  \\\n",
       "movie                                                                 \n",
       "Avengers: Infinity War 2018             [Action, Adventure, Sci-Fi]   \n",
       "Jurassic World 2015                     [Action, Adventure, Sci-Fi]   \n",
       "Furious 7 2015                            [Action, Crime, Thriller]   \n",
       "The Avengers 2012                       [Action, Adventure, Sci-Fi]   \n",
       "Black Panther 2018                      [Action, Adventure, Sci-Fi]   \n",
       "Jurassic World: Fallen Kingdom 2018     [Action, Adventure, Sci-Fi]   \n",
       "Frozen 2013                          [Adventure, Animation, Comedy]   \n",
       "Beauty and the Beast 2017                [Family, Fantasy, Musical]   \n",
       "Minions 2015                         [Adventure, Animation, Comedy]   \n",
       "Avengers: Age of Ultron 2015            [Action, Adventure, Sci-Fi]   \n",
       "\n",
       "                                                         director  \n",
       "movie                                                              \n",
       "Avengers: Infinity War 2018           [Anthony Russo,  Joe Russo]  \n",
       "Jurassic World 2015                             [Colin Trevorrow]  \n",
       "Furious 7 2015                                        [James Wan]  \n",
       "The Avengers 2012                                   [Joss Whedon]  \n",
       "Black Panther 2018                                 [Ryan Coogler]  \n",
       "Jurassic World: Fallen Kingdom 2018                 [J.A. Bayona]  \n",
       "Frozen 2013                           [Chris Buck,  Jennifer Lee]  \n",
       "Beauty and the Beast 2017                           [Bill Condon]  \n",
       "Minions 2015                         [Pierre Coffin,  Kyle Balda]  \n",
       "Avengers: Age of Ultron 2015                        [Joss Whedon]  "
      ]
     },
     "execution_count": 4,
     "metadata": {},
     "output_type": "execute_result"
    }
   ],
   "source": [
    "# Finding the top 10 movies by 'profit'\n",
    "top10_profit = q3_df.sort_values(by='profit', ascending=False).head(10)\n",
    "top10_profit = top10_profit.set_index('movie')\n",
    "top10_profit"
   ]
  },
  {
   "cell_type": "code",
   "execution_count": 5,
   "metadata": {},
   "outputs": [
    {
     "data": {
      "image/png": "[encoded data removed]",
      "text/plain": [
       "<Figure size 1440x864 with 1 Axes>"
      ]
     },
     "metadata": {
      "needs_background": "light"
     },
     "output_type": "display_data"
    }
   ],
   "source": [
    "# Visualizing the top 10 movies by 'profit' \n",
    "# Bar chart\n",
    "ax1 = top10_profit.plot(kind='barh', figsize=(20,12), fontsize=25)\n",
    "        \n",
    "ax1.set_xlabel(\"Profit in USD Billion\", fontsize=25, labelpad=20)\n",
    "ax1.set_title(\"Top 10 Movies by Profit 2010-2020\", fontsize=35, pad=30)\n",
    "ax1.legend(bbox_to_anchor=(1, 1), loc='upper left', ncol=1, fontsize=20);"
   ]
  },
  {
   "cell_type": "markdown",
   "metadata": {},
   "source": [
    "We found out the top 10 movies by profit and their directors.  The dirctor, Joss Whedon, appeared the most (2 times) in the top 10 movies by profit. \n",
    "\n",
    "However, based on this result, it is difficult to say that there is any correlation between directors' performance and the movies' success. We want to go back and check the previous dataframe with all the movies and see if there is any correlation between them at all. \n",
    "\n",
    "We will count the number of movies that each director made and calculate their total and average returns.  "
   ]
  },
  {
   "cell_type": "markdown",
   "metadata": {},
   "source": [
    "Before investigating, we notice that the director column has nested lists. We would like to expand these so we have individaul director per row."
   ]
  },
  {
   "cell_type": "code",
   "execution_count": 6,
   "metadata": {},
   "outputs": [],
   "source": [
    "### Finding correlation between directors' performance and profit"
   ]
  },
  {
   "cell_type": "code",
   "execution_count": 7,
   "metadata": {
    "scrolled": true
   },
   "outputs": [
    {
     "data": {
      "text/html": [
       "<div>\n",
       "<style scoped>\n",
       "    .dataframe tbody tr th:only-of-type {\n",
       "        vertical-align: middle;\n",
       "    }\n",
       "\n",
       "    .dataframe tbody tr th {\n",
       "        vertical-align: top;\n",
       "    }\n",
       "\n",
       "    .dataframe thead th {\n",
       "        text-align: right;\n",
       "    }\n",
       "</style>\n",
       "<table border=\"1\" class=\"dataframe\">\n",
       "  <thead>\n",
       "    <tr style=\"text-align: right;\">\n",
       "      <th></th>\n",
       "      <th>movie</th>\n",
       "      <th>profit</th>\n",
       "      <th>genres</th>\n",
       "      <th>director</th>\n",
       "    </tr>\n",
       "  </thead>\n",
       "  <tbody>\n",
       "    <tr>\n",
       "      <th>0</th>\n",
       "      <td>Pirates of the Caribbean: On Stranger Tides 2011</td>\n",
       "      <td>635063875</td>\n",
       "      <td>[Action, Adventure, Fantasy]</td>\n",
       "      <td>Rob Marshall</td>\n",
       "    </tr>\n",
       "    <tr>\n",
       "      <th>1</th>\n",
       "      <td>Dark Phoenix 2019</td>\n",
       "      <td>-200237650</td>\n",
       "      <td>[Action, Adventure, Sci-Fi]</td>\n",
       "      <td>Simon Kinberg</td>\n",
       "    </tr>\n",
       "    <tr>\n",
       "      <th>2</th>\n",
       "      <td>Avengers: Age of Ultron 2015</td>\n",
       "      <td>1072413963</td>\n",
       "      <td>[Action, Adventure, Sci-Fi]</td>\n",
       "      <td>Joss Whedon</td>\n",
       "    </tr>\n",
       "    <tr>\n",
       "      <th>3</th>\n",
       "      <td>Avengers: Infinity War 2018</td>\n",
       "      <td>1748134200</td>\n",
       "      <td>[Action, Adventure, Sci-Fi]</td>\n",
       "      <td>Anthony Russo</td>\n",
       "    </tr>\n",
       "    <tr>\n",
       "      <th>3</th>\n",
       "      <td>Avengers: Infinity War 2018</td>\n",
       "      <td>1748134200</td>\n",
       "      <td>[Action, Adventure, Sci-Fi]</td>\n",
       "      <td>Joe Russo</td>\n",
       "    </tr>\n",
       "    <tr>\n",
       "      <th>...</th>\n",
       "      <td>...</td>\n",
       "      <td>...</td>\n",
       "      <td>...</td>\n",
       "      <td>...</td>\n",
       "    </tr>\n",
       "    <tr>\n",
       "      <th>1478</th>\n",
       "      <td>Emily 2017</td>\n",
       "      <td>-23453</td>\n",
       "      <td>[Drama]</td>\n",
       "      <td>Ryan Graves</td>\n",
       "    </tr>\n",
       "    <tr>\n",
       "      <th>1479</th>\n",
       "      <td>Exeter 2015</td>\n",
       "      <td>464792</td>\n",
       "      <td>[Horror, Mystery, Thriller]</td>\n",
       "      <td>Marcus Nispel</td>\n",
       "    </tr>\n",
       "    <tr>\n",
       "      <th>1480</th>\n",
       "      <td>Dutch Kills 2015</td>\n",
       "      <td>-25000</td>\n",
       "      <td>[Crime, Drama, Thriller]</td>\n",
       "      <td>Joseph Mazzella</td>\n",
       "    </tr>\n",
       "    <tr>\n",
       "      <th>1481</th>\n",
       "      <td>The Ridges 2011</td>\n",
       "      <td>-17300</td>\n",
       "      <td>[Drama, Horror, Thriller]</td>\n",
       "      <td>Brandon Landers</td>\n",
       "    </tr>\n",
       "    <tr>\n",
       "      <th>1482</th>\n",
       "      <td>Stories of Our Lives 2014</td>\n",
       "      <td>-15000</td>\n",
       "      <td>[Drama]</td>\n",
       "      <td>Jim Chuchu</td>\n",
       "    </tr>\n",
       "  </tbody>\n",
       "</table>\n",
       "<p>1634 rows × 4 columns</p>\n",
       "</div>"
      ],
      "text/plain": [
       "                                                 movie      profit  \\\n",
       "0     Pirates of the Caribbean: On Stranger Tides 2011   635063875   \n",
       "1                                    Dark Phoenix 2019  -200237650   \n",
       "2                         Avengers: Age of Ultron 2015  1072413963   \n",
       "3                          Avengers: Infinity War 2018  1748134200   \n",
       "3                          Avengers: Infinity War 2018  1748134200   \n",
       "...                                                ...         ...   \n",
       "1478                                        Emily 2017      -23453   \n",
       "1479                                       Exeter 2015      464792   \n",
       "1480                                  Dutch Kills 2015      -25000   \n",
       "1481                                   The Ridges 2011      -17300   \n",
       "1482                         Stories of Our Lives 2014      -15000   \n",
       "\n",
       "                            genres         director  \n",
       "0     [Action, Adventure, Fantasy]     Rob Marshall  \n",
       "1      [Action, Adventure, Sci-Fi]    Simon Kinberg  \n",
       "2      [Action, Adventure, Sci-Fi]      Joss Whedon  \n",
       "3      [Action, Adventure, Sci-Fi]    Anthony Russo  \n",
       "3      [Action, Adventure, Sci-Fi]        Joe Russo  \n",
       "...                            ...              ...  \n",
       "1478                       [Drama]      Ryan Graves  \n",
       "1479   [Horror, Mystery, Thriller]    Marcus Nispel  \n",
       "1480      [Crime, Drama, Thriller]  Joseph Mazzella  \n",
       "1481     [Drama, Horror, Thriller]  Brandon Landers  \n",
       "1482                       [Drama]       Jim Chuchu  \n",
       "\n",
       "[1634 rows x 4 columns]"
      ]
     },
     "execution_count": 7,
     "metadata": {},
     "output_type": "execute_result"
    }
   ],
   "source": [
    "# Creating a new dataframe 'individual_df' with 'director' column expanded to show individaul director per row\n",
    "individual_df = q3_df.explode('director')\n",
    "individual_df"
   ]
  },
  {
   "cell_type": "code",
   "execution_count": 8,
   "metadata": {
    "scrolled": true
   },
   "outputs": [
    {
     "data": {
      "text/plain": [
       "Tim Story             8\n",
       "Clint Eastwood        7\n",
       "Steven Spielberg      7\n",
       "Ridley Scott          6\n",
       "Jon M. Chu            6\n",
       "                     ..\n",
       "Peter Atencio         1\n",
       " Ronnie Del Carmen    1\n",
       "Julian Gilbey         1\n",
       "David G. Evans        1\n",
       "Courtney Solomon      1\n",
       "Name: director, Length: 1122, dtype: int64"
      ]
     },
     "execution_count": 8,
     "metadata": {},
     "output_type": "execute_result"
    }
   ],
   "source": [
    "# Counting movies made by each director\n",
    "individual_df['director'].value_counts()"
   ]
  },
  {
   "cell_type": "code",
   "execution_count": 9,
   "metadata": {
    "scrolled": true
   },
   "outputs": [],
   "source": [
    "# Creating a column that shows the number of movies made by the individual director\n",
    "individual_df['#movies_by_director'] = individual_df.groupby(['director'])['movie'].transform('count')"
   ]
  },
  {
   "cell_type": "code",
   "execution_count": 10,
   "metadata": {
    "scrolled": false
   },
   "outputs": [
    {
     "data": {
      "text/html": [
       "<div>\n",
       "<style scoped>\n",
       "    .dataframe tbody tr th:only-of-type {\n",
       "        vertical-align: middle;\n",
       "    }\n",
       "\n",
       "    .dataframe tbody tr th {\n",
       "        vertical-align: top;\n",
       "    }\n",
       "\n",
       "    .dataframe thead th {\n",
       "        text-align: right;\n",
       "    }\n",
       "</style>\n",
       "<table border=\"1\" class=\"dataframe\">\n",
       "  <thead>\n",
       "    <tr style=\"text-align: right;\">\n",
       "      <th></th>\n",
       "      <th>movie</th>\n",
       "      <th>profit</th>\n",
       "      <th>genres</th>\n",
       "      <th>director</th>\n",
       "      <th>#movies_by_director</th>\n",
       "      <th>total_profit</th>\n",
       "      <th>avg_profit</th>\n",
       "    </tr>\n",
       "  </thead>\n",
       "  <tbody>\n",
       "    <tr>\n",
       "      <th>0</th>\n",
       "      <td>Pirates of the Caribbean: On Stranger Tides 2011</td>\n",
       "      <td>635063875</td>\n",
       "      <td>[Action, Adventure, Fantasy]</td>\n",
       "      <td>Rob Marshall</td>\n",
       "      <td>3</td>\n",
       "      <td>1003508794</td>\n",
       "      <td>3.345029e+08</td>\n",
       "    </tr>\n",
       "    <tr>\n",
       "      <th>1</th>\n",
       "      <td>Dark Phoenix 2019</td>\n",
       "      <td>-200237650</td>\n",
       "      <td>[Action, Adventure, Sci-Fi]</td>\n",
       "      <td>Simon Kinberg</td>\n",
       "      <td>1</td>\n",
       "      <td>-200237650</td>\n",
       "      <td>-2.002376e+08</td>\n",
       "    </tr>\n",
       "    <tr>\n",
       "      <th>2</th>\n",
       "      <td>Avengers: Age of Ultron 2015</td>\n",
       "      <td>1072413963</td>\n",
       "      <td>[Action, Adventure, Sci-Fi]</td>\n",
       "      <td>Joss Whedon</td>\n",
       "      <td>2</td>\n",
       "      <td>2365349860</td>\n",
       "      <td>1.182675e+09</td>\n",
       "    </tr>\n",
       "    <tr>\n",
       "      <th>3</th>\n",
       "      <td>Avengers: Infinity War 2018</td>\n",
       "      <td>1748134200</td>\n",
       "      <td>[Action, Adventure, Sci-Fi]</td>\n",
       "      <td>Anthony Russo</td>\n",
       "      <td>3</td>\n",
       "      <td>3182605502</td>\n",
       "      <td>1.060869e+09</td>\n",
       "    </tr>\n",
       "    <tr>\n",
       "      <th>3</th>\n",
       "      <td>Avengers: Infinity War 2018</td>\n",
       "      <td>1748134200</td>\n",
       "      <td>[Action, Adventure, Sci-Fi]</td>\n",
       "      <td>Joe Russo</td>\n",
       "      <td>3</td>\n",
       "      <td>3182605502</td>\n",
       "      <td>1.060869e+09</td>\n",
       "    </tr>\n",
       "    <tr>\n",
       "      <th>4</th>\n",
       "      <td>Justice League 2017</td>\n",
       "      <td>355945209</td>\n",
       "      <td>[Action, Adventure, Fantasy]</td>\n",
       "      <td>Zack Snyder</td>\n",
       "      <td>5</td>\n",
       "      <td>1470920114</td>\n",
       "      <td>2.941840e+08</td>\n",
       "    </tr>\n",
       "    <tr>\n",
       "      <th>5</th>\n",
       "      <td>Spectre 2015</td>\n",
       "      <td>579620923</td>\n",
       "      <td>[Action, Adventure, Thriller]</td>\n",
       "      <td>Sam Mendes</td>\n",
       "      <td>2</td>\n",
       "      <td>1490147904</td>\n",
       "      <td>7.450740e+08</td>\n",
       "    </tr>\n",
       "    <tr>\n",
       "      <th>6</th>\n",
       "      <td>The Dark Knight Rises 2012</td>\n",
       "      <td>809439099</td>\n",
       "      <td>[Action, Thriller]</td>\n",
       "      <td>Christopher Nolan</td>\n",
       "      <td>4</td>\n",
       "      <td>2336180484</td>\n",
       "      <td>5.840451e+08</td>\n",
       "    </tr>\n",
       "    <tr>\n",
       "      <th>7</th>\n",
       "      <td>Solo: A Star Wars Story 2018</td>\n",
       "      <td>118151347</td>\n",
       "      <td>[Action, Adventure, Fantasy]</td>\n",
       "      <td>Ron Howard</td>\n",
       "      <td>5</td>\n",
       "      <td>313141727</td>\n",
       "      <td>6.262835e+07</td>\n",
       "    </tr>\n",
       "    <tr>\n",
       "      <th>8</th>\n",
       "      <td>The Lone Ranger 2013</td>\n",
       "      <td>-14997885</td>\n",
       "      <td>[Action, Adventure, Western]</td>\n",
       "      <td>Gore Verbinski</td>\n",
       "      <td>2</td>\n",
       "      <td>95726715</td>\n",
       "      <td>4.786336e+07</td>\n",
       "    </tr>\n",
       "  </tbody>\n",
       "</table>\n",
       "</div>"
      ],
      "text/plain": [
       "                                              movie      profit  \\\n",
       "0  Pirates of the Caribbean: On Stranger Tides 2011   635063875   \n",
       "1                                 Dark Phoenix 2019  -200237650   \n",
       "2                      Avengers: Age of Ultron 2015  1072413963   \n",
       "3                       Avengers: Infinity War 2018  1748134200   \n",
       "3                       Avengers: Infinity War 2018  1748134200   \n",
       "4                               Justice League 2017   355945209   \n",
       "5                                      Spectre 2015   579620923   \n",
       "6                        The Dark Knight Rises 2012   809439099   \n",
       "7                      Solo: A Star Wars Story 2018   118151347   \n",
       "8                              The Lone Ranger 2013   -14997885   \n",
       "\n",
       "                          genres           director  #movies_by_director  \\\n",
       "0   [Action, Adventure, Fantasy]       Rob Marshall                    3   \n",
       "1    [Action, Adventure, Sci-Fi]      Simon Kinberg                    1   \n",
       "2    [Action, Adventure, Sci-Fi]        Joss Whedon                    2   \n",
       "3    [Action, Adventure, Sci-Fi]      Anthony Russo                    3   \n",
       "3    [Action, Adventure, Sci-Fi]          Joe Russo                    3   \n",
       "4   [Action, Adventure, Fantasy]        Zack Snyder                    5   \n",
       "5  [Action, Adventure, Thriller]         Sam Mendes                    2   \n",
       "6             [Action, Thriller]  Christopher Nolan                    4   \n",
       "7   [Action, Adventure, Fantasy]         Ron Howard                    5   \n",
       "8   [Action, Adventure, Western]     Gore Verbinski                    2   \n",
       "\n",
       "   total_profit    avg_profit  \n",
       "0    1003508794  3.345029e+08  \n",
       "1    -200237650 -2.002376e+08  \n",
       "2    2365349860  1.182675e+09  \n",
       "3    3182605502  1.060869e+09  \n",
       "3    3182605502  1.060869e+09  \n",
       "4    1470920114  2.941840e+08  \n",
       "5    1490147904  7.450740e+08  \n",
       "6    2336180484  5.840451e+08  \n",
       "7     313141727  6.262835e+07  \n",
       "8      95726715  4.786336e+07  "
      ]
     },
     "execution_count": 10,
     "metadata": {},
     "output_type": "execute_result"
    }
   ],
   "source": [
    "# Creating columns that show the total profit and the average profit made by each director\n",
    "individual_df['total_profit'] = individual_df.groupby(['director'])['profit'].transform('sum')\n",
    "individual_df['avg_profit'] = individual_df.groupby(['director'])['profit'].transform('mean')\n",
    "individual_df.head(10)"
   ]
  },
  {
   "cell_type": "code",
   "execution_count": 11,
   "metadata": {
    "scrolled": true
   },
   "outputs": [
    {
     "data": {
      "text/html": [
       "<div>\n",
       "<style scoped>\n",
       "    .dataframe tbody tr th:only-of-type {\n",
       "        vertical-align: middle;\n",
       "    }\n",
       "\n",
       "    .dataframe tbody tr th {\n",
       "        vertical-align: top;\n",
       "    }\n",
       "\n",
       "    .dataframe thead th {\n",
       "        text-align: right;\n",
       "    }\n",
       "</style>\n",
       "<table border=\"1\" class=\"dataframe\">\n",
       "  <thead>\n",
       "    <tr style=\"text-align: right;\">\n",
       "      <th></th>\n",
       "      <th>total_profit</th>\n",
       "      <th>#movies_by_director</th>\n",
       "      <th>genres</th>\n",
       "    </tr>\n",
       "    <tr>\n",
       "      <th>director</th>\n",
       "      <th></th>\n",
       "      <th></th>\n",
       "      <th></th>\n",
       "    </tr>\n",
       "  </thead>\n",
       "  <tbody>\n",
       "    <tr>\n",
       "      <th>Anthony Russo</th>\n",
       "      <td>3182605502</td>\n",
       "      <td>3</td>\n",
       "      <td>[Action, Adventure, Sci-Fi]</td>\n",
       "    </tr>\n",
       "    <tr>\n",
       "      <th>Joe Russo</th>\n",
       "      <td>3182605502</td>\n",
       "      <td>3</td>\n",
       "      <td>[Action, Adventure, Sci-Fi]</td>\n",
       "    </tr>\n",
       "    <tr>\n",
       "      <th>James Wan</th>\n",
       "      <td>2613617575</td>\n",
       "      <td>3</td>\n",
       "      <td>[Action, Crime, Thriller]</td>\n",
       "    </tr>\n",
       "    <tr>\n",
       "      <th>Joss Whedon</th>\n",
       "      <td>2365349860</td>\n",
       "      <td>2</td>\n",
       "      <td>[Action, Adventure, Sci-Fi]</td>\n",
       "    </tr>\n",
       "    <tr>\n",
       "      <th>Christopher Nolan</th>\n",
       "      <td>2336180484</td>\n",
       "      <td>4</td>\n",
       "      <td>[Action, Thriller]</td>\n",
       "    </tr>\n",
       "    <tr>\n",
       "      <th>Michael Bay</th>\n",
       "      <td>2263998250</td>\n",
       "      <td>4</td>\n",
       "      <td>[Action, Adventure, Sci-Fi]</td>\n",
       "    </tr>\n",
       "    <tr>\n",
       "      <th>Chris Renaud</th>\n",
       "      <td>2185431942</td>\n",
       "      <td>3</td>\n",
       "      <td>[Adventure, Animation, Comedy]</td>\n",
       "    </tr>\n",
       "    <tr>\n",
       "      <th>Peter Jackson</th>\n",
       "      <td>2172948044</td>\n",
       "      <td>3</td>\n",
       "      <td>[Adventure, Family, Fantasy]</td>\n",
       "    </tr>\n",
       "    <tr>\n",
       "      <th>Pierre Coffin</th>\n",
       "      <td>2046063923</td>\n",
       "      <td>2</td>\n",
       "      <td>[Adventure, Animation, Comedy]</td>\n",
       "    </tr>\n",
       "    <tr>\n",
       "      <th>Kyle Balda</th>\n",
       "      <td>2046063923</td>\n",
       "      <td>2</td>\n",
       "      <td>[Adventure, Animation, Comedy]</td>\n",
       "    </tr>\n",
       "  </tbody>\n",
       "</table>\n",
       "</div>"
      ],
      "text/plain": [
       "                   total_profit  #movies_by_director  \\\n",
       "director                                               \n",
       "Anthony Russo        3182605502                    3   \n",
       " Joe Russo           3182605502                    3   \n",
       "James Wan            2613617575                    3   \n",
       "Joss Whedon          2365349860                    2   \n",
       "Christopher Nolan    2336180484                    4   \n",
       "Michael Bay          2263998250                    4   \n",
       "Chris Renaud         2185431942                    3   \n",
       "Peter Jackson        2172948044                    3   \n",
       "Pierre Coffin        2046063923                    2   \n",
       " Kyle Balda          2046063923                    2   \n",
       "\n",
       "                                           genres  \n",
       "director                                           \n",
       "Anthony Russo         [Action, Adventure, Sci-Fi]  \n",
       " Joe Russo            [Action, Adventure, Sci-Fi]  \n",
       "James Wan               [Action, Crime, Thriller]  \n",
       "Joss Whedon           [Action, Adventure, Sci-Fi]  \n",
       "Christopher Nolan              [Action, Thriller]  \n",
       "Michael Bay           [Action, Adventure, Sci-Fi]  \n",
       "Chris Renaud       [Adventure, Animation, Comedy]  \n",
       "Peter Jackson        [Adventure, Family, Fantasy]  \n",
       "Pierre Coffin      [Adventure, Animation, Comedy]  \n",
       " Kyle Balda        [Adventure, Animation, Comedy]  "
      ]
     },
     "execution_count": 11,
     "metadata": {},
     "output_type": "execute_result"
    }
   ],
   "source": [
    "# Creating a new dataframe that shows the top 10 directors by their total profit\n",
    "director_total = individual_df.loc[:, ['director', 'total_profit', '#movies_by_director', 'genres']]\n",
    "director_total = director_total.drop_duplicates(subset='director')\n",
    "director_total = director_total.set_index('director')\n",
    "top10_director_total = director_total.sort_values(by='total_profit', ascending=False).head(10)\n",
    "top10_director_total"
   ]
  },
  {
   "cell_type": "code",
   "execution_count": 12,
   "metadata": {
    "scrolled": true
   },
   "outputs": [
    {
     "data": {
      "text/plain": [
       "total_profit           0.507637\n",
       "#movies_by_director    1.000000\n",
       "Name: #movies_by_director, dtype: float64"
      ]
     },
     "execution_count": 12,
     "metadata": {},
     "output_type": "execute_result"
    }
   ],
   "source": [
    "# Checking correlation between the number of movies each director made and their total profit(performance)\n",
    "director_total.corr()['#movies_by_director'].sort_values()"
   ]
  },
  {
   "cell_type": "code",
   "execution_count": 13,
   "metadata": {
    "scrolled": false
   },
   "outputs": [
    {
     "data": {
      "image/png": "[encoded data removed]",
      "text/plain": [
       "<Figure size 864x720 with 1 Axes>"
      ]
     },
     "metadata": {
      "needs_background": "light"
     },
     "output_type": "display_data"
    }
   ],
   "source": [
    "# Scatter plot of the relationship between the number of movies each director made and their total profit(performance)\n",
    "fig, ax = plt.subplots(figsize=(12,10))\n",
    "\n",
    "ax.scatter(director_total['#movies_by_director'], director_total['total_profit'], color=\"green\")\n",
    "ax.set_title(\"Number of Movies Made by Each Director\\nvs. Their Total Profit\", fontsize=25, pad=20)\n",
    "ax.set_xlabel(\"Number of Movies Made by Each Director\", fontsize=20, labelpad=20)\n",
    "ax.set_ylabel(\"Total Profit \\nin USD Billion\", fontsize=20, labelpad=70, rotation=0);\n",
    "for label in (ax.get_xticklabels() + ax.get_yticklabels()):\n",
    "    label.set_fontsize(16)"
   ]
  },
  {
   "cell_type": "markdown",
   "metadata": {},
   "source": [
    "With correlation being 0.50, we see that there is some correlation between the number of movies each director made and their total return. However, it also raises a question why the total profit goes up until the 3rd movies, but then it decreases after that point. This does not tell us a clear story. Thus, this time, we will check out the relationship between the number of movies each director made and their average return. "
   ]
  },
  {
   "cell_type": "code",
   "execution_count": 14,
   "metadata": {
    "scrolled": true
   },
   "outputs": [
    {
     "data": {
      "text/html": [
       "<div>\n",
       "<style scoped>\n",
       "    .dataframe tbody tr th:only-of-type {\n",
       "        vertical-align: middle;\n",
       "    }\n",
       "\n",
       "    .dataframe tbody tr th {\n",
       "        vertical-align: top;\n",
       "    }\n",
       "\n",
       "    .dataframe thead th {\n",
       "        text-align: right;\n",
       "    }\n",
       "</style>\n",
       "<table border=\"1\" class=\"dataframe\">\n",
       "  <thead>\n",
       "    <tr style=\"text-align: right;\">\n",
       "      <th></th>\n",
       "      <th>avg_profit</th>\n",
       "      <th>#movies_by_director</th>\n",
       "      <th>genres</th>\n",
       "    </tr>\n",
       "    <tr>\n",
       "      <th>director</th>\n",
       "      <th></th>\n",
       "      <th></th>\n",
       "      <th></th>\n",
       "    </tr>\n",
       "  </thead>\n",
       "  <tbody>\n",
       "    <tr>\n",
       "      <th>Joss Whedon</th>\n",
       "      <td>1.182675e+09</td>\n",
       "      <td>2</td>\n",
       "      <td>[Action, Adventure, Sci-Fi]</td>\n",
       "    </tr>\n",
       "    <tr>\n",
       "      <th>Chris Buck</th>\n",
       "      <td>1.122470e+09</td>\n",
       "      <td>1</td>\n",
       "      <td>[Adventure, Animation, Comedy]</td>\n",
       "    </tr>\n",
       "    <tr>\n",
       "      <th>Jennifer Lee</th>\n",
       "      <td>1.122470e+09</td>\n",
       "      <td>1</td>\n",
       "      <td>[Adventure, Animation, Comedy]</td>\n",
       "    </tr>\n",
       "    <tr>\n",
       "      <th>Anthony Russo</th>\n",
       "      <td>1.060869e+09</td>\n",
       "      <td>3</td>\n",
       "      <td>[Action, Adventure, Sci-Fi]</td>\n",
       "    </tr>\n",
       "    <tr>\n",
       "      <th>Joe Russo</th>\n",
       "      <td>1.060869e+09</td>\n",
       "      <td>3</td>\n",
       "      <td>[Action, Adventure, Sci-Fi]</td>\n",
       "    </tr>\n",
       "    <tr>\n",
       "      <th>Kyle Balda</th>\n",
       "      <td>1.023032e+09</td>\n",
       "      <td>2</td>\n",
       "      <td>[Adventure, Animation, Comedy]</td>\n",
       "    </tr>\n",
       "    <tr>\n",
       "      <th>Pierre Coffin</th>\n",
       "      <td>1.023032e+09</td>\n",
       "      <td>2</td>\n",
       "      <td>[Adventure, Animation, Comedy]</td>\n",
       "    </tr>\n",
       "    <tr>\n",
       "      <th>Eric Guillon</th>\n",
       "      <td>9.597278e+08</td>\n",
       "      <td>1</td>\n",
       "      <td>[Adventure, Animation, Comedy]</td>\n",
       "    </tr>\n",
       "    <tr>\n",
       "      <th>James Wan</th>\n",
       "      <td>8.712059e+08</td>\n",
       "      <td>3</td>\n",
       "      <td>[Action, Crime, Thriller]</td>\n",
       "    </tr>\n",
       "    <tr>\n",
       "      <th>Jared Bush</th>\n",
       "      <td>8.694296e+08</td>\n",
       "      <td>1</td>\n",
       "      <td>[Adventure, Animation, Comedy]</td>\n",
       "    </tr>\n",
       "  </tbody>\n",
       "</table>\n",
       "</div>"
      ],
      "text/plain": [
       "                 avg_profit  #movies_by_director  \\\n",
       "director                                           \n",
       "Joss Whedon    1.182675e+09                    2   \n",
       "Chris Buck     1.122470e+09                    1   \n",
       " Jennifer Lee  1.122470e+09                    1   \n",
       "Anthony Russo  1.060869e+09                    3   \n",
       " Joe Russo     1.060869e+09                    3   \n",
       " Kyle Balda    1.023032e+09                    2   \n",
       "Pierre Coffin  1.023032e+09                    2   \n",
       " Eric Guillon  9.597278e+08                    1   \n",
       "James Wan      8.712059e+08                    3   \n",
       " Jared Bush    8.694296e+08                    1   \n",
       "\n",
       "                                       genres  \n",
       "director                                       \n",
       "Joss Whedon       [Action, Adventure, Sci-Fi]  \n",
       "Chris Buck     [Adventure, Animation, Comedy]  \n",
       " Jennifer Lee  [Adventure, Animation, Comedy]  \n",
       "Anthony Russo     [Action, Adventure, Sci-Fi]  \n",
       " Joe Russo        [Action, Adventure, Sci-Fi]  \n",
       " Kyle Balda    [Adventure, Animation, Comedy]  \n",
       "Pierre Coffin  [Adventure, Animation, Comedy]  \n",
       " Eric Guillon  [Adventure, Animation, Comedy]  \n",
       "James Wan           [Action, Crime, Thriller]  \n",
       " Jared Bush    [Adventure, Animation, Comedy]  "
      ]
     },
     "execution_count": 14,
     "metadata": {},
     "output_type": "execute_result"
    }
   ],
   "source": [
    "# Creating a new dataframe that shows the top 10 directors by their average profit\n",
    "director_avg = individual_df.loc[:, ['director', 'avg_profit', '#movies_by_director', 'genres']]\n",
    "director_avg = director_avg.drop_duplicates(subset='director')\n",
    "director_avg_index = director_avg.set_index('director')\n",
    "top10_director_avg = director_avg_index.sort_values(by='avg_profit', ascending=False).head(10)\n",
    "top10_director_avg"
   ]
  },
  {
   "cell_type": "code",
   "execution_count": 15,
   "metadata": {},
   "outputs": [
    {
     "data": {
      "text/plain": [
       "avg_profit             0.221385\n",
       "#movies_by_director    1.000000\n",
       "Name: #movies_by_director, dtype: float64"
      ]
     },
     "execution_count": 15,
     "metadata": {},
     "output_type": "execute_result"
    }
   ],
   "source": [
    "# Checking correlation between the number of movies each director made and their average profit(performance)\n",
    "director_avg.corr()['#movies_by_director'].sort_values()"
   ]
  },
  {
   "cell_type": "code",
   "execution_count": 21,
   "metadata": {
    "scrolled": false
   },
   "outputs": [
    {
     "data": {
      "image/png": "[encoded data removed]",
      "text/plain": [
       "<Figure size 864x720 with 1 Axes>"
      ]
     },
     "metadata": {
      "needs_background": "light"
     },
     "output_type": "display_data"
    }
   ],
   "source": [
    "# Scatter plot of the relationship between the number of movies each director made and their average profit(performance)\n",
    "fig, ax = plt.subplots(figsize=(12,10))\n",
    "\n",
    "ax.scatter(director_avg['#movies_by_director'], director_avg['avg_profit'], color=\"green\")\n",
    "ax.set_title(\"Number of Movies Made by Each Director\\nvs. Their Average Profit\", fontsize=25, pad=20)\n",
    "ax.set_xlabel(\"Number of Movies Made by Each Director\", fontsize=20, labelpad=20)\n",
    "ax.set_ylabel(\"Average Profit \\nin USD Billion\", fontsize=20, labelpad=70, rotation=0);\n",
    "for label in (ax.get_xticklabels() + ax.get_yticklabels()):\n",
    "    label.set_fontsize(16)"
   ]
  },
  {
   "cell_type": "markdown",
   "metadata": {},
   "source": [
    "With correlation being 0.22, we see that there is no strong relationship between the number of movies each director made and their average return. However, we have a few interesting observations.\n",
    "\n",
    "First, the directors who made more than 5 movies during 2010 - 2020 did not make the most profitable movies. However, they also did not lose money and made steady and modest profits.\n",
    "\n",
    "Second, the most profitable movies were made by directors who produced 1 to 3 movies in that time. These movies did subtantially better than others, and therefore we could look deeper into them to find more insights.\n",
    "\n",
    "We will investigate the genres that these top directors are good at making. "
   ]
  },
  {
   "cell_type": "code",
   "execution_count": 17,
   "metadata": {},
   "outputs": [
    {
     "data": {
      "text/plain": [
       "Adventure    9\n",
       "Comedy       6\n",
       "Animation    6\n",
       "Action       4\n",
       "Sci-Fi       3\n",
       "Crime        1\n",
       "Thriller     1\n",
       "Name: genres, dtype: int64"
      ]
     },
     "execution_count": 17,
     "metadata": {},
     "output_type": "execute_result"
    }
   ],
   "source": [
    "# Expanding 'genres' column which has nested lists\n",
    "# Counting the genres by top 10 director with highest average return\n",
    "top10_director_avg = top10_director_avg.explode('genres')\n",
    "top10_director_avg['genres'].value_counts()"
   ]
  },
  {
   "cell_type": "code",
   "execution_count": 18,
   "metadata": {
    "scrolled": true
   },
   "outputs": [
    {
     "data": {
      "text/plain": [
       "Adventure    8\n",
       "Action       6\n",
       "Sci-Fi       4\n",
       "Comedy       3\n",
       "Animation    3\n",
       "Thriller     2\n",
       "Crime        1\n",
       "Family       1\n",
       "Fantasy      1\n",
       "Name: genres, dtype: int64"
      ]
     },
     "execution_count": 18,
     "metadata": {},
     "output_type": "execute_result"
    }
   ],
   "source": [
    "# Expanding 'genres' column which has nested lists\n",
    "# Counting the genres by top 10 director with highest total return\n",
    "top10_director_total = top10_director_total.explode('genres')\n",
    "top10_director_total['genres'].value_counts()"
   ]
  },
  {
   "cell_type": "markdown",
   "metadata": {},
   "source": [
    "# Conclusion: \n",
    "\n",
    "We see that these top directors make Aventure the most. This confirms the results of the previous anlysis on genres. \n",
    "\n",
    "On the other hand, we might not have enough data to draw any correlation between how many movies each director made and each of their profit. It was challenging to manipulate data through grouping by several elements in order to find a meaningful observation. \n",
    "\n",
    "Perhaps, we could gather more data and provide a suggested list of potential dirctors for Microsoft's new movie studio.\n",
    "\n"
   ]
  },
  {
   "cell_type": "code",
   "execution_count": null,
   "metadata": {},
   "outputs": [],
   "source": []
  },
  {
   "cell_type": "code",
   "execution_count": null,
   "metadata": {},
   "outputs": [],
   "source": []
  },
  {
   "cell_type": "code",
   "execution_count": null,
   "metadata": {},
   "outputs": [],
   "source": []
  },
  {
   "cell_type": "code",
   "execution_count": null,
   "metadata": {},
   "outputs": [],
   "source": []
  },
  {
   "cell_type": "code",
   "execution_count": null,
   "metadata": {},
   "outputs": [],
   "source": []
  },
  {
   "cell_type": "code",
   "execution_count": 19,
   "metadata": {},
   "outputs": [
    {
     "data": {
      "text/html": [
       "<div>\n",
       "<style scoped>\n",
       "    .dataframe tbody tr th:only-of-type {\n",
       "        vertical-align: middle;\n",
       "    }\n",
       "\n",
       "    .dataframe tbody tr th {\n",
       "        vertical-align: top;\n",
       "    }\n",
       "\n",
       "    .dataframe thead th {\n",
       "        text-align: right;\n",
       "    }\n",
       "</style>\n",
       "<table border=\"1\" class=\"dataframe\">\n",
       "  <thead>\n",
       "    <tr style=\"text-align: right;\">\n",
       "      <th></th>\n",
       "      <th>movie</th>\n",
       "      <th>profit</th>\n",
       "      <th>genres</th>\n",
       "      <th>director</th>\n",
       "      <th>#movies_by_director</th>\n",
       "      <th>total_profit</th>\n",
       "      <th>avg_profit</th>\n",
       "    </tr>\n",
       "  </thead>\n",
       "  <tbody>\n",
       "    <tr>\n",
       "      <th>114</th>\n",
       "      <td>Ready Player One 2018</td>\n",
       "      <td>429290136</td>\n",
       "      <td>[Action, Adventure, Sci-Fi]</td>\n",
       "      <td>Steven Spielberg</td>\n",
       "      <td>7</td>\n",
       "      <td>1280339795</td>\n",
       "      <td>182905685.0</td>\n",
       "    </tr>\n",
       "    <tr>\n",
       "      <th>132</th>\n",
       "      <td>The BFG 2016</td>\n",
       "      <td>59646680</td>\n",
       "      <td>[Adventure, Family, Fantasy]</td>\n",
       "      <td>Steven Spielberg</td>\n",
       "      <td>7</td>\n",
       "      <td>1280339795</td>\n",
       "      <td>182905685.0</td>\n",
       "    </tr>\n",
       "    <tr>\n",
       "      <th>152</th>\n",
       "      <td>The Adventures of Tintin 2011</td>\n",
       "      <td>243993951</td>\n",
       "      <td>[Action, Adventure, Animation]</td>\n",
       "      <td>Steven Spielberg</td>\n",
       "      <td>7</td>\n",
       "      <td>1280339795</td>\n",
       "      <td>182905685.0</td>\n",
       "    </tr>\n",
       "    <tr>\n",
       "      <th>294</th>\n",
       "      <td>War Horse 2011</td>\n",
       "      <td>86815529</td>\n",
       "      <td>[Drama, History, War]</td>\n",
       "      <td>Steven Spielberg</td>\n",
       "      <td>7</td>\n",
       "      <td>1280339795</td>\n",
       "      <td>182905685.0</td>\n",
       "    </tr>\n",
       "    <tr>\n",
       "      <th>315</th>\n",
       "      <td>Lincoln 2012</td>\n",
       "      <td>208346281</td>\n",
       "      <td>[Biography, Drama, History]</td>\n",
       "      <td>Steven Spielberg</td>\n",
       "      <td>7</td>\n",
       "      <td>1280339795</td>\n",
       "      <td>182905685.0</td>\n",
       "    </tr>\n",
       "    <tr>\n",
       "      <th>403</th>\n",
       "      <td>The Post 2017</td>\n",
       "      <td>129748880</td>\n",
       "      <td>[Biography, Drama, History]</td>\n",
       "      <td>Steven Spielberg</td>\n",
       "      <td>7</td>\n",
       "      <td>1280339795</td>\n",
       "      <td>182905685.0</td>\n",
       "    </tr>\n",
       "    <tr>\n",
       "      <th>483</th>\n",
       "      <td>Bridge of Spies 2015</td>\n",
       "      <td>122498338</td>\n",
       "      <td>[Drama, History, Thriller]</td>\n",
       "      <td>Steven Spielberg</td>\n",
       "      <td>7</td>\n",
       "      <td>1280339795</td>\n",
       "      <td>182905685.0</td>\n",
       "    </tr>\n",
       "  </tbody>\n",
       "</table>\n",
       "</div>"
      ],
      "text/plain": [
       "                             movie     profit                          genres  \\\n",
       "114          Ready Player One 2018  429290136     [Action, Adventure, Sci-Fi]   \n",
       "132                   The BFG 2016   59646680    [Adventure, Family, Fantasy]   \n",
       "152  The Adventures of Tintin 2011  243993951  [Action, Adventure, Animation]   \n",
       "294                 War Horse 2011   86815529           [Drama, History, War]   \n",
       "315                   Lincoln 2012  208346281     [Biography, Drama, History]   \n",
       "403                  The Post 2017  129748880     [Biography, Drama, History]   \n",
       "483           Bridge of Spies 2015  122498338      [Drama, History, Thriller]   \n",
       "\n",
       "             director  #movies_by_director  total_profit   avg_profit  \n",
       "114  Steven Spielberg                    7    1280339795  182905685.0  \n",
       "132  Steven Spielberg                    7    1280339795  182905685.0  \n",
       "152  Steven Spielberg                    7    1280339795  182905685.0  \n",
       "294  Steven Spielberg                    7    1280339795  182905685.0  \n",
       "315  Steven Spielberg                    7    1280339795  182905685.0  \n",
       "403  Steven Spielberg                    7    1280339795  182905685.0  \n",
       "483  Steven Spielberg                    7    1280339795  182905685.0  "
      ]
     },
     "execution_count": 19,
     "metadata": {},
     "output_type": "execute_result"
    }
   ],
   "source": [
    "# Creating a function that returns all the data about the director\n",
    "def get_profile(name, df):\n",
    "    return df.loc[df['director'] == name]\n",
    "\n",
    "get_profile('Steven Spielberg', individual_df)"
   ]
  },
  {
   "cell_type": "code",
   "execution_count": 20,
   "metadata": {},
   "outputs": [
    {
     "ename": "SyntaxError",
     "evalue": "invalid syntax (<ipython-input-20-7780a941ee29>, line 13)",
     "output_type": "error",
     "traceback": [
      "\u001b[0;36m  File \u001b[0;32m\"<ipython-input-20-7780a941ee29>\"\u001b[0;36m, line \u001b[0;32m13\u001b[0m\n\u001b[0;31m    top10_directors =\u001b[0m\n\u001b[0m                      ^\u001b[0m\n\u001b[0;31mSyntaxError\u001b[0m\u001b[0;31m:\u001b[0m invalid syntax\n"
     ]
    }
   ],
   "source": [
    "top10_avg = director_avg.sort_values(by='avg_profit', ascending=False).head(10)\n",
    "top10_avg = list(top10_avg['director'])\n",
    "\n",
    "def get_profile(name, df):\n",
    "    for top in top10_avg:\n",
    "        if top == name:\n",
    "            return df.loc[df['director'] == name]\n",
    "        else:\n",
    "            None\n",
    "\n",
    "get_profile('Anthony Russo', individual_df)\n",
    "\n",
    "top10_directors = "
   ]
  }
 ],
 "metadata": {
  "kernelspec": {
   "display_name": "Python 3",
   "language": "python",
   "name": "python3"
  },
  "language_info": {
   "codemirror_mode": {
    "name": "ipython",
    "version": 3
   },
   "file_extension": ".py",
   "mimetype": "text/x-python",
   "name": "python",
   "nbconvert_exporter": "python",
   "pygments_lexer": "ipython3",
   "version": "3.8.5"
  }
 },
 "nbformat": 4,
 "nbformat_minor": 2
}
