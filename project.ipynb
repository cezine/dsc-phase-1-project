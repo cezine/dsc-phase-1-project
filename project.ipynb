{
 "cells": [
  {
   "cell_type": "markdown",
   "metadata": {},
   "source": [
    "# What makes a good movie?\n",
    "\n",
    "Our stakeholder **Microsoft** has asked us to explore what different types of films are currently doing best at the box office so that they can make better decisions on what types of films to create.\n",
    "\n",
    "## Abstract\n",
    "\n",
    "Stakeholders looking to create profitable movie titles could use this paper to identify what movie genres provide the highest return on investment, what is optimal film reach, and which directors (if any) are most likely to provide a healthy return on investment. We address what addtributes successful movie titles have had over the last decade by applying a qualitative analysis to data gathered from IMDb's public database available for download at `https://datasets.imdbws.com`\n",
    "\n",
    "IMDb is an online database of  information related to films, television programs, home videos, video games, and streaming content onlineand is now owned and operated by Amazon.com so the accuracy of this data can be trusted with a high degree of certainty.\n",
    "\n",
    "The scope of this our analysis is limited to two axes of examination, profits revenues and roi as they relate to movie genres, both foreign and domestic, and profits revenues and roi as they relate to director.\n",
    "\n",
    "### How did we process our data?\n",
    "\n",
    "We decided to use data cleaning note book separately of this paper to reduce pysical ram requirements and to streamline this paper. For a step by step run down on the processing of the data.\n",
    "\n"
   ]
  },
  {
   "cell_type": "markdown",
   "metadata": {},
   "source": [
    "## Importing the Data"
   ]
  },
  {
   "cell_type": "code",
   "execution_count": 1,
   "metadata": {},
   "outputs": [],
   "source": [
    "import pandas as pd\n",
    "import matplotlib.pyplot as plt\n",
    "import numpy as np\n",
    "import math\n",
    "import seaborn as sns\n",
    "from scipy import stats\n",
    "%matplotlib inline"
   ]
  },
  {
   "cell_type": "code",
   "execution_count": 2,
   "metadata": {
    "scrolled": true
   },
   "outputs": [
    {
     "name": "stdout",
     "output_type": "stream",
     "text": [
      "<class 'pandas.core.frame.DataFrame'>\n",
      "RangeIndex: 1311 entries, 0 to 1310\n",
      "Data columns (total 13 columns):\n",
      " #   Column             Non-Null Count  Dtype  \n",
      "---  ------             --------------  -----  \n",
      " 0   release_date       1311 non-null   object \n",
      " 1   movie              1311 non-null   object \n",
      " 2   production_budget  1311 non-null   int64  \n",
      " 3   domestic_gross     1311 non-null   int64  \n",
      " 4   worldwide_gross    1311 non-null   int64  \n",
      " 5   foreign_gross      1311 non-null   int64  \n",
      " 6   profit             1311 non-null   int64  \n",
      " 7   release_year       1311 non-null   int64  \n",
      " 8   genres             1311 non-null   object \n",
      " 9   director           1311 non-null   object \n",
      " 10  roi_domestic       1311 non-null   float64\n",
      " 11  roi_foreign        1311 non-null   float64\n",
      " 12  roi_worldwide      1311 non-null   float64\n",
      "dtypes: float64(3), int64(6), object(4)\n",
      "memory usage: 133.3+ KB\n"
     ]
    }
   ],
   "source": [
    "#this feature reads the cleaned data file contained in the Data directory\n",
    "df = pd.read_csv('final-data.csv')\n",
    "df.drop('Unnamed: 0',axis=1,inplace=True)\n",
    "\n",
    "#doing this here and not during data cleaning because this split doesnt survive being saved as .csv\n",
    "df['genres'] = df['genres'].map(lambda x: x.split(\",\"))\n",
    "df['director'] = df['director'].map(lambda x: x.split(\",\"))\n",
    "df.info()\n",
    "\n",
    "# Q2 function to chart DF's\n",
    "def Q2_plot_grapher(x, genre):\n",
    "    plot = x.loc[:,['roi_domestic', 'roi_foreign']].plot()\n",
    "    plt.xlabel('Release Year')\n",
    "    plt.ylabel('ROI %')\n",
    "    plt.title(genre + ' Genre')\n",
    "    plt.legend(bbox_to_anchor=(1, 1), loc='upper left', ncol=1);\n",
    "    return plot"
   ]
  },
  {
   "cell_type": "markdown",
   "metadata": {},
   "source": [
    "## Data Understanding\n",
    "\n",
    "All features in this analysis use the same dataset provided by our `Data/data-clean.ipynb` file which processes the raw data from zip format into a more readily usable csv file.\n",
    "\n",
    "Each of our 1311 recrods contains information about the movie's year of release, production budget, gross revenues both foreign and domestic, profit, ROI, and director."
   ]
  },
  {
   "cell_type": "code",
   "execution_count": 3,
   "metadata": {
    "scrolled": true
   },
   "outputs": [
    {
     "data": {
      "text/html": [
       "<div>\n",
       "<style scoped>\n",
       "    .dataframe tbody tr th:only-of-type {\n",
       "        vertical-align: middle;\n",
       "    }\n",
       "\n",
       "    .dataframe tbody tr th {\n",
       "        vertical-align: top;\n",
       "    }\n",
       "\n",
       "    .dataframe thead th {\n",
       "        text-align: right;\n",
       "    }\n",
       "</style>\n",
       "<table border=\"1\" class=\"dataframe\">\n",
       "  <thead>\n",
       "    <tr style=\"text-align: right;\">\n",
       "      <th></th>\n",
       "      <th>production_budget</th>\n",
       "      <th>worldwide_gross</th>\n",
       "      <th>profit</th>\n",
       "      <th>roi_worldwide</th>\n",
       "    </tr>\n",
       "  </thead>\n",
       "  <tbody>\n",
       "    <tr>\n",
       "      <th>count</th>\n",
       "      <td>1.311000e+03</td>\n",
       "      <td>1.311000e+03</td>\n",
       "      <td>1.311000e+03</td>\n",
       "      <td>1311.000000</td>\n",
       "    </tr>\n",
       "    <tr>\n",
       "      <th>mean</th>\n",
       "      <td>4.535077e+07</td>\n",
       "      <td>1.443545e+08</td>\n",
       "      <td>9.900370e+07</td>\n",
       "      <td>270.736950</td>\n",
       "    </tr>\n",
       "    <tr>\n",
       "      <th>std</th>\n",
       "      <td>5.700625e+07</td>\n",
       "      <td>2.399941e+08</td>\n",
       "      <td>1.985670e+08</td>\n",
       "      <td>1267.217927</td>\n",
       "    </tr>\n",
       "    <tr>\n",
       "      <th>min</th>\n",
       "      <td>1.500000e+04</td>\n",
       "      <td>0.000000e+00</td>\n",
       "      <td>-2.002376e+08</td>\n",
       "      <td>-100.000000</td>\n",
       "    </tr>\n",
       "    <tr>\n",
       "      <th>25%</th>\n",
       "      <td>8.000000e+06</td>\n",
       "      <td>7.631223e+06</td>\n",
       "      <td>-9.080450e+05</td>\n",
       "      <td>-33.866839</td>\n",
       "    </tr>\n",
       "    <tr>\n",
       "      <th>50%</th>\n",
       "      <td>2.500000e+07</td>\n",
       "      <td>5.180076e+07</td>\n",
       "      <td>2.295647e+07</td>\n",
       "      <td>111.524436</td>\n",
       "    </tr>\n",
       "    <tr>\n",
       "      <th>75%</th>\n",
       "      <td>5.800000e+07</td>\n",
       "      <td>1.607652e+08</td>\n",
       "      <td>1.083781e+08</td>\n",
       "      <td>303.565585</td>\n",
       "    </tr>\n",
       "    <tr>\n",
       "      <th>max</th>\n",
       "      <td>4.106000e+08</td>\n",
       "      <td>2.048134e+09</td>\n",
       "      <td>1.748134e+09</td>\n",
       "      <td>41556.474000</td>\n",
       "    </tr>\n",
       "  </tbody>\n",
       "</table>\n",
       "</div>"
      ],
      "text/plain": [
       "       production_budget  worldwide_gross        profit  roi_worldwide\n",
       "count       1.311000e+03     1.311000e+03  1.311000e+03    1311.000000\n",
       "mean        4.535077e+07     1.443545e+08  9.900370e+07     270.736950\n",
       "std         5.700625e+07     2.399941e+08  1.985670e+08    1267.217927\n",
       "min         1.500000e+04     0.000000e+00 -2.002376e+08    -100.000000\n",
       "25%         8.000000e+06     7.631223e+06 -9.080450e+05     -33.866839\n",
       "50%         2.500000e+07     5.180076e+07  2.295647e+07     111.524436\n",
       "75%         5.800000e+07     1.607652e+08  1.083781e+08     303.565585\n",
       "max         4.106000e+08     2.048134e+09  1.748134e+09   41556.474000"
      ]
     },
     "execution_count": 3,
     "metadata": {},
     "output_type": "execute_result"
    }
   ],
   "source": [
    "df[['production_budget','worldwide_gross','profit','roi_worldwide']].describe()"
   ]
  },
  {
   "cell_type": "markdown",
   "metadata": {},
   "source": [
    "### Business Question 1: Which genres of movies can expect a higher Return on Investment?\n",
    "\n",
    "Based on our business problem, we decided to first examine which genres these new films should be. We chose to do this by calculating the average return on investment for each genre and pulled the top 5 genres.\n",
    "\n",
    ">We've chosen to use median because the data contains many outliers which would make the mean a non-optimal measure of central tendency. We'll be choosing the top 5 genres based on their worlwide ROI, since this is a better indication of each films total ROI."
   ]
  },
  {
   "cell_type": "code",
   "execution_count": 4,
   "metadata": {},
   "outputs": [
    {
     "data": {
      "image/png": "[encoded data removed]",
      "text/plain": [
       "<Figure size 432x288 with 1 Axes>"
      ]
     },
     "metadata": {
      "needs_background": "light"
     },
     "output_type": "display_data"
    }
   ],
   "source": [
    "df['roi_worldwide'].hist(bins=100);"
   ]
  },
  {
   "cell_type": "markdown",
   "metadata": {},
   "source": [
    "###### Now with that said, we examine the median ROI for each genre. \n"
   ]
  },
  {
   "cell_type": "code",
   "execution_count": 5,
   "metadata": {},
   "outputs": [
    {
     "data": {
      "text/html": [
       "<div>\n",
       "<style scoped>\n",
       "    .dataframe tbody tr th:only-of-type {\n",
       "        vertical-align: middle;\n",
       "    }\n",
       "\n",
       "    .dataframe tbody tr th {\n",
       "        vertical-align: top;\n",
       "    }\n",
       "\n",
       "    .dataframe thead th {\n",
       "        text-align: right;\n",
       "    }\n",
       "</style>\n",
       "<table border=\"1\" class=\"dataframe\">\n",
       "  <thead>\n",
       "    <tr style=\"text-align: right;\">\n",
       "      <th></th>\n",
       "      <th>roi_worldwide</th>\n",
       "    </tr>\n",
       "    <tr>\n",
       "      <th>genres</th>\n",
       "      <th></th>\n",
       "    </tr>\n",
       "  </thead>\n",
       "  <tbody>\n",
       "    <tr>\n",
       "      <th>Mystery</th>\n",
       "      <td>227.818077</td>\n",
       "    </tr>\n",
       "    <tr>\n",
       "      <th>Animation</th>\n",
       "      <td>198.188978</td>\n",
       "    </tr>\n",
       "    <tr>\n",
       "      <th>Musical</th>\n",
       "      <td>173.752303</td>\n",
       "    </tr>\n",
       "    <tr>\n",
       "      <th>Sci-Fi</th>\n",
       "      <td>168.386218</td>\n",
       "    </tr>\n",
       "    <tr>\n",
       "      <th>Adventure</th>\n",
       "      <td>162.363957</td>\n",
       "    </tr>\n",
       "  </tbody>\n",
       "</table>\n",
       "</div>"
      ],
      "text/plain": [
       "           roi_worldwide\n",
       "genres                  \n",
       "Mystery       227.818077\n",
       "Animation     198.188978\n",
       "Musical       173.752303\n",
       "Sci-Fi        168.386218\n",
       "Adventure     162.363957"
      ]
     },
     "execution_count": 5,
     "metadata": {},
     "output_type": "execute_result"
    }
   ],
   "source": [
    "#the genres for each movie are in a list. I need to seperate the genres so i can perform further analysis\n",
    "genres_exp = df.explode('genres')\n",
    "unique_genres = list(genres_exp['genres'].unique())\n",
    "\n",
    "#We create a new dataframe that displays median by genre in descending order\n",
    "genres_gb = genres_exp.groupby('genres').median().sort_values(by=['roi_worldwide'], ascending = False)\n",
    "\n",
    "#take the top five and roi_worldwide\n",
    "top_5_genres_roi = genres_gb[['roi_worldwide']].head(5)\n",
    "top_5_genres_roi"
   ]
  },
  {
   "cell_type": "markdown",
   "metadata": {},
   "source": [
    "> ##### Great, let's see the  median worldwide roi's visually"
   ]
  },
  {
   "cell_type": "code",
   "execution_count": 8,
   "metadata": {},
   "outputs": [
    {
     "data": {
      "image/png": "[encoded data removed]",
      "text/plain": [
       "<Figure size 1080x720 with 1 Axes>"
      ]
     },
     "metadata": {
      "needs_background": "light"
     },
     "output_type": "display_data"
    }
   ],
   "source": [
    "#creating an individual dataframe for each genre in my genres_gb dataframe\n",
    "genres = genres_exp['genres'].unique().tolist()\n",
    "musical = genres_exp.loc[genres_exp.genres=='Musical']\n",
    "mystery = genres_exp.loc[genres_exp.genres=='Mystery']\n",
    "scifi = genres_exp.loc[genres_exp.genres=='Sci-Fi']\n",
    "adventure = genres_exp.loc[genres_exp.genres=='Adventure']\n",
    "animation = genres_exp.loc[genres_exp.genres=='Animation']\n",
    "\n",
    "#create a new dataframe with the top five average roi worldwide\n",
    "top_5_ww = adventure.append(animation)\n",
    "top_5_ww = top_5_ww.append(musical)\n",
    "top_5_ww = top_5_ww.append(mystery)\n",
    "top_5_ww = top_5_ww.append(scifi)\n",
    "\n",
    "\n",
    "\n",
    "\n",
    "#create a box plot with all 5 top genres comparing median and mean\n",
    "fig_dims = (15, 10)\n",
    "fig, ax = plt.subplots(figsize = fig_dims)\n",
    "graph = sns.boxplot( \n",
    "        x = top_5_ww['genres'], \n",
    "        y = top_5_ww['roi_worldwide'], \n",
    "        palette = 'Blues', \n",
    "        width = 0.6, \n",
    "        showfliers = False, \n",
    "        showmeans = True\n",
    "    );\n",
    "\n",
    "\n",
    "plt.ylabel('% ROI', size=14)\n",
    "plt.xlabel('Movie Genres', size=14)\n",
    "plt.title('Average Worldwide ROI For The Top 5 Genres', size=18)\n",
    "ax.yaxis.grid(False) # Hide the horizontal gridlines\n",
    "ax.xaxis.grid(False) # Hide the vertical gridlines\n",
    "\n",
    "graph.axhline(0) #create a line at 0% to clearly show which genres 25th percentile is negative\n",
    "\n",
    "sns.despine(offset=10, trim=True)\n",
    "plt.show()"
   ]
  },
  {
   "cell_type": "code",
   "execution_count": null,
   "metadata": {},
   "outputs": [],
   "source": [
    "#let's predict worst, base, and best case scenarios for each genre\n",
    "arr = adventure['roi_worldwide']\n",
    "arr2 = animation['roi_worldwide']\n",
    "arr3 = musical['roi_worldwide']\n",
    "arr4 = mystery['roi_worldwide']\n",
    "arr5 = scifi['roi_worldwide']\n",
    "print(f'Adventure ROI: \\n  Worst Case = {int(np.percentile(arr, 25))}% \\n  Base Case = {int(np.percentile(arr, 50))}% \\n  Best Case = {int(np.percentile(arr, 75))}%')\n",
    "print(f'Animation ROI: \\n  Worst Case = {int(np.percentile(arr2, 25))}% \\n  Base Case = {int(np.percentile(arr2, 50))}% \\n  Best Case = {int(np.percentile(arr2, 75))}%')\n",
    "print(f'Musical ROI: \\n  Worst Case = {int(np.percentile(arr3, 25))}% \\n  Base Case = {int(np.percentile(arr3, 50))}% \\n  Best Case = {int(np.percentile(arr3, 75))}%')\n",
    "print(f'Mystery ROI: \\n  Worst Case = {int(np.percentile(arr4, 25))}% \\n  Base Case = {int(np.percentile(arr4, 50))}% \\n  Best Case = {int(np.percentile(arr4, 75))}%')\n",
    "print(f'Sci-fi ROI: \\n  Worst Case = {int(np.percentile(arr5, 25))}% \\n  Base Case = {int(np.percentile(arr5, 50))}% \\n  Best Case = {int(np.percentile(arr5, 75))}%')"
   ]
  },
  {
   "cell_type": "code",
   "execution_count": null,
   "metadata": {},
   "outputs": [],
   "source": [
    "#creating a boxplot with the median and IDR for each genre\n",
    "#fig_dims = (20, 14)\n",
    "#fig, ax = plt.subplots(figsize=fig_dims)\n",
    "#sns.boxplot( y=genres_exp[\"genres\"], \n",
    " #           x=genres_exp[\"roi_worldwide\"], \n",
    "  #          palette=\"Blues\", \n",
    "   #         width=0.6, \n",
    "            #removing outliers\n",
    "    #        showfliers = False,\n",
    "            #adding a green dot that shows mean for each genre\n",
    "     #       showmeans = True);\n",
    "\n",
    "#creating labels for my boxplot\n",
    "#plt.xlabel(\"% ROI\", size=14)\n",
    "#plt.ylabel(\"Movie Genres\", size=14)\n",
    "#plt.title(\"Average Worldwide ROI By Genre\", size=18)\n",
    "#plt.show()"
   ]
  },
  {
   "cell_type": "markdown",
   "metadata": {},
   "source": [
    "We next decided to take a look at how each genre performed domestically, to see if it was necessary to release films in foreign countries. We were also curious to know if the top 5 genres in the USA were different than the top 5 genres worldwide"
   ]
  },
  {
   "cell_type": "code",
   "execution_count": null,
   "metadata": {},
   "outputs": [],
   "source": [
    "#fig_dims = (20, 14)\n",
    "#fig, ax = plt.subplots(figsize=fig_dims)\n",
    "#sns.boxplot( y=genres_exp[\"genres\"], \n",
    "#            x=genres_exp[\"roi_domestic\"], \n",
    "#            palette=\"Blues\", \n",
    "#            width=0.6, \n",
    "#            showfliers = False, \n",
    "#            showmeans=True);\n",
    "\n",
    "#plt.xlabel(\"% ROI\", size=14)\n",
    "#plt.ylabel(\"Movie Genres\", size=14)\n",
    "#plt.title(\"Average Domestic ROI By Genre\", size=18)\n",
    "#plt.show()"
   ]
  },
  {
   "cell_type": "code",
   "execution_count": null,
   "metadata": {},
   "outputs": [],
   "source": [
    "genres_gb_dom = genres_exp.groupby('genres').median()\n",
    "genres_gb_dom = genres_gb.sort_values(by=['roi_domestic'], ascending = False)\n",
    "genres_gb_dom[['roi_domestic']].head(5)"
   ]
  },
  {
   "cell_type": "markdown",
   "metadata": {},
   "source": [
    ">It looks like our top 5 genres in the USA are different from our top 5 genres in the world. Only two genres (mystery and animation) are in the top 5 for domestic and worlwide ROI. \n",
    "\n",
    "We next wanted to see the worst, base, and best case ROI for the top 5 genres in the USA"
   ]
  },
  {
   "cell_type": "code",
   "execution_count": null,
   "metadata": {},
   "outputs": [],
   "source": [
    "comedy = genres_exp.loc[genres_exp.genres=='Comedy']\n",
    "music = genres_exp.loc[genres_exp.genres=='Music']\n",
    "romance = genres_exp.loc[genres_exp.genres=='Romance']\n",
    "\n",
    "top_5_df_domestic= animation.append(comedy)\n",
    "top_5_df_domestic = top_5_df_domestic.append(music)\n",
    "top_5_df_domestic = top_5_df_domestic.append(mystery)\n",
    "top_5_df_domestic = top_5_df_domestic.append(romance)\n",
    "\n",
    "#created a box plot with top 5 genres in roi_domestic based on median\n",
    "fig_dims = (15, 10)\n",
    "fig, ax = plt.subplots(figsize=fig_dims)\n",
    "sns.boxplot( x=top_5_df_domestic['genres'], \n",
    "            y=top_5_df_domestic['roi_domestic'], \n",
    "            palette='Blues', \n",
    "            width=0.6, \n",
    "            showfliers = False, \n",
    "            showmeans=True,\n",
    "            data=top_5_df_domestic.groupby('roi_domestic', as_index=False).median());\n",
    "\n",
    "plt.ylabel('% ROI', size=14)\n",
    "plt.xlabel('Movie Genres', size=14)\n",
    "plt.title('Average Domestic ROI For The Top 5 Genres', size=18)\n",
    "#sns.stripplot(x=\"genres\", y=\"roi_domestic\", data=top_5_df_domestic)\n",
    "ax.yaxis.grid(False) # Hide the horizontal gridlines\n",
    "ax.xaxis.grid(False) # Show the vertical gridlines\n",
    "sns.despine(offset=10, trim=True)\n",
    "plt.show()"
   ]
  },
  {
   "cell_type": "code",
   "execution_count": null,
   "metadata": {
    "scrolled": true
   },
   "outputs": [],
   "source": [
    "#let's predict worst, base, and best case scenarios for each genre\n",
    "arr = animation['roi_domestic']\n",
    "arr2 = comedy['roi_domestic']\n",
    "arr3 = music['roi_domestic']\n",
    "arr4 = mystery['roi_domestic']\n",
    "arr5 = romance['roi_domestic']\n",
    "print(f'Animation ROI: \\n  Worst Case = {int(np.percentile(arr, 25))}% \\n  Base Case = {int(np.percentile(arr, 50))}% \\n  Best Case = {int(np.percentile(arr, 75))}%')\n",
    "print(f'Comedy ROI: \\n  Worst Case = {int(np.percentile(arr2, 25))}% \\n  Base Case = {int(np.percentile(arr2, 50))}% \\n  Best Case = {int(np.percentile(arr2, 75))}%')\n",
    "print(f'Music ROI: \\n  Worst Case = {int(np.percentile(arr3, 25))}% \\n  Base Case = {int(np.percentile(arr3, 50))}% \\n  Best Case = {int(np.percentile(arr3, 75))}%')\n",
    "print(f'Mystery ROI: \\n  Worst Case = {int(np.percentile(arr4, 25))}% \\n  Base Case = {int(np.percentile(arr4, 50))}% \\n  Best Case = {int(np.percentile(arr4, 75))}%')\n",
    "print(f'Romance ROI: \\n  Worst Case = {int(np.percentile(arr5, 25))}% \\n  Base Case = {int(np.percentile(arr5, 50))}% \\n  Best Case = {int(np.percentile(arr5, 75))}%')"
   ]
  },
  {
   "cell_type": "markdown",
   "metadata": {},
   "source": [
    "### Business Recommendation 1: \n",
    "\n",
    "##### From what we see in the graphs above and based on worst, base, and best case scenarios for each genre, we should create films in the adventure and animation genres. \n",
    "\n",
    ">Although their best case ROI predictions are not as high as the mystery and musical genres, their worst case ROI predications are both far above 0%. All movies, no matter the genre, should be released worldwide and not just domestically, the worst case ROI predictions for each of the top 5 genres with highest average domestic ROI is below -25%."
   ]
  },
  {
   "cell_type": "markdown",
   "metadata": {},
   "source": [
    "### Business Reccomendation 2: Does the average ROI by genre follow a similar trend when compared between domestic and foreign markets?"
   ]
  },
  {
   "cell_type": "code",
   "execution_count": null,
   "metadata": {},
   "outputs": [],
   "source": [
    "genres_exp['genres'].value_counts()"
   ]
  },
  {
   "cell_type": "code",
   "execution_count": null,
   "metadata": {
    "scrolled": true
   },
   "outputs": [],
   "source": [
    "# determine top 5 genres (ROI-worldwide) by creating a new dataframe and include foreign and domestic ROI\n",
    "top_5_genres_roi = genres_exp[['genres', 'roi_domestic', 'roi_foreign','roi_worldwide']].copy()\n",
    "\n",
    "# group dataframe by genres and calculate median\n",
    "genres_gb = top_5_genres_roi.groupby('genres').median()\n",
    "\n",
    "#Sort in descending order by WORLDWIDE ROI\n",
    "roi_genres = genres_gb.sort_values(by=['roi_worldwide'], ascending = False)\n",
    "roi_genres.head(10)"
   ]
  },
  {
   "cell_type": "code",
   "execution_count": null,
   "metadata": {},
   "outputs": [],
   "source": [
    "#CREATE OVERALL ROI Domestic AND Foreign table for reference\n",
    "\n",
    "q2_overall = genres_exp.loc[genres_exp['genres'].isin(['Mystery', 'Animation', 'Musical', 'Sci-Fi', 'Adventure'])]                                                     \n",
    "q2_overall = q2_overall.groupby('release_year').median()\n",
    "\n",
    "Q2_plot_grapher(q2_overall, 'Top 5')"
   ]
  },
  {
   "cell_type": "code",
   "execution_count": null,
   "metadata": {},
   "outputs": [],
   "source": [
    "#use the individual dataframes created for question 1 and group by year\n",
    "mys2 = mystery.groupby('release_year').median()\n",
    "\n",
    "ani2 = animation.groupby('release_year').median()\n",
    "\n",
    "mus2 = musical.groupby('release_year').median()\n",
    "\n",
    "scifi2 = scifi.groupby('release_year').median()\n",
    "\n",
    "adv2 = adventure.groupby('release_year').median()"
   ]
  },
  {
   "cell_type": "code",
   "execution_count": null,
   "metadata": {},
   "outputs": [],
   "source": [
    "# plot the dataframes for each genre in our top 5 using the Q2_plot_grapher func\n",
    "\n",
    "Q2_plot_grapher(mys2, 'Mystery')\n",
    "\n",
    "Q2_plot_grapher(ani2, 'Animation')\n",
    "\n",
    "Q2_plot_grapher(mus2, 'Musical')\n",
    "\n",
    "Q2_plot_grapher(scifi2, 'Sci-Fi')\n",
    "\n",
    "Q2_plot_grapher(adv2, 'Adventure');"
   ]
  },
  {
   "cell_type": "markdown",
   "metadata": {},
   "source": [
    "### Business Reccomendation 2:\n",
    "\n",
    "##### The average ROI for the top 5 genres over the past decade shows that there is a bigger return on investment in the foreign market vs. domestic.\n",
    "Based on this section of the analysis, Microsoft's movie studios should focus on producing Adventure, Sci-Fi, and Animation movies because of their greater foreign ROI potential.\n",
    "\n",
    ">Adventure, Sci-Fi, Animation, and Musical movies performed better overseas than they did in the United States. The Mystery Genre's domestic and foreign ROI follow the same general positive trend over time. Each genre's domestic ROI hovers around 0% except for Mystery movies that generally maintains a postive trajectory. There are a few outliers in the musical and mystery genre, but the foreign ROI generally performs better than the domestic ROI. "
   ]
  },
  {
   "cell_type": "markdown",
   "metadata": {},
   "source": [
    "### Business Reccomendation 3: Is director choice a characteristic of successful films?"
   ]
  },
  {
   "cell_type": "code",
   "execution_count": null,
   "metadata": {},
   "outputs": [],
   "source": [
    "# Exploring the dataframe\n",
    "display(df.head(2)), display(df.info()), display(df.isna().sum())"
   ]
  },
  {
   "cell_type": "code",
   "execution_count": null,
   "metadata": {},
   "outputs": [],
   "source": [
    "# Data cleaning\n",
    "# Dropping unnessary columns for the 3rd question\n",
    "df.drop(['release_date', 'worldwide_gross', 'foreign_gross', 'domestic_gross'], axis=1, inplace=True)\n",
    "\n",
    "# Finding the top 10 movies by 'profit'\n",
    "top10_profit = df.sort_values(by='profit', ascending=False).head(10)\n",
    "top10_profit = top10_profit.set_index('movie')\n",
    "top10_profit"
   ]
  },
  {
   "cell_type": "code",
   "execution_count": null,
   "metadata": {},
   "outputs": [],
   "source": [
    "# Stacked bar chart\n",
    "ax = top10_profit.plot(kind='barh', stacked=True, figsize=(20,12), fontsize=25)\n",
    "\n",
    "ax.set_xlabel('Profit in USD Billion', fontsize=25, labelpad=20)\n",
    "ax.set_title('Top 10 Movies by Profit 2010-2020', fontsize=35, pad=30)\n",
    "ax.legend(bbox_to_anchor=(1, 1), loc='upper left', ncol=1, fontsize=20);"
   ]
  },
  {
   "cell_type": "code",
   "execution_count": null,
   "metadata": {},
   "outputs": [],
   "source": [
    "print(f'''Directors who appear most often in the 'Top 10 Movies by Profit': \n",
    "{top10_profit['director'].value_counts().head(2)}.''')"
   ]
  },
  {
   "cell_type": "markdown",
   "metadata": {},
   "source": [
    ">No one director appeared more frequently in the 'Top 10 Movies by Profit'. We want to find if there is any correlation between directors' productivity/experience and profit."
   ]
  },
  {
   "cell_type": "code",
   "execution_count": null,
   "metadata": {
    "scrolled": true
   },
   "outputs": [],
   "source": [
    "# Creating a new dataframe 'individual_df' with 'director' column expanded to show individaul director per row\n",
    "#individual_df = df.explode('director')\n",
    "#individual_df"
   ]
  },
  {
   "cell_type": "code",
   "execution_count": null,
   "metadata": {
    "scrolled": true
   },
   "outputs": [],
   "source": [
    "# Creating a new dataframe 'individual_df' with 'director' column expanded to show individaul director per row\n",
    "individual_df = df.explode('director')\n",
    "individual_df\n",
    "\n",
    "# Counting movies made by each director\n",
    "individual_df['director'].value_counts()\n",
    "\n",
    "# Creating a column that shows the number of movies made by the individual director\n",
    "individual_df['#movies_by_director'] = individual_df.groupby(['director'])['movie'].transform('count')\n",
    "\n",
    "# Grouping the dataframe by 'director' and 'movie'\n",
    "individual_df.groupby(by=['director','movie']).sum()"
   ]
  },
  {
   "cell_type": "code",
   "execution_count": null,
   "metadata": {},
   "outputs": [],
   "source": [
    "# Creating a column that shows the average profit made by the individual director\n",
    "individual_df['avg_profit'] = individual_df.groupby(['director'])['profit'].transform('mean')\n",
    "individual_df.groupby(by=['director', 'movie']).sum()"
   ]
  },
  {
   "cell_type": "code",
   "execution_count": null,
   "metadata": {},
   "outputs": [],
   "source": [
    "# Calculating correlation between the number of movies each director made and their average profit(performance)\n",
    "individual_df.corr()['#movies_by_director'].sort_values()"
   ]
  },
  {
   "cell_type": "markdown",
   "metadata": {},
   "source": [
    ">There appears to be no correlation between a film's profit and director. In fact, there is no correlation between the director and any of our cost metrics."
   ]
  },
  {
   "cell_type": "code",
   "execution_count": null,
   "metadata": {},
   "outputs": [],
   "source": [
    "# Scatter plot of the relationship between the number of movies each director made and their average profit\n",
    "fig, ax = plt.subplots(figsize=(12,7))\n",
    "\n",
    "ax.scatter(individual_df['#movies_by_director'], \n",
    "           individual_df['avg_profit'], \n",
    "           alpha=0.3, \n",
    "           color='green')\n",
    "ax.set_title('Number of Movies Made by Director\\nvs. Their Average Profit', \n",
    "             fontsize=25, \n",
    "             pad=20)\n",
    "ax.set_xlabel('Number of Movies Made by Director', \n",
    "              fontsize=20, \n",
    "              labelpad=20)\n",
    "ax.set_ylabel('Average Profit \\nin USD Billion', \n",
    "              fontsize=20, \n",
    "              labelpad=70, \n",
    "              rotation=0);\n",
    "for label in (ax.get_xticklabels() + ax.get_yticklabels()):\n",
    "    label.set_fontsize(16)"
   ]
  },
  {
   "cell_type": "code",
   "execution_count": null,
   "metadata": {},
   "outputs": [],
   "source": [
    "# Finding the succesful directors\n",
    "#individual_df[(individual_df['#movies_by_director'] > 6)]"
   ]
  },
  {
   "cell_type": "markdown",
   "metadata": {},
   "source": [
    "### Business Recommendation 3:"
   ]
  },
  {
   "cell_type": "markdown",
   "metadata": {},
   "source": [
    "### Business Question 4: How much should we spend on these films?"
   ]
  },
  {
   "cell_type": "code",
   "execution_count": null,
   "metadata": {},
   "outputs": [],
   "source": [
    "fig, ax = plt.subplots(figsize=(15,5))\n",
    "\n",
    "ax.hist(\n",
    "    x=df['profit']\n",
    "    ,bins=100\n",
    "    ,color='orange'\n",
    "    ,alpha=1\n",
    ")\n",
    "ax.hist(\n",
    "    x=df['production_budget']\n",
    "    ,bins=75\n",
    "    ,color='blue'\n",
    "    ,alpha=1\n",
    ")\n",
    "\n",
    "\n",
    "ax.set_title('Distribution of Production Budgets & Profit')\n",
    "ax.set_xlabel('Production Budgets in $Billions')\n",
    "ax.set_ylabel('Count')\n",
    "ax.legend(['Profit','Production Budget']);"
   ]
  },
  {
   "cell_type": "markdown",
   "metadata": {},
   "source": [
    ">Does the size of the production budget of a film correlate to the total profit? When analyzing the distribution of the two characteristics of our data, a striking similarity can be found between the two distributions. In the cell below we run a pearson correlation coefficient between the two variables to inquire more about the relationship between the two"
   ]
  },
  {
   "cell_type": "code",
   "execution_count": null,
   "metadata": {},
   "outputs": [],
   "source": [
    "fig, ax = plt.subplots(figsize=(5,5))\n",
    "\n",
    "ax.scatter(\n",
    "    y=df.profit\n",
    "    ,x=df.production_budget\n",
    ")\n",
    "\n",
    "ax.set_title('Production Budget VS Profit')\n",
    "ax.set_xlabel('Produciton Budget $100M')\n",
    "ax.set_ylabel('Profit $1B');"
   ]
  },
  {
   "cell_type": "code",
   "execution_count": null,
   "metadata": {},
   "outputs": [],
   "source": [
    "df[['production_budget','profit']].corr()"
   ]
  },
  {
   "cell_type": "markdown",
   "metadata": {},
   "source": [
    ">A score of ~0.659 is a strong incation of a correlation between the amount of money spent and the amount of money made. "
   ]
  },
  {
   "cell_type": "markdown",
   "metadata": {},
   "source": [
    "In this section we analyzed whether or not there is a correlation between production budget and profit to decide if a studio should focus on producing fewer movies with higher production quality than to make more, lower budget films. Based on the appearance of a strong positive correlation between production budget and profit **we reccomend any studio looking to make large returns focus on producing fewer movies with higher production quality, taking a quality over quantity approach.**"
   ]
  },
  {
   "cell_type": "markdown",
   "metadata": {},
   "source": [
    "## Summary of Findings\n",
    "\n"
   ]
  },
  {
   "cell_type": "markdown",
   "metadata": {},
   "source": [
    "After intensive research we've been able to conclude the following information on films produced in the last 10 years:\n",
    "\n",
    "> 1. The top 5 genres based on average ROI are: adventure, animation, muical, mystery, and sci-fi. From these films we can narrow our genres down to animation and adventure, because they show a consistent return over 0%.\n",
    "> 2. Films should be released in foreign contries as well as domestically. On average foreign film gross and foreign film ROI are high than domestic. \n",
    "> 3. ...\n",
    "> 4. There is a positive correlation between production budget and profit, we suggest making a few high budget films as apposed to making many low budget films.\n",
    "\n",
    "More research will need to be done on the characteristics that impact successful films, but from our preliminary research it's clear that the genre choice and the film's reach have a direct impact on success and must be considered when deciding which type of movies we will create."
   ]
  },
  {
   "cell_type": "code",
   "execution_count": null,
   "metadata": {},
   "outputs": [],
   "source": []
  }
 ],
 "metadata": {
  "kernelspec": {
   "display_name": "Python 3",
   "language": "python",
   "name": "python3"
  },
  "language_info": {
   "codemirror_mode": {
    "name": "ipython",
    "version": 3
   },
   "file_extension": ".py",
   "mimetype": "text/x-python",
   "name": "python",
   "nbconvert_exporter": "python",
   "pygments_lexer": "ipython3",
   "version": "3.8.5"
  }
 },
 "nbformat": 4,
 "nbformat_minor": 2
}
