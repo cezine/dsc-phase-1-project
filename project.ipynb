{
 "cells": [
  {
   "cell_type": "markdown",
   "metadata": {},
   "source": [
    "\n",
    "## Final Project Submission\n",
    "\n",
    "Please fill out:\n",
    "* Student name: \n",
    "* Student pace: self paced / part time / full time\n",
    "* Scheduled project review date/time: \n",
    "* Instructor name: \n",
    "* Blog post URL:\n"
   ]
  },
  {
   "cell_type": "markdown",
   "metadata": {},
   "source": [
    "# Business Understanding\n",
    "\n"
   ]
  },
  {
   "cell_type": "code",
   "execution_count": 1,
   "metadata": {},
   "outputs": [
    {
     "data": {
      "text/html": [
       "<div>\n",
       "<style scoped>\n",
       "    .dataframe tbody tr th:only-of-type {\n",
       "        vertical-align: middle;\n",
       "    }\n",
       "\n",
       "    .dataframe tbody tr th {\n",
       "        vertical-align: top;\n",
       "    }\n",
       "\n",
       "    .dataframe thead th {\n",
       "        text-align: right;\n",
       "    }\n",
       "</style>\n",
       "<table border=\"1\" class=\"dataframe\">\n",
       "  <thead>\n",
       "    <tr style=\"text-align: right;\">\n",
       "      <th></th>\n",
       "      <th>release_date</th>\n",
       "      <th>movie</th>\n",
       "      <th>production_budget</th>\n",
       "      <th>domestic_gross</th>\n",
       "      <th>worldwide_gross</th>\n",
       "      <th>foreign_gross</th>\n",
       "      <th>profit</th>\n",
       "      <th>genres</th>\n",
       "      <th>director</th>\n",
       "    </tr>\n",
       "  </thead>\n",
       "  <tbody>\n",
       "    <tr>\n",
       "      <th>0</th>\n",
       "      <td>2011-05-20</td>\n",
       "      <td>Pirates of the Caribbean: On Stranger Tides 2011</td>\n",
       "      <td>410600000</td>\n",
       "      <td>241063875</td>\n",
       "      <td>1045663875</td>\n",
       "      <td>804600000</td>\n",
       "      <td>635063875</td>\n",
       "      <td>[Action, Adventure, Fantasy]</td>\n",
       "      <td>[Rob Marshall]</td>\n",
       "    </tr>\n",
       "    <tr>\n",
       "      <th>1</th>\n",
       "      <td>2019-06-07</td>\n",
       "      <td>Dark Phoenix 2019</td>\n",
       "      <td>350000000</td>\n",
       "      <td>42762350</td>\n",
       "      <td>149762350</td>\n",
       "      <td>107000000</td>\n",
       "      <td>-200237650</td>\n",
       "      <td>[Action, Adventure, Sci-Fi]</td>\n",
       "      <td>[Simon Kinberg]</td>\n",
       "    </tr>\n",
       "  </tbody>\n",
       "</table>\n",
       "</div>"
      ],
      "text/plain": [
       "  release_date                                             movie  \\\n",
       "0   2011-05-20  Pirates of the Caribbean: On Stranger Tides 2011   \n",
       "1   2019-06-07                                 Dark Phoenix 2019   \n",
       "\n",
       "   production_budget  domestic_gross  worldwide_gross  foreign_gross  \\\n",
       "0          410600000       241063875       1045663875      804600000   \n",
       "1          350000000        42762350        149762350      107000000   \n",
       "\n",
       "      profit                        genres         director  \n",
       "0  635063875  [Action, Adventure, Fantasy]   [Rob Marshall]  \n",
       "1 -200237650   [Action, Adventure, Sci-Fi]  [Simon Kinberg]  "
      ]
     },
     "metadata": {},
     "output_type": "display_data"
    },
    {
     "name": "stdout",
     "output_type": "stream",
     "text": [
      "<class 'pandas.core.frame.DataFrame'>\n",
      "RangeIndex: 1483 entries, 0 to 1482\n",
      "Data columns (total 9 columns):\n",
      " #   Column             Non-Null Count  Dtype \n",
      "---  ------             --------------  ----- \n",
      " 0   release_date       1483 non-null   object\n",
      " 1   movie              1483 non-null   object\n",
      " 2   production_budget  1483 non-null   int64 \n",
      " 3   domestic_gross     1483 non-null   int64 \n",
      " 4   worldwide_gross    1483 non-null   int64 \n",
      " 5   foreign_gross      1483 non-null   int64 \n",
      " 6   profit             1483 non-null   int64 \n",
      " 7   genres             1483 non-null   object\n",
      " 8   director           1483 non-null   object\n",
      "dtypes: int64(5), object(4)\n",
      "memory usage: 104.4+ KB\n"
     ]
    },
    {
     "data": {
      "text/plain": [
       "None"
      ]
     },
     "metadata": {},
     "output_type": "display_data"
    },
    {
     "data": {
      "text/plain": [
       "release_date         0\n",
       "movie                0\n",
       "production_budget    0\n",
       "domestic_gross       0\n",
       "worldwide_gross      0\n",
       "foreign_gross        0\n",
       "profit               0\n",
       "genres               0\n",
       "director             0\n",
       "dtype: int64"
      ]
     },
     "metadata": {},
     "output_type": "display_data"
    },
    {
     "data": {
      "text/plain": [
       "(None, None, None)"
      ]
     },
     "execution_count": 1,
     "metadata": {},
     "output_type": "execute_result"
    }
   ],
   "source": [
    "import pandas as pd\n",
    "import matplotlib.pyplot as plt\n",
    "import numpy as np\n",
    "import math\n",
    "import seaborn as sns\n",
    "%matplotlib inline\n",
    "df = pd.read_csv('Data/data-clean.csv')\n",
    "df.drop('Unnamed: 0',axis=1,inplace=True)\n",
    "\n",
    "#doing this here and not during data cleaning because this split doesnt survive being saved as .csv\n",
    "df['genres'] = df['genres'].map(lambda x: x.split(\",\"))\n",
    "df['director'] = df['director'].map(lambda x: x.split(\",\"))\n",
    "\n",
    "display(df.head(2)), display(df.info()) ,display(df.isna().sum())"
   ]
  },
  {
   "cell_type": "markdown",
   "metadata": {},
   "source": [
    "### Business Recommendation 1: Which genres should we create films in? Which genres provide the highest average ROI?\n",
    "\n",
    "Based on our business problem, we've decided to first conclude which genres these new films should be. We've chosen to do this by calculating the average return on investment for each genre and pulling the top 5 genres."
   ]
  },
  {
   "cell_type": "markdown",
   "metadata": {},
   "source": [
    "First we created columns that include domestic, foreign, and worlwide ROI for each movie title in our dataframe. We've also exploded the genre for each movie, so now each genre for each movie has it's own row. This will make it easier to find the average for each genre."
   ]
  },
  {
   "cell_type": "code",
   "execution_count": 2,
   "metadata": {},
   "outputs": [
    {
     "data": {
      "text/html": [
       "<div>\n",
       "<style scoped>\n",
       "    .dataframe tbody tr th:only-of-type {\n",
       "        vertical-align: middle;\n",
       "    }\n",
       "\n",
       "    .dataframe tbody tr th {\n",
       "        vertical-align: top;\n",
       "    }\n",
       "\n",
       "    .dataframe thead th {\n",
       "        text-align: right;\n",
       "    }\n",
       "</style>\n",
       "<table border=\"1\" class=\"dataframe\">\n",
       "  <thead>\n",
       "    <tr style=\"text-align: right;\">\n",
       "      <th></th>\n",
       "      <th>release_date</th>\n",
       "      <th>movie</th>\n",
       "      <th>production_budget</th>\n",
       "      <th>domestic_gross</th>\n",
       "      <th>worldwide_gross</th>\n",
       "      <th>foreign_gross</th>\n",
       "      <th>profit</th>\n",
       "      <th>genres</th>\n",
       "      <th>director</th>\n",
       "      <th>roi_domestic</th>\n",
       "      <th>roi_foreign</th>\n",
       "      <th>roi_worldwide</th>\n",
       "    </tr>\n",
       "  </thead>\n",
       "  <tbody>\n",
       "    <tr>\n",
       "      <th>0</th>\n",
       "      <td>2011-05-20</td>\n",
       "      <td>Pirates of the Caribbean: On Stranger Tides 2011</td>\n",
       "      <td>410600000</td>\n",
       "      <td>241063875</td>\n",
       "      <td>1045663875</td>\n",
       "      <td>804600000</td>\n",
       "      <td>635063875</td>\n",
       "      <td>[Action, Adventure, Fantasy]</td>\n",
       "      <td>[Rob Marshall]</td>\n",
       "      <td>-41.289850</td>\n",
       "      <td>95.957136</td>\n",
       "      <td>154.667286</td>\n",
       "    </tr>\n",
       "    <tr>\n",
       "      <th>1</th>\n",
       "      <td>2019-06-07</td>\n",
       "      <td>Dark Phoenix 2019</td>\n",
       "      <td>350000000</td>\n",
       "      <td>42762350</td>\n",
       "      <td>149762350</td>\n",
       "      <td>107000000</td>\n",
       "      <td>-200237650</td>\n",
       "      <td>[Action, Adventure, Sci-Fi]</td>\n",
       "      <td>[Simon Kinberg]</td>\n",
       "      <td>-87.782186</td>\n",
       "      <td>-69.428571</td>\n",
       "      <td>-57.210757</td>\n",
       "    </tr>\n",
       "  </tbody>\n",
       "</table>\n",
       "</div>"
      ],
      "text/plain": [
       "  release_date                                             movie  \\\n",
       "0   2011-05-20  Pirates of the Caribbean: On Stranger Tides 2011   \n",
       "1   2019-06-07                                 Dark Phoenix 2019   \n",
       "\n",
       "   production_budget  domestic_gross  worldwide_gross  foreign_gross  \\\n",
       "0          410600000       241063875       1045663875      804600000   \n",
       "1          350000000        42762350        149762350      107000000   \n",
       "\n",
       "      profit                        genres         director  roi_domestic  \\\n",
       "0  635063875  [Action, Adventure, Fantasy]   [Rob Marshall]    -41.289850   \n",
       "1 -200237650   [Action, Adventure, Sci-Fi]  [Simon Kinberg]    -87.782186   \n",
       "\n",
       "   roi_foreign  roi_worldwide  \n",
       "0    95.957136     154.667286  \n",
       "1   -69.428571     -57.210757  "
      ]
     },
     "execution_count": 2,
     "metadata": {},
     "output_type": "execute_result"
    }
   ],
   "source": [
    "#drop duplicate movie tables\n",
    "df = df.drop_duplicates(subset='movie', keep='first')\n",
    "\n",
    "#create a new column that represents the roi for domestic gross\n",
    "df['roi_domestic'] = (df['domestic_gross'] - df['production_budget']) / df['production_budget'] * 100\n",
    "\n",
    "#create a new column that represents the roi for foreign gross\n",
    "df['roi_foreign'] = (df['foreign_gross'] - df['production_budget']) / df['production_budget'] * 100\n",
    "\n",
    "#create a new column that represents the roi for worlwide gross\n",
    "df['roi_worldwide'] = (df['worldwide_gross'] - df['production_budget']) / df['production_budget'] * 100\n",
    "\n",
    "df.head(2)"
   ]
  },
  {
   "cell_type": "code",
   "execution_count": 3,
   "metadata": {},
   "outputs": [
    {
     "ename": "KeyError",
     "evalue": "'release_year'",
     "output_type": "error",
     "traceback": [
      "\u001b[0;31m---------------------------------------------------------------------------\u001b[0m",
      "\u001b[0;31mKeyError\u001b[0m                                  Traceback (most recent call last)",
      "\u001b[0;32m/opt/anaconda3/envs/learn-env/lib/python3.8/site-packages/pandas/core/indexes/base.py\u001b[0m in \u001b[0;36mget_loc\u001b[0;34m(self, key, method, tolerance)\u001b[0m\n\u001b[1;32m   2894\u001b[0m             \u001b[0;32mtry\u001b[0m\u001b[0;34m:\u001b[0m\u001b[0;34m\u001b[0m\u001b[0;34m\u001b[0m\u001b[0m\n\u001b[0;32m-> 2895\u001b[0;31m                 \u001b[0;32mreturn\u001b[0m \u001b[0mself\u001b[0m\u001b[0;34m.\u001b[0m\u001b[0m_engine\u001b[0m\u001b[0;34m.\u001b[0m\u001b[0mget_loc\u001b[0m\u001b[0;34m(\u001b[0m\u001b[0mcasted_key\u001b[0m\u001b[0;34m)\u001b[0m\u001b[0;34m\u001b[0m\u001b[0;34m\u001b[0m\u001b[0m\n\u001b[0m\u001b[1;32m   2896\u001b[0m             \u001b[0;32mexcept\u001b[0m \u001b[0mKeyError\u001b[0m \u001b[0;32mas\u001b[0m \u001b[0merr\u001b[0m\u001b[0;34m:\u001b[0m\u001b[0;34m\u001b[0m\u001b[0;34m\u001b[0m\u001b[0m\n",
      "\u001b[0;32mpandas/_libs/index.pyx\u001b[0m in \u001b[0;36mpandas._libs.index.IndexEngine.get_loc\u001b[0;34m()\u001b[0m\n",
      "\u001b[0;32mpandas/_libs/index.pyx\u001b[0m in \u001b[0;36mpandas._libs.index.IndexEngine.get_loc\u001b[0;34m()\u001b[0m\n",
      "\u001b[0;32mpandas/_libs/hashtable_class_helper.pxi\u001b[0m in \u001b[0;36mpandas._libs.hashtable.PyObjectHashTable.get_item\u001b[0;34m()\u001b[0m\n",
      "\u001b[0;32mpandas/_libs/hashtable_class_helper.pxi\u001b[0m in \u001b[0;36mpandas._libs.hashtable.PyObjectHashTable.get_item\u001b[0;34m()\u001b[0m\n",
      "\u001b[0;31mKeyError\u001b[0m: 'release_year'",
      "\nThe above exception was the direct cause of the following exception:\n",
      "\u001b[0;31mKeyError\u001b[0m                                  Traceback (most recent call last)",
      "\u001b[0;32m<ipython-input-3-91dfe1d36939>\u001b[0m in \u001b[0;36m<module>\u001b[0;34m\u001b[0m\n\u001b[1;32m      1\u001b[0m \u001b[0;31m#filter the dataframe to only show movies released in the last ten years\u001b[0m\u001b[0;34m\u001b[0m\u001b[0;34m\u001b[0m\u001b[0;34m\u001b[0m\u001b[0m\n\u001b[0;32m----> 2\u001b[0;31m \u001b[0mdf\u001b[0m \u001b[0;34m=\u001b[0m \u001b[0mdf\u001b[0m\u001b[0;34m.\u001b[0m\u001b[0mloc\u001b[0m\u001b[0;34m[\u001b[0m\u001b[0;34m(\u001b[0m\u001b[0mdf\u001b[0m\u001b[0;34m[\u001b[0m\u001b[0;34m'release_year'\u001b[0m\u001b[0;34m]\u001b[0m \u001b[0;34m>=\u001b[0m \u001b[0;36m2011\u001b[0m\u001b[0;34m)\u001b[0m\u001b[0;34m]\u001b[0m\u001b[0;34m\u001b[0m\u001b[0;34m\u001b[0m\u001b[0m\n\u001b[0m\u001b[1;32m      3\u001b[0m \u001b[0mdf\u001b[0m\u001b[0;34m.\u001b[0m\u001b[0minfo\u001b[0m\u001b[0;34m(\u001b[0m\u001b[0;34m)\u001b[0m\u001b[0;34m\u001b[0m\u001b[0;34m\u001b[0m\u001b[0m\n",
      "\u001b[0;32m/opt/anaconda3/envs/learn-env/lib/python3.8/site-packages/pandas/core/frame.py\u001b[0m in \u001b[0;36m__getitem__\u001b[0;34m(self, key)\u001b[0m\n\u001b[1;32m   2900\u001b[0m             \u001b[0;32mif\u001b[0m \u001b[0mself\u001b[0m\u001b[0;34m.\u001b[0m\u001b[0mcolumns\u001b[0m\u001b[0;34m.\u001b[0m\u001b[0mnlevels\u001b[0m \u001b[0;34m>\u001b[0m \u001b[0;36m1\u001b[0m\u001b[0;34m:\u001b[0m\u001b[0;34m\u001b[0m\u001b[0;34m\u001b[0m\u001b[0m\n\u001b[1;32m   2901\u001b[0m                 \u001b[0;32mreturn\u001b[0m \u001b[0mself\u001b[0m\u001b[0;34m.\u001b[0m\u001b[0m_getitem_multilevel\u001b[0m\u001b[0;34m(\u001b[0m\u001b[0mkey\u001b[0m\u001b[0;34m)\u001b[0m\u001b[0;34m\u001b[0m\u001b[0;34m\u001b[0m\u001b[0m\n\u001b[0;32m-> 2902\u001b[0;31m             \u001b[0mindexer\u001b[0m \u001b[0;34m=\u001b[0m \u001b[0mself\u001b[0m\u001b[0;34m.\u001b[0m\u001b[0mcolumns\u001b[0m\u001b[0;34m.\u001b[0m\u001b[0mget_loc\u001b[0m\u001b[0;34m(\u001b[0m\u001b[0mkey\u001b[0m\u001b[0;34m)\u001b[0m\u001b[0;34m\u001b[0m\u001b[0;34m\u001b[0m\u001b[0m\n\u001b[0m\u001b[1;32m   2903\u001b[0m             \u001b[0;32mif\u001b[0m \u001b[0mis_integer\u001b[0m\u001b[0;34m(\u001b[0m\u001b[0mindexer\u001b[0m\u001b[0;34m)\u001b[0m\u001b[0;34m:\u001b[0m\u001b[0;34m\u001b[0m\u001b[0;34m\u001b[0m\u001b[0m\n\u001b[1;32m   2904\u001b[0m                 \u001b[0mindexer\u001b[0m \u001b[0;34m=\u001b[0m \u001b[0;34m[\u001b[0m\u001b[0mindexer\u001b[0m\u001b[0;34m]\u001b[0m\u001b[0;34m\u001b[0m\u001b[0;34m\u001b[0m\u001b[0m\n",
      "\u001b[0;32m/opt/anaconda3/envs/learn-env/lib/python3.8/site-packages/pandas/core/indexes/base.py\u001b[0m in \u001b[0;36mget_loc\u001b[0;34m(self, key, method, tolerance)\u001b[0m\n\u001b[1;32m   2895\u001b[0m                 \u001b[0;32mreturn\u001b[0m \u001b[0mself\u001b[0m\u001b[0;34m.\u001b[0m\u001b[0m_engine\u001b[0m\u001b[0;34m.\u001b[0m\u001b[0mget_loc\u001b[0m\u001b[0;34m(\u001b[0m\u001b[0mcasted_key\u001b[0m\u001b[0;34m)\u001b[0m\u001b[0;34m\u001b[0m\u001b[0;34m\u001b[0m\u001b[0m\n\u001b[1;32m   2896\u001b[0m             \u001b[0;32mexcept\u001b[0m \u001b[0mKeyError\u001b[0m \u001b[0;32mas\u001b[0m \u001b[0merr\u001b[0m\u001b[0;34m:\u001b[0m\u001b[0;34m\u001b[0m\u001b[0;34m\u001b[0m\u001b[0m\n\u001b[0;32m-> 2897\u001b[0;31m                 \u001b[0;32mraise\u001b[0m \u001b[0mKeyError\u001b[0m\u001b[0;34m(\u001b[0m\u001b[0mkey\u001b[0m\u001b[0;34m)\u001b[0m \u001b[0;32mfrom\u001b[0m \u001b[0merr\u001b[0m\u001b[0;34m\u001b[0m\u001b[0;34m\u001b[0m\u001b[0m\n\u001b[0m\u001b[1;32m   2898\u001b[0m \u001b[0;34m\u001b[0m\u001b[0m\n\u001b[1;32m   2899\u001b[0m         \u001b[0;32mif\u001b[0m \u001b[0mtolerance\u001b[0m \u001b[0;32mis\u001b[0m \u001b[0;32mnot\u001b[0m \u001b[0;32mNone\u001b[0m\u001b[0;34m:\u001b[0m\u001b[0;34m\u001b[0m\u001b[0;34m\u001b[0m\u001b[0m\n",
      "\u001b[0;31mKeyError\u001b[0m: 'release_year'"
     ]
    }
   ],
   "source": [
    "#filter the dataframe to only show movies released in the last ten years\n",
    "df = df.loc[(df['release_year'] >= 2011)]\n",
    "df.info()"
   ]
  },
  {
   "cell_type": "code",
   "execution_count": null,
   "metadata": {},
   "outputs": [],
   "source": [
    "#the genres for each movie are in a list. I need to seperate the genres so i can perform further analysis\n",
    "genres_exp = df.explode('genres')#,ignore_index=True) \n",
    "genres_exp['genres'].unique()"
   ]
  },
  {
   "cell_type": "markdown",
   "metadata": {},
   "source": [
    "Now that that's out of the way, we can begin to find the median ROI for each genre. We've chosen to use median because the data contains many outliers which would make the mean a less accurate representation of average ROI. We'll be choosing the top 5 genres based on their worlwide ROI, since this is a better indication of each films total ROI."
   ]
  },
  {
   "cell_type": "code",
   "execution_count": null,
   "metadata": {
    "scrolled": false
   },
   "outputs": [],
   "source": [
    "#I created a new dataframe that by genres and took the median for each column\n",
    "filtered_df_median = genres_exp.groupby('genres').median()\n",
    "#I am sorting the genres in descending order and only looking at the top 5 genres\n",
    "filtered_df_median = filtered_df_median.sort_values(by=['roi_worldwide'], ascending = False)\n",
    "filtered_df_median.head(5)"
   ]
  },
  {
   "cell_type": "markdown",
   "metadata": {},
   "source": [
    "> Great, let's see those roi_worldwide averages compared visually\n"
   ]
  },
  {
   "cell_type": "code",
   "execution_count": null,
   "metadata": {},
   "outputs": [],
   "source": [
    "#creating a boxplot with the median and IDR for each genre\n",
    "fig_dims = (20, 14)\n",
    "fig, ax = plt.subplots(figsize=fig_dims)\n",
    "sns.boxplot( y=genres_exp[\"genres\"], \n",
    "            x=genres_exp[\"roi_worldwide\"], \n",
    "            palette=\"Blues\", \n",
    "            width=0.6, \n",
    "            #removing outliers\n",
    "            showfliers = False,\n",
    "            #adding a green dot that shows mean for each genre\n",
    "            showmeans = True);\n",
    "\n",
    "#creating labels for my boxplot\n",
    "plt.xlabel(\"% ROI\", size=14)\n",
    "plt.ylabel(\"Movie Genres\", size=14)\n",
    "plt.title(\"Average Worldwide ROI By Genre\", size=18)\n",
    "plt.show()"
   ]
  },
  {
   "cell_type": "markdown",
   "metadata": {},
   "source": [
    ">We want to clear some of this noise and look only at the top 5 performing genres based on that average  worldwide ROI."
   ]
  },
  {
   "cell_type": "code",
   "execution_count": null,
   "metadata": {},
   "outputs": [],
   "source": [
    "#creating an individual dataframe for each genre in my filtered_df_median dataframe\n",
    "genres=genres_exp['genres'].unique().tolist()\n",
    "musical = genres_exp.loc[genres_exp.genres=='Musical']\n",
    "mystery = genres_exp.loc[genres_exp.genres=='Mystery']\n",
    "scifi = genres_exp.loc[genres_exp.genres=='Sci-Fi']\n",
    "adventure = genres_exp.loc[genres_exp.genres=='Adventure']\n",
    "animation = genres_exp.loc[genres_exp.genres=='Animation']"
   ]
  },
  {
   "cell_type": "code",
   "execution_count": null,
   "metadata": {
    "scrolled": true
   },
   "outputs": [],
   "source": [
    "#create a new dataframe with the top five average roi worldwide\n",
    "top_5_ww = adventure.append(animation)\n",
    "top_5_ww = top_5_ww.append(musical)\n",
    "top_5_ww = top_5_ww.append(mystery)\n",
    "top_5_ww = top_5_ww.append(scifi)"
   ]
  },
  {
   "cell_type": "code",
   "execution_count": null,
   "metadata": {},
   "outputs": [],
   "source": [
    "#create a box plot with all 5 top genres comparing median and mean\n",
    "fig_dims = (15, 10)\n",
    "fig, ax = plt.subplots(figsize=fig_dims)\n",
    "sns.boxplot( x=top_5_ww[\"genres\"], \n",
    "            y=top_5_ww[\"roi_worldwide\"], \n",
    "            palette=\"Blues\", \n",
    "            width=0.6, \n",
    "            showfliers = False, \n",
    "            showmeans=True);\n",
    "\n",
    "\n",
    "plt.ylabel(\"% ROI\", size=14)\n",
    "plt.xlabel(\"Movie Genres\", size=14)\n",
    "plt.title(\"Average Worldwide ROI For The Top 5 Genres\", size=18)\n",
    "ax.yaxis.grid(False) # Hide the horizontal gridlines\n",
    "ax.xaxis.grid(False) # Hide the vertical gridlines\n",
    "\n",
    "sns.despine(offset=10, trim=True)\n",
    "plt.show()"
   ]
  },
  {
   "cell_type": "code",
   "execution_count": null,
   "metadata": {},
   "outputs": [],
   "source": [
    "#let's predict worst, base, and best case scenarios for each genre\n",
    "arr = adventure['roi_worldwide']\n",
    "arr2 = animation['roi_worldwide']\n",
    "arr3 = musical['roi_worldwide']\n",
    "arr4 = mystery['roi_worldwide']\n",
    "arr5 = scifi['roi_worldwide']\n",
    "print(f'Adventure ROI: \\n  Worst Case = {int(np.percentile(arr, 25))}% \\n  Base Case = {int(np.percentile(arr, 50))}% \\n  Best Case = {int(np.percentile(arr, 75))}%')\n",
    "print(f'Animation ROI: \\n  Worst Case = {int(np.percentile(arr2, 25))}% \\n  Base Case = {int(np.percentile(arr2, 50))}% \\n  Best Case = {int(np.percentile(arr2, 75))}%')\n",
    "print(f'Musical ROI: \\n  Worst Case = {int(np.percentile(arr3, 25))}% \\n  Base Case = {int(np.percentile(arr3, 50))}% \\n  Best Case = {int(np.percentile(arr3, 75))}%')\n",
    "print(f'Mystery ROI: \\n  Worst Case = {int(np.percentile(arr4, 25))}% \\n  Base Case = {int(np.percentile(arr4, 50))}% \\n  Best Case = {int(np.percentile(arr4, 75))}%')\n",
    "print(f'Sci-fi ROI: \\n  Worst Case = {int(np.percentile(arr5, 25))}% \\n  Base Case = {int(np.percentile(arr5, 50))}% \\n  Best Case = {int(np.percentile(arr5, 75))}%')"
   ]
  },
  {
   "cell_type": "markdown",
   "metadata": {},
   "source": [
    "We next decided to take a look at how each genre performed domestically, to see if it was necessary to release films in foreign countries. We were also curious to know if the top 5 genres in the USA were different than the top 5 genres worldwide"
   ]
  },
  {
   "cell_type": "code",
   "execution_count": null,
   "metadata": {},
   "outputs": [],
   "source": [
    "fig_dims = (20, 14)\n",
    "fig, ax = plt.subplots(figsize=fig_dims)\n",
    "sns.boxplot( y=genres_exp[\"genres\"], \n",
    "            x=genres_exp[\"roi_domestic\"], \n",
    "            palette=\"Blues\", \n",
    "            width=0.6, \n",
    "            showfliers = False, \n",
    "            showmeans=True);\n",
    "\n",
    "plt.xlabel(\"% ROI\", size=14)\n",
    "plt.ylabel(\"Movie Genres\", size=14)\n",
    "plt.title(\"Average Domestic ROI By Genre\", size=18)\n",
    "plt.show()"
   ]
  },
  {
   "cell_type": "code",
   "execution_count": null,
   "metadata": {},
   "outputs": [],
   "source": [
    "#i know this worked because my rows went down from 5310 to 3945\n",
    "filtered_df_median_dom = genres_exp.groupby('genres').median()\n",
    "filtered_df_median_dom = filtered_df_median.sort_values(by=['roi_domestic'], ascending = False)\n",
    "filtered_df_median_dom.head(5)"
   ]
  },
  {
   "cell_type": "markdown",
   "metadata": {},
   "source": [
    ">It looks like our top 5 genres in the USA are different from our top 5 genres in the world. Only two genres (mystery and animation) are in the top 5 for domestic and worlwide ROI. \n",
    "\n",
    "We next wanted to see the worst, base, and best case ROI for the top 5 genres in the USA"
   ]
  },
  {
   "cell_type": "code",
   "execution_count": null,
   "metadata": {},
   "outputs": [],
   "source": [
    "comedy = genres_exp.loc[genres_exp.genres=='Comedy']\n",
    "music = genres_exp.loc[genres_exp.genres=='Music']\n",
    "romance = genres_exp.loc[genres_exp.genres=='Romance']"
   ]
  },
  {
   "cell_type": "code",
   "execution_count": null,
   "metadata": {},
   "outputs": [],
   "source": [
    "top_5_df_domestic= animation.append(comedy)\n",
    "top_5_df_domestic['genres'].unique()"
   ]
  },
  {
   "cell_type": "code",
   "execution_count": null,
   "metadata": {},
   "outputs": [],
   "source": [
    "top_5_df_domestic = top_5_df_domestic.append(music)\n",
    "top_5_df_domestic['genres'].unique()"
   ]
  },
  {
   "cell_type": "code",
   "execution_count": null,
   "metadata": {},
   "outputs": [],
   "source": [
    "top_5_df_domestic = top_5_df_domestic.append(mystery)\n",
    "top_5_df_domestic['genres'].unique()"
   ]
  },
  {
   "cell_type": "code",
   "execution_count": null,
   "metadata": {},
   "outputs": [],
   "source": [
    "top_5_df_domestic = top_5_df_domestic.append(romance)\n",
    "top_5_df_domestic['genres'].unique()"
   ]
  },
  {
   "cell_type": "code",
   "execution_count": null,
   "metadata": {},
   "outputs": [],
   "source": [
    "#created a box plot with top 5 genres in roi_domestic based on median\n",
    "fig_dims = (15, 10)\n",
    "fig, ax = plt.subplots(figsize=fig_dims)\n",
    "sns.boxplot( x=top_5_df_domestic[\"genres\"], \n",
    "            y=top_5_df_domestic[\"roi_domestic\"], \n",
    "            palette=\"Blues\", \n",
    "            width=0.6, \n",
    "            showfliers = False, \n",
    "            showmeans=True,\n",
    "            data=top_5_df_domestic.groupby('roi_domestic', as_index=False).median());\n",
    "\n",
    "plt.ylabel(\"% ROI\", size=14)\n",
    "plt.xlabel(\"Movie Genres\", size=14)\n",
    "plt.title(\"Average Domestic ROI For The Top 5 Genres\", size=18)\n",
    "#sns.stripplot(x=\"genres\", y=\"roi_domestic\", data=top_5_df_domestic)\n",
    "ax.yaxis.grid(False) # Hide the horizontal gridlines\n",
    "ax.xaxis.grid(False) # Show the vertical gridlines\n",
    "sns.despine(offset=10, trim=True)\n",
    "plt.show()"
   ]
  },
  {
   "cell_type": "code",
   "execution_count": null,
   "metadata": {
    "scrolled": true
   },
   "outputs": [],
   "source": [
    "#let's predict worst, base, and best case scenarios for each genre\n",
    "arr = animation['roi_domestic']\n",
    "arr2 = comedy['roi_domestic']\n",
    "arr3 = music['roi_domestic']\n",
    "arr4 = mystery['roi_domestic']\n",
    "arr5 = romance['roi_domestic']\n",
    "print(f'Animation ROI: \\n  Worst Case = {int(np.percentile(arr, 25))}% \\n  Base Case = {int(np.percentile(arr, 50))}% \\n  Best Case = {int(np.percentile(arr, 75))}%')\n",
    "print(f'Comedy ROI: \\n  Worst Case = {int(np.percentile(arr2, 25))}% \\n  Base Case = {int(np.percentile(arr2, 50))}% \\n  Best Case = {int(np.percentile(arr2, 75))}%')\n",
    "print(f'Music ROI: \\n  Worst Case = {int(np.percentile(arr3, 25))}% \\n  Base Case = {int(np.percentile(arr3, 50))}% \\n  Best Case = {int(np.percentile(arr3, 75))}%')\n",
    "print(f'Mystery ROI: \\n  Worst Case = {int(np.percentile(arr4, 25))}% \\n  Base Case = {int(np.percentile(arr4, 50))}% \\n  Best Case = {int(np.percentile(arr4, 75))}%')\n",
    "print(f'Romance ROI: \\n  Worst Case = {int(np.percentile(arr5, 25))}% \\n  Base Case = {int(np.percentile(arr5, 50))}% \\n  Best Case = {int(np.percentile(arr5, 75))}%')"
   ]
  },
  {
   "cell_type": "markdown",
   "metadata": {},
   "source": [
    "### Business Recommendation 1: Conclusions\n",
    "\n",
    "From what we see in the graph above and based on worst, base, and best case scenarios for each genre, we should create films in the adventure and animation genres. Although their best case ROI predictions are not as high as the mystery and musical genres, their worst case ROI predications are both far above 0%. \n",
    "\n",
    "All movies, no matter the genre, should be released worldwide and not just domestically, the worst case ROI predictions for each of the top 5 genres with highest average domestic ROI is below -25%."
   ]
  },
  {
   "cell_type": "markdown",
   "metadata": {},
   "source": [
    "# Question 3:\n",
    "### Does the average ROI by genre follow a similar trend when compared between domestic and foreign markets?\n"
   ]
  },
  {
   "cell_type": "markdown",
   "metadata": {},
   "source": [
    "# Question 3:\n",
    "### Does the average ROI by genre follow a similar trend when compared between domestic and foreign markets?\n"
   ]
  },
  {
   "cell_type": "code",
   "execution_count": null,
   "metadata": {},
   "outputs": [],
   "source": [
    "#drop dupes\n",
    "df = df.drop_duplicates(subset='movie', keep='first')\n",
    "df.shape"
   ]
  },
  {
   "cell_type": "code",
   "execution_count": null,
   "metadata": {},
   "outputs": [],
   "source": [
    "# creating Q3 dataframe\n",
    "# ADD COLUMNS 'DOMESTIC ROI', 'FOREIGN ROI', 'WORLDWIDE ROI'\n",
    "# note: might not need to add these columns if Samantha already did it\n",
    "\n",
    "Q3_df = df\n",
    "\n",
    "Q3_df['ROI_domestic'] = ((Q3_df['domestic_gross'] - Q3_df['production_budget']) / Q3_df['production_budget']) * 100\n",
    "                               \n",
    "Q3_df['ROI_foreign'] = ((Q3_df['foreign_gross'] - Q3_df['production_budget']) / Q3_df['production_budget']) * 100\n",
    "                              \n",
    "Q3_df['ROI_worldwide'] = ((Q3_df['worldwide_gross'] - Q3_df['production_budget']) / Q3_df['production_budget']) * 100\n",
    "\n",
    "Q3_df['year'] = pd.DatetimeIndex(Q3_df['release_year']).year\n",
    "\n",
    "Q3_df = Q3_df.loc[(Q3_df['year'] > 2010)]\n",
    "\n",
    "Q3_df.shape"
   ]
  },
  {
   "cell_type": "code",
   "execution_count": null,
   "metadata": {},
   "outputs": [],
   "source": [
    "#separate each genre of a movie into their own row\n",
    "exploded_df = Q3_df.explode('genres')\n",
    "exploded_df.head()"
   ]
  },
  {
   "cell_type": "code",
   "execution_count": null,
   "metadata": {},
   "outputs": [],
   "source": [
    "exploded_df['genres'].value_counts()"
   ]
  },
  {
   "cell_type": "code",
   "execution_count": null,
   "metadata": {},
   "outputs": [],
   "source": [
    "# determine top 5 genres (ROI-worldwide) by creating a new dataframe\n",
    "top5_Q3_df = exploded_df[['genres', 'ROI_domestic', 'ROI_foreign','ROI_worldwide']].copy()\n",
    "top5_Q3_df.head()"
   ]
  },
  {
   "cell_type": "code",
   "execution_count": null,
   "metadata": {},
   "outputs": [],
   "source": [
    "# group dataframe by genres and calculate median\n",
    "grouped_by_genres = top5_Q3_df.groupby('genres').median()\n",
    "grouped_by_genres"
   ]
  },
  {
   "cell_type": "code",
   "execution_count": null,
   "metadata": {
    "scrolled": true
   },
   "outputs": [],
   "source": [
    "#get top genres sorted by WORLDWIDE ROI\n",
    "roi_genres = grouped_by_genres.sort_values(by=['ROI_worldwide'], ascending = False)\n",
    "roi_genres.head(10)"
   ]
  },
  {
   "cell_type": "code",
   "execution_count": null,
   "metadata": {},
   "outputs": [],
   "source": [
    "#isolate top 5 genres (ROI Worldwide) from original dataframe\n",
    "# am I calculating my ROI world wide wrong? SAMANTHA DIFF: HER COMEDY VS MY THRILLER\n",
    "\n",
    "mystery_df = exploded_df.loc[(exploded_df['genres'] == 'Mystery')]\n",
    "\n",
    "animation_df = exploded_df.loc[(exploded_df['genres'] == 'Animation')]\n",
    "\n",
    "musical_df = exploded_df.loc[(exploded_df['genres'] == 'Musical')]\n",
    "\n",
    "scifi_df = exploded_df.loc[(exploded_df['genres'] == 'Sci-Fi')]\n",
    "\n",
    "adventure_df = exploded_df.loc[(exploded_df['genres'] == 'Adventure')]\n",
    "\n"
   ]
  },
  {
   "cell_type": "code",
   "execution_count": null,
   "metadata": {},
   "outputs": [],
   "source": [
    "#group by year\n",
    "mys2 = mystery_df.groupby('year').median()\n",
    "\n",
    "ani2 = animation_df.groupby('year').median()\n",
    "\n",
    "mus2 = musical_df.groupby('year').median()\n",
    "\n",
    "scifi2 = scifi_df.groupby('year').median()\n",
    "\n",
    "adv2 = adventure_df.groupby('year').median()"
   ]
  },
  {
   "cell_type": "code",
   "execution_count": null,
   "metadata": {},
   "outputs": [],
   "source": [
    "# plot the dataframes\n",
    "mys2.loc[:,['ROI_domestic', 'ROI_foreign', 'ROI_worldwide']].plot();\n",
    "plt.xlabel('Release Year')\n",
    "plt.ylabel('ROI %')\n",
    "plt.title('Mystery Genre')\n",
    "plt.legend(bbox_to_anchor=(1, 1), loc='upper left', ncol=1);\n"
   ]
  },
  {
   "cell_type": "code",
   "execution_count": null,
   "metadata": {},
   "outputs": [],
   "source": [
    "ani2.loc[:,['ROI_domestic', 'ROI_foreign', 'ROI_worldwide']].plot();\n",
    "plt.xlabel('Release Year')\n",
    "plt.ylabel('ROI %')\n",
    "plt.title('Animation Genre')\n",
    "plt.legend(bbox_to_anchor=(1, 1), loc='upper left', ncol=1);"
   ]
  },
  {
   "cell_type": "code",
   "execution_count": null,
   "metadata": {},
   "outputs": [],
   "source": [
    "mus2.loc[:,['ROI_domestic', 'ROI_foreign', 'ROI_worldwide']].plot();\n",
    "plt.xlabel('Release Year')\n",
    "plt.ylabel('ROI %')\n",
    "plt.title('Musical Genre')\n",
    "plt.legend(bbox_to_anchor=(1, 1), loc='upper left', ncol=1);"
   ]
  },
  {
   "cell_type": "code",
   "execution_count": null,
   "metadata": {},
   "outputs": [],
   "source": [
    "scifi2.loc[:,['ROI_domestic', 'ROI_foreign', 'ROI_worldwide']].plot();\n",
    "plt.xlabel('Release Year')\n",
    "plt.ylabel('ROI %')\n",
    "plt.title('Sci-Fi Genre')\n",
    "plt.legend(bbox_to_anchor=(1, 1), loc='upper left', ncol=1);"
   ]
  },
  {
   "cell_type": "code",
   "execution_count": null,
   "metadata": {},
   "outputs": [],
   "source": [
    "adv2.loc[:,['ROI_domestic', 'ROI_foreign', 'ROI_worldwide']].plot();\n",
    "plt.xlabel('Release Year')\n",
    "plt.ylabel('ROI %')\n",
    "plt.title('Adventure Genre')\n",
    "plt.legend(bbox_to_anchor=(1, 1), loc='upper left', ncol=1);"
   ]
  },
  {
   "cell_type": "code",
   "execution_count": null,
   "metadata": {},
   "outputs": [],
   "source": [
    "Q3_df.corr()"
   ]
  },
  {
   "cell_type": "markdown",
   "metadata": {},
   "source": [
    "# Question 3 Conclusion\n",
    "### Does the average ROI by genre follow a similar trend when compared between domestic and foreign markets?\n",
    "\n",
    "#### The average ROI for the top 5 genres over the past decade shows that there is a bigger return on investment in the foreign market vs the domestic market for Adventure, Sci-Fi, Animation, and potentially Musical movies. The Mystery Genre's domestic and foreign ROI follow the same general positive trend over time.\n",
    "\n",
    "#### Each genre's domestic ROI hovers around 0% except for Mystery movies that generally maintains a postive trajectory. There are a few outliers in the musical and mystery genre, but the foreign ROI generally performs better than the domestic ROI. \n",
    "\n",
    "#### Based on this section of the analysis, Microsoft's movie studios should focus on producing Adventure, Sci-Fi, and Animation movies because of their greater foreign ROI potential.\n",
    "\n"
   ]
  },
  {
   "cell_type": "code",
   "execution_count": null,
   "metadata": {
    "scrolled": true
   },
   "outputs": [],
   "source": [
    "print(f'This cleaned data includes movies from {df.release_year.min()} to {df.release_year.max()}.')"
   ]
  },
  {
   "cell_type": "code",
   "execution_count": null,
   "metadata": {},
   "outputs": [],
   "source": [
    "#D ropping unnessary columns for the 3rd question\n",
    "df.drop(['release_year'],axis=1,inplace=True)"
   ]
  },
  {
   "cell_type": "code",
   "execution_count": null,
   "metadata": {},
   "outputs": [],
   "source": [
    "# Finding top 10 movies by 'worldwide_gross'\n",
    "top10_worldwide = df.sort_values(by='worldwide_gross', ascending=False).head(10)\n",
    "top10_worldwide = top10_worldwide.set_index('movie')\n",
    "top10_worldwide"
   ]
  },
  {
   "cell_type": "code",
   "execution_count": null,
   "metadata": {},
   "outputs": [],
   "source": [
    "# Fiding top 10 movies by 'domestic_gross'\n",
    "#top10_domestic = df.sort_values(by='domestic_gross', ascending=False).head(10)\n",
    "#top10_domestic = top10_domestic.set_index('movie')\n",
    "#top10_domestic"
   ]
  },
  {
   "cell_type": "code",
   "execution_count": null,
   "metadata": {},
   "outputs": [],
   "source": [
    "#fig, ax = plt.subplots(ncols=2, figsize=(16, 5))\n",
    "#ax.barh(top10_worldwide.index, top10_worldwide[\"worldwide_gross\"])\n",
    "#ax2.barh(top10_domestic.index, top10_domestic[\"domestic_gross\"])\n",
    "\n",
    "#ax.set_xlabel(\"Worldwide Gross\")\n",
    "#ax2.set_xlabel(\"Domestic Gross\")\n",
    "#ax.set_title(\"Top 10 Movies Worldwide 2011-2020\")\n",
    "#ax2.set_title(\"Top 10 Movies Domestic 2011-2020\");\n",
    "#ax.legend(bbox_to_anchor=(1, 1), loc='upper left', ncol=1)\n",
    "#ax2.legend(bbox_to_anchor=(1, 1), loc='upper left', ncol=1);"
   ]
  },
  {
   "cell_type": "code",
   "execution_count": null,
   "metadata": {},
   "outputs": [],
   "source": [
    "# Visualizing data (bar chart, stacked chart)\n",
    "ax1 = top10_worldwide.plot(kind='barh')\n",
    "#ax2 = top10_domestic.plot(kind='barh')        \n",
    "ax1.set_ylabel(\"Worldwide Gross\")\n",
    "#ax2.set_ylabel(\"Domestic Gross\")\n",
    "ax1.set_title(\"Top 10 Movies Worldwide 2011-2020\")\n",
    "#ax2.set_title(\"Top 10 Movies Domestic 2011-2020\")\n",
    "ax1.legend(bbox_to_anchor=(1, 1), loc='upper left', ncol=1)\n",
    "#ax2.legend(bbox_to_anchor=(1, 1), loc='upper left', ncol=1);"
   ]
  },
  {
   "cell_type": "code",
   "execution_count": null,
   "metadata": {},
   "outputs": [],
   "source": [
    "ax1 = top10_worldwide.plot(kind='barh', stacked=True, title='Top 10 Movies Worldwide 2011-2020')\n",
    "#ax2 = top10_domestic.plot(kind='barh', stacked=True, title='Top 10 Movies Domestic 2011-2020')\n",
    "ax1.set_xlabel(\"Worldwide Gross\")\n",
    "#ax2.set_xlabel(\"Domestic Gross\")\n",
    "ax1.set_title(\"Top 10 Movies Worldwide 2011-2020\")\n",
    "#ax2.set_title(\"Top 10 Movies Domestic 2011-2020\")\n",
    "ax1.legend(bbox_to_anchor=(1, 1), loc='upper left', ncol=1)\n",
    "#ax2.legend(bbox_to_anchor=(1, 1), loc='upper left', ncol=1);"
   ]
  },
  {
   "cell_type": "code",
   "execution_count": null,
   "metadata": {},
   "outputs": [],
   "source": []
  },
  {
   "cell_type": "code",
   "execution_count": null,
   "metadata": {},
   "outputs": [],
   "source": [
    "### Answering Q3: Is there any particular director/producer who appears frequently in the above findings?"
   ]
  },
  {
   "cell_type": "code",
   "execution_count": null,
   "metadata": {},
   "outputs": [],
   "source": [
    "print(f\"The directors who appear the most in 'the top 10 movies by worldwide gross' are {top10_worldwide['director'].value_counts().head(2)}.\")"
   ]
  },
  {
   "cell_type": "code",
   "execution_count": null,
   "metadata": {},
   "outputs": [],
   "source": []
  },
  {
   "cell_type": "code",
   "execution_count": null,
   "metadata": {},
   "outputs": [],
   "source": []
  },
  {
   "cell_type": "code",
   "execution_count": null,
   "metadata": {},
   "outputs": [],
   "source": [
    "### Finding correlation between directors' productivity and profit"
   ]
  },
  {
   "cell_type": "code",
   "execution_count": null,
   "metadata": {},
   "outputs": [],
   "source": [
    "# Making 'director' column to individaul director per row\n",
    "#df['director'] = df['director'].map(lambda x: x.split(\",\"))\n",
    "individual_df = df.explode('director')\n",
    "individual_df"
   ]
  },
  {
   "cell_type": "code",
   "execution_count": null,
   "metadata": {
    "scrolled": true
   },
   "outputs": [],
   "source": [
    "# Counting movies made by each director\n",
    "individual_df['director'].value_counts()"
   ]
  },
  {
   "cell_type": "code",
   "execution_count": null,
   "metadata": {
    "scrolled": true
   },
   "outputs": [],
   "source": [
    "# Creating a column that shows the number of movies made by the individual director\n",
    "individual_df['#movies_by_director'] = individual_df.groupby(['director'])['movie'].transform('count')\n",
    "\n",
    "# Dropping unnecessary columns and organizing the dataframe by 'director' and 'movie'\n",
    "individual_df = individual_df.drop(['production_budget', 'domestic_gross', 'foreign_gross'], axis=1)\n",
    "individual_df.groupby(by=['director', 'movie']).sum().head(20)"
   ]
  },
  {
   "cell_type": "code",
   "execution_count": null,
   "metadata": {},
   "outputs": [],
   "source": [
    "# Creating a column that shows the average profit made by the individual director\n",
    "individual_df['avg_profit'] = individual_df.groupby(['director'])['profit'].transform('mean')\n",
    "individual_df['avg_world_gross'] = individual_df.groupby(['director'])['worldwide_gross'].transform('mean')\n",
    "individual_df.groupby(by=['director', 'movie']).sum().head(20)"
   ]
  },
  {
   "cell_type": "code",
   "execution_count": null,
   "metadata": {},
   "outputs": [],
   "source": [
    "# Checking correlation between directors' productivity and profit\n",
    "individual_df.corr()['#movies_by_director'].sort_values()\n"
   ]
  },
  {
   "cell_type": "code",
   "execution_count": null,
   "metadata": {},
   "outputs": [],
   "source": [
    "# Scatter plot of the relationship between directors' productivity and profit\n",
    "fig, ax = plt.subplots(figsize=(15,5))\n",
    "\n",
    "ax.scatter(individual_df['#movies_by_director'], individual_df['avg_profit'], alpha=0.3, color=\"green\")\n",
    "ax.set_title(\"productivity of a director vs. profit\")\n",
    "ax.set_xlabel(\"Number of movies made by director\")\n",
    "ax.set_ylabel(\"avg_profit\");"
   ]
  },
  {
   "cell_type": "code",
   "execution_count": null,
   "metadata": {
    "scrolled": true
   },
   "outputs": [],
   "source": [
    "# Scatter plot of the relationship between directors' productivity and worldwide gross\n",
    "fig, ax = plt.subplots(figsize=(15,5))\n",
    "\n",
    "ax.scatter(individual_df['#movies_by_director'], individual_df['avg_world_gross'], alpha=0.3, color=\"green\")\n",
    "ax.set_title(\"productivity of a director vs. worldwide gross\")\n",
    "ax.set_xlabel(\"Number of movies made by director\")\n",
    "ax.set_ylabel(\"worldwide gross\");"
   ]
  },
  {
   "cell_type": "code",
   "execution_count": null,
   "metadata": {},
   "outputs": [],
   "source": []
  }
 ],
 "metadata": {
  "kernelspec": {
   "display_name": "Python 3",
   "language": "python",
   "name": "python3"
  },
  "language_info": {
   "codemirror_mode": {
    "name": "ipython",
    "version": 3
   },
   "file_extension": ".py",
   "mimetype": "text/x-python",
   "name": "python",
   "nbconvert_exporter": "python",
   "pygments_lexer": "ipython3",
   "version": "3.8.5"
  }
 },
 "nbformat": 4,
 "nbformat_minor": 2
}
