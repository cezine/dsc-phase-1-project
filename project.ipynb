{
 "cells": [
  {
   "cell_type": "markdown",
   "metadata": {},
   "source": [
    "## Final Project Submission\n",
    "\n",
    "Please fill out:\n",
    "* Student name: \n",
    "* Student pace: self paced / part time / full time\n",
    "* Scheduled project review date/time: \n",
    "* Instructor name: \n",
    "* Blog post URL:\n"
   ]
  },
  {
   "cell_type": "markdown",
   "metadata": {},
   "source": [
    "# Business Understanding\n",
    "\n"
   ]
  },
  {
   "cell_type": "code",
   "execution_count": 1,
   "metadata": {},
   "outputs": [
    {
     "data": {
      "text/html": [
       "<div>\n",
       "<style scoped>\n",
       "    .dataframe tbody tr th:only-of-type {\n",
       "        vertical-align: middle;\n",
       "    }\n",
       "\n",
       "    .dataframe tbody tr th {\n",
       "        vertical-align: top;\n",
       "    }\n",
       "\n",
       "    .dataframe thead th {\n",
       "        text-align: right;\n",
       "    }\n",
       "</style>\n",
       "<table border=\"1\" class=\"dataframe\">\n",
       "  <thead>\n",
       "    <tr style=\"text-align: right;\">\n",
       "      <th></th>\n",
       "      <th>release_date</th>\n",
       "      <th>movie</th>\n",
       "      <th>production_budget</th>\n",
       "      <th>domestic_gross</th>\n",
       "      <th>worldwide_gross</th>\n",
       "      <th>foreign_gross</th>\n",
       "      <th>profit</th>\n",
       "      <th>genres</th>\n",
       "      <th>director</th>\n",
       "    </tr>\n",
       "  </thead>\n",
       "  <tbody>\n",
       "    <tr>\n",
       "      <th>0</th>\n",
       "      <td>2011-05-20</td>\n",
       "      <td>Pirates of the Caribbean: On Stranger Tides 2011</td>\n",
       "      <td>410600000</td>\n",
       "      <td>241063875</td>\n",
       "      <td>1045663875</td>\n",
       "      <td>804600000</td>\n",
       "      <td>635063875</td>\n",
       "      <td>[Action, Adventure, Fantasy]</td>\n",
       "      <td>[Rob Marshall]</td>\n",
       "    </tr>\n",
       "    <tr>\n",
       "      <th>1</th>\n",
       "      <td>2019-06-07</td>\n",
       "      <td>Dark Phoenix 2019</td>\n",
       "      <td>350000000</td>\n",
       "      <td>42762350</td>\n",
       "      <td>149762350</td>\n",
       "      <td>107000000</td>\n",
       "      <td>-200237650</td>\n",
       "      <td>[Action, Adventure, Sci-Fi]</td>\n",
       "      <td>[Simon Kinberg]</td>\n",
       "    </tr>\n",
       "  </tbody>\n",
       "</table>\n",
       "</div>"
      ],
      "text/plain": [
       "  release_date                                             movie  \\\n",
       "0   2011-05-20  Pirates of the Caribbean: On Stranger Tides 2011   \n",
       "1   2019-06-07                                 Dark Phoenix 2019   \n",
       "\n",
       "   production_budget  domestic_gross  worldwide_gross  foreign_gross  \\\n",
       "0          410600000       241063875       1045663875      804600000   \n",
       "1          350000000        42762350        149762350      107000000   \n",
       "\n",
       "      profit                        genres         director  \n",
       "0  635063875  [Action, Adventure, Fantasy]   [Rob Marshall]  \n",
       "1 -200237650   [Action, Adventure, Sci-Fi]  [Simon Kinberg]  "
      ]
     },
     "metadata": {},
     "output_type": "display_data"
    },
    {
     "name": "stdout",
     "output_type": "stream",
     "text": [
      "<class 'pandas.core.frame.DataFrame'>\n",
      "RangeIndex: 1537 entries, 0 to 1536\n",
      "Data columns (total 9 columns):\n",
      " #   Column             Non-Null Count  Dtype \n",
      "---  ------             --------------  ----- \n",
      " 0   release_date       1537 non-null   object\n",
      " 1   movie              1537 non-null   object\n",
      " 2   production_budget  1537 non-null   int64 \n",
      " 3   domestic_gross     1537 non-null   int64 \n",
      " 4   worldwide_gross    1537 non-null   int64 \n",
      " 5   foreign_gross      1537 non-null   int64 \n",
      " 6   profit             1537 non-null   int64 \n",
      " 7   genres             1537 non-null   object\n",
      " 8   director           1537 non-null   object\n",
      "dtypes: int64(5), object(4)\n",
      "memory usage: 108.2+ KB\n"
     ]
    },
    {
     "data": {
      "text/plain": [
       "None"
      ]
     },
     "metadata": {},
     "output_type": "display_data"
    },
    {
     "data": {
      "text/plain": [
       "release_date         0\n",
       "movie                0\n",
       "production_budget    0\n",
       "domestic_gross       0\n",
       "worldwide_gross      0\n",
       "foreign_gross        0\n",
       "profit               0\n",
       "genres               0\n",
       "director             0\n",
       "dtype: int64"
      ]
     },
     "metadata": {},
     "output_type": "display_data"
    },
    {
     "data": {
      "text/plain": [
       "(None, None, None)"
      ]
     },
     "execution_count": 1,
     "metadata": {},
     "output_type": "execute_result"
    }
   ],
   "source": [
    "import pandas as pd\n",
    "import matplotlib.pyplot as plt\n",
    "import numpy as np\n",
    "import math\n",
    "import seaborn as sns\n",
    "%matplotlib inline\n",
    "df = pd.read_csv('Data/data-clean.csv')\n",
    "df.drop('Unnamed: 0',axis=1,inplace=True)\n",
    "\n",
    "#doing this here and not during data cleaning because this split doesnt survive being saved as .csv\n",
    "df['genres'] = df['genres'].map(lambda x: x.split(\",\"))\n",
    "df['director'] = df['director'].map(lambda x: x.split(\",\"))\n",
    "\n",
    "display(df.head(2)), display(df.info()) ,display(df.isna().sum())"
   ]
  },
  {
   "cell_type": "markdown",
   "metadata": {},
   "source": [
    "### Business Recommendation 1: Which genres should we create films in? Which genres provide the highest average ROI?\n",
    "\n",
    "Based on our business problem, we've decided to first conclude which genres these new films should be. We've chosen to do this by calculating the average return on investment for each genre and pulling the top 5 genres."
   ]
  },
  {
   "cell_type": "markdown",
   "metadata": {},
   "source": [
    "First we created columns that include domestic, foreign, and worlwide ROI for each movie title in our dataframe. We've also exploded the genre for each movie, so now each genre for each movie has it's own row. This will make it easier to find the average for each genre."
   ]
  },
  {
   "cell_type": "code",
   "execution_count": 2,
   "metadata": {},
   "outputs": [
    {
     "data": {
      "text/html": [
       "<div>\n",
       "<style scoped>\n",
       "    .dataframe tbody tr th:only-of-type {\n",
       "        vertical-align: middle;\n",
       "    }\n",
       "\n",
       "    .dataframe tbody tr th {\n",
       "        vertical-align: top;\n",
       "    }\n",
       "\n",
       "    .dataframe thead th {\n",
       "        text-align: right;\n",
       "    }\n",
       "</style>\n",
       "<table border=\"1\" class=\"dataframe\">\n",
       "  <thead>\n",
       "    <tr style=\"text-align: right;\">\n",
       "      <th></th>\n",
       "      <th>release_date</th>\n",
       "      <th>movie</th>\n",
       "      <th>production_budget</th>\n",
       "      <th>domestic_gross</th>\n",
       "      <th>worldwide_gross</th>\n",
       "      <th>foreign_gross</th>\n",
       "      <th>profit</th>\n",
       "      <th>genres</th>\n",
       "      <th>director</th>\n",
       "      <th>roi_domestic</th>\n",
       "      <th>roi_foreign</th>\n",
       "      <th>roi_worldwide</th>\n",
       "    </tr>\n",
       "  </thead>\n",
       "  <tbody>\n",
       "    <tr>\n",
       "      <th>0</th>\n",
       "      <td>2011-05-20</td>\n",
       "      <td>Pirates of the Caribbean: On Stranger Tides 2011</td>\n",
       "      <td>410600000</td>\n",
       "      <td>241063875</td>\n",
       "      <td>1045663875</td>\n",
       "      <td>804600000</td>\n",
       "      <td>635063875</td>\n",
       "      <td>[Action, Adventure, Fantasy]</td>\n",
       "      <td>[Rob Marshall]</td>\n",
       "      <td>-41.289850</td>\n",
       "      <td>95.957136</td>\n",
       "      <td>154.667286</td>\n",
       "    </tr>\n",
       "    <tr>\n",
       "      <th>1</th>\n",
       "      <td>2019-06-07</td>\n",
       "      <td>Dark Phoenix 2019</td>\n",
       "      <td>350000000</td>\n",
       "      <td>42762350</td>\n",
       "      <td>149762350</td>\n",
       "      <td>107000000</td>\n",
       "      <td>-200237650</td>\n",
       "      <td>[Action, Adventure, Sci-Fi]</td>\n",
       "      <td>[Simon Kinberg]</td>\n",
       "      <td>-87.782186</td>\n",
       "      <td>-69.428571</td>\n",
       "      <td>-57.210757</td>\n",
       "    </tr>\n",
       "  </tbody>\n",
       "</table>\n",
       "</div>"
      ],
      "text/plain": [
       "  release_date                                             movie  \\\n",
       "0   2011-05-20  Pirates of the Caribbean: On Stranger Tides 2011   \n",
       "1   2019-06-07                                 Dark Phoenix 2019   \n",
       "\n",
       "   production_budget  domestic_gross  worldwide_gross  foreign_gross  \\\n",
       "0          410600000       241063875       1045663875      804600000   \n",
       "1          350000000        42762350        149762350      107000000   \n",
       "\n",
       "      profit                        genres         director  roi_domestic  \\\n",
       "0  635063875  [Action, Adventure, Fantasy]   [Rob Marshall]    -41.289850   \n",
       "1 -200237650   [Action, Adventure, Sci-Fi]  [Simon Kinberg]    -87.782186   \n",
       "\n",
       "   roi_foreign  roi_worldwide  \n",
       "0    95.957136     154.667286  \n",
       "1   -69.428571     -57.210757  "
      ]
     },
     "execution_count": 2,
     "metadata": {},
     "output_type": "execute_result"
    }
   ],
   "source": [
    "#drop duplicate movie tables\n",
    "df = df.drop_duplicates(subset='movie', keep='first')\n",
    "\n",
    "#create a new column that represents the roi for domestic gross\n",
    "df['roi_domestic'] = (df['domestic_gross'] - df['production_budget']) / df['production_budget'] * 100\n",
    "\n",
    "#create a new column that represents the roi for foreign gross\n",
    "df['roi_foreign'] = (df['foreign_gross'] - df['production_budget']) / df['production_budget'] * 100\n",
    "\n",
    "#create a new column that represents the roi for worlwide gross\n",
    "df['roi_worldwide'] = (df['worldwide_gross'] - df['production_budget']) / df['production_budget'] * 100\n",
    "\n",
    "df.head(2)"
   ]
  },
  {
   "cell_type": "code",
   "execution_count": 3,
   "metadata": {},
   "outputs": [
    {
     "name": "stdout",
     "output_type": "stream",
     "text": [
      "<class 'pandas.core.frame.DataFrame'>\n",
      "Int64Index: 1311 entries, 0 to 1536\n",
      "Data columns (total 12 columns):\n",
      " #   Column             Non-Null Count  Dtype  \n",
      "---  ------             --------------  -----  \n",
      " 0   release_date       1311 non-null   object \n",
      " 1   movie              1311 non-null   object \n",
      " 2   production_budget  1311 non-null   int64  \n",
      " 3   domestic_gross     1311 non-null   int64  \n",
      " 4   worldwide_gross    1311 non-null   int64  \n",
      " 5   foreign_gross      1311 non-null   int64  \n",
      " 6   profit             1311 non-null   int64  \n",
      " 7   genres             1311 non-null   object \n",
      " 8   director           1311 non-null   object \n",
      " 9   roi_domestic       1311 non-null   float64\n",
      " 10  roi_foreign        1311 non-null   float64\n",
      " 11  roi_worldwide      1311 non-null   float64\n",
      "dtypes: float64(3), int64(5), object(4)\n",
      "memory usage: 133.1+ KB\n"
     ]
    }
   ],
   "source": [
    "#filter the dataframe to only show movies released in the last ten years\n",
    "df = df.loc[(df['release_date'] >= '2011-01-01')]\n",
    "df.info()"
   ]
  },
  {
   "cell_type": "code",
   "execution_count": 4,
   "metadata": {},
   "outputs": [
    {
     "data": {
      "text/plain": [
       "array(['Action', 'Adventure', 'Fantasy', 'Sci-Fi', 'Thriller', 'Western',\n",
       "       'Family', 'Crime', 'Comedy', 'Animation', 'Horror', 'Drama',\n",
       "       'Romance', 'Mystery', 'Musical', 'History', 'Documentary',\n",
       "       'Biography', 'War', 'Sport', 'Music'], dtype=object)"
      ]
     },
     "execution_count": 4,
     "metadata": {},
     "output_type": "execute_result"
    }
   ],
   "source": [
    "#the genres for each movie are in a list. I need to seperate the genres so i can perform further analysis\n",
    "df = df.explode('genres')#,ignore_index=True) \n",
    "df['genres'].unique()"
   ]
  },
  {
   "cell_type": "markdown",
   "metadata": {},
   "source": [
    "Now that that's out of the way, we can begin to find the median ROI for each genre. We've chosen to use median because the data contains many outliers which would make the mean a less accurate representation of average ROI. We'll be choosing the top 5 genres based on their worlwide ROI, since this is a better indication of each films total ROI."
   ]
  },
  {
   "cell_type": "code",
   "execution_count": 5,
   "metadata": {
    "scrolled": false
   },
   "outputs": [
    {
     "data": {
      "text/html": [
       "<div>\n",
       "<style scoped>\n",
       "    .dataframe tbody tr th:only-of-type {\n",
       "        vertical-align: middle;\n",
       "    }\n",
       "\n",
       "    .dataframe tbody tr th {\n",
       "        vertical-align: top;\n",
       "    }\n",
       "\n",
       "    .dataframe thead th {\n",
       "        text-align: right;\n",
       "    }\n",
       "</style>\n",
       "<table border=\"1\" class=\"dataframe\">\n",
       "  <thead>\n",
       "    <tr style=\"text-align: right;\">\n",
       "      <th></th>\n",
       "      <th>production_budget</th>\n",
       "      <th>domestic_gross</th>\n",
       "      <th>worldwide_gross</th>\n",
       "      <th>foreign_gross</th>\n",
       "      <th>profit</th>\n",
       "      <th>roi_domestic</th>\n",
       "      <th>roi_foreign</th>\n",
       "      <th>roi_worldwide</th>\n",
       "    </tr>\n",
       "    <tr>\n",
       "      <th>genres</th>\n",
       "      <th></th>\n",
       "      <th></th>\n",
       "      <th></th>\n",
       "      <th></th>\n",
       "      <th></th>\n",
       "      <th></th>\n",
       "      <th></th>\n",
       "      <th></th>\n",
       "    </tr>\n",
       "  </thead>\n",
       "  <tbody>\n",
       "    <tr>\n",
       "      <th>Mystery</th>\n",
       "      <td>12000000.0</td>\n",
       "      <td>25801570.0</td>\n",
       "      <td>45173738.0</td>\n",
       "      <td>26064449.0</td>\n",
       "      <td>36785387.0</td>\n",
       "      <td>56.965319</td>\n",
       "      <td>55.904993</td>\n",
       "      <td>227.818077</td>\n",
       "    </tr>\n",
       "    <tr>\n",
       "      <th>Animation</th>\n",
       "      <td>80000000.0</td>\n",
       "      <td>107514024.0</td>\n",
       "      <td>298374416.0</td>\n",
       "      <td>177037019.5</td>\n",
       "      <td>172705121.0</td>\n",
       "      <td>5.784405</td>\n",
       "      <td>83.082221</td>\n",
       "      <td>198.188978</td>\n",
       "    </tr>\n",
       "    <tr>\n",
       "      <th>Musical</th>\n",
       "      <td>39150000.0</td>\n",
       "      <td>21173039.5</td>\n",
       "      <td>55929699.0</td>\n",
       "      <td>34756659.5</td>\n",
       "      <td>20763733.0</td>\n",
       "      <td>-49.429681</td>\n",
       "      <td>42.465095</td>\n",
       "      <td>173.752303</td>\n",
       "    </tr>\n",
       "    <tr>\n",
       "      <th>Sci-Fi</th>\n",
       "      <td>93000000.0</td>\n",
       "      <td>79042440.0</td>\n",
       "      <td>242981799.0</td>\n",
       "      <td>164259216.0</td>\n",
       "      <td>128564919.0</td>\n",
       "      <td>-8.206552</td>\n",
       "      <td>69.339398</td>\n",
       "      <td>168.386218</td>\n",
       "    </tr>\n",
       "    <tr>\n",
       "      <th>Adventure</th>\n",
       "      <td>100000000.0</td>\n",
       "      <td>80085291.5</td>\n",
       "      <td>232342837.5</td>\n",
       "      <td>154937420.5</td>\n",
       "      <td>126986053.0</td>\n",
       "      <td>-8.951864</td>\n",
       "      <td>53.815108</td>\n",
       "      <td>162.363957</td>\n",
       "    </tr>\n",
       "  </tbody>\n",
       "</table>\n",
       "</div>"
      ],
      "text/plain": [
       "           production_budget  domestic_gross  worldwide_gross  foreign_gross  \\\n",
       "genres                                                                         \n",
       "Mystery           12000000.0      25801570.0       45173738.0     26064449.0   \n",
       "Animation         80000000.0     107514024.0      298374416.0    177037019.5   \n",
       "Musical           39150000.0      21173039.5       55929699.0     34756659.5   \n",
       "Sci-Fi            93000000.0      79042440.0      242981799.0    164259216.0   \n",
       "Adventure        100000000.0      80085291.5      232342837.5    154937420.5   \n",
       "\n",
       "                profit  roi_domestic  roi_foreign  roi_worldwide  \n",
       "genres                                                            \n",
       "Mystery     36785387.0     56.965319    55.904993     227.818077  \n",
       "Animation  172705121.0      5.784405    83.082221     198.188978  \n",
       "Musical     20763733.0    -49.429681    42.465095     173.752303  \n",
       "Sci-Fi     128564919.0     -8.206552    69.339398     168.386218  \n",
       "Adventure  126986053.0     -8.951864    53.815108     162.363957  "
      ]
     },
     "execution_count": 5,
     "metadata": {},
     "output_type": "execute_result"
    }
   ],
   "source": [
    "#I created a new dataframe that by genres and took the median for each column\n",
    "filtered_df_median = df.groupby('genres').median()\n",
    "#I am sorting the genres in descending order and only looking at the top 5 genres\n",
    "filtered_df_median = filtered_df_median.sort_values(by=['roi_worldwide'], ascending = False)\n",
    "filtered_df_median.head(5)"
   ]
  },
  {
   "cell_type": "markdown",
   "metadata": {},
   "source": [
    "> Great, let's see those roi_worldwide averages compared visually\n"
   ]
  },
  {
   "cell_type": "code",
   "execution_count": 6,
   "metadata": {},
   "outputs": [
    {
     "data": {
      "image/png": "[encoded data removed]",
      "text/plain": [
       "<Figure size 1440x1008 with 1 Axes>"
      ]
     },
     "metadata": {
      "needs_background": "light"
     },
     "output_type": "display_data"
    }
   ],
   "source": [
    "#creating a boxplot with the median and IDR for each genre\n",
    "fig_dims = (20, 14)\n",
    "fig, ax = plt.subplots(figsize=fig_dims)\n",
    "sns.boxplot( y=df[\"genres\"], \n",
    "            x=df[\"roi_worldwide\"], \n",
    "            palette=\"Blues\", \n",
    "            width=0.6, \n",
    "            #removing outliers\n",
    "            showfliers = False,\n",
    "            #adding a green dot that shows mean for each genre\n",
    "            showmeans = True);\n",
    "\n",
    "#creating labels for my boxplot\n",
    "plt.xlabel(\"% ROI\", size=14)\n",
    "plt.ylabel(\"Movie Genres\", size=14)\n",
    "plt.title(\"Average Worldwide ROI By Genre\", size=18)\n",
    "plt.show()"
   ]
  },
  {
   "cell_type": "markdown",
   "metadata": {},
   "source": [
    ">We want to clear some of this noise and look only at the top 5 performing genres based on that average  worldwide ROI."
   ]
  },
  {
   "cell_type": "code",
   "execution_count": 7,
   "metadata": {},
   "outputs": [],
   "source": [
    "#creating an individual dataframe for each genre in my filtered_df_median dataframe\n",
    "genres=df['genres'].unique().tolist()\n",
    "musical = df.loc[df.genres=='Musical']\n",
    "mystery = df.loc[df.genres=='Mystery']\n",
    "scifi = df.loc[df.genres=='Sci-Fi']\n",
    "adventure = df.loc[df.genres=='Adventure']\n",
    "animation = df.loc[df.genres=='Animation']"
   ]
  },
  {
   "cell_type": "code",
   "execution_count": 8,
   "metadata": {
    "scrolled": true
   },
   "outputs": [],
   "source": [
    "#create a new dataframe with the top five average roi worldwide\n",
    "top_5_ww = adventure.append(animation)\n",
    "top_5_ww = top_5_ww.append(musical)\n",
    "top_5_ww = top_5_ww.append(mystery)\n",
    "top_5_ww = top_5_ww.append(scifi)"
   ]
  },
  {
   "cell_type": "code",
   "execution_count": 9,
   "metadata": {},
   "outputs": [
    {
     "data": {
      "image/png": "[encoded data removed]",
      "text/plain": [
       "<Figure size 1080x720 with 1 Axes>"
      ]
     },
     "metadata": {
      "needs_background": "light"
     },
     "output_type": "display_data"
    }
   ],
   "source": [
    "#create a box plot with all 5 top genres comparing median and mean\n",
    "fig_dims = (15, 10)\n",
    "fig, ax = plt.subplots(figsize=fig_dims)\n",
    "sns.boxplot( x=top_5_ww[\"genres\"], \n",
    "            y=top_5_ww[\"roi_worldwide\"], \n",
    "            palette=\"Blues\", \n",
    "            width=0.6, \n",
    "            showfliers = False, \n",
    "            showmeans=True);\n",
    "\n",
    "\n",
    "plt.ylabel(\"% ROI\", size=14)\n",
    "plt.xlabel(\"Movie Genres\", size=14)\n",
    "plt.title(\"Average Worldwide ROI For The Top 5 Genres\", size=18)\n",
    "ax.yaxis.grid(False) # Hide the horizontal gridlines\n",
    "ax.xaxis.grid(False) # Hide the vertical gridlines\n",
    "\n",
    "sns.despine(offset=10, trim=True)\n",
    "plt.show()"
   ]
  },
  {
   "cell_type": "code",
   "execution_count": 10,
   "metadata": {},
   "outputs": [
    {
     "name": "stdout",
     "output_type": "stream",
     "text": [
      "Adventure ROI: \n",
      "  Worst Case = 41% \n",
      "  Base Case = 162% \n",
      "  Best Case = 305%\n",
      "Animation ROI: \n",
      "  Worst Case = 78% \n",
      "  Base Case = 198% \n",
      "  Best Case = 335%\n",
      "Musical ROI: \n",
      "  Worst Case = -78% \n",
      "  Base Case = 173% \n",
      "  Best Case = 474%\n",
      "Mystery ROI: \n",
      "  Worst Case = -13% \n",
      "  Base Case = 227% \n",
      "  Best Case = 613%\n",
      "Sci-fi ROI: \n",
      "  Worst Case = 5% \n",
      "  Base Case = 168% \n",
      "  Best Case = 420%\n"
     ]
    }
   ],
   "source": [
    "#let's predict worst, base, and best case scenarios for each genre\n",
    "arr = adventure['roi_worldwide']\n",
    "arr2 = animation['roi_worldwide']\n",
    "arr3 = musical['roi_worldwide']\n",
    "arr4 = mystery['roi_worldwide']\n",
    "arr5 = scifi['roi_worldwide']\n",
    "print(f'Adventure ROI: \\n  Worst Case = {int(np.percentile(arr, 25))}% \\n  Base Case = {int(np.percentile(arr, 50))}% \\n  Best Case = {int(np.percentile(arr, 75))}%')\n",
    "print(f'Animation ROI: \\n  Worst Case = {int(np.percentile(arr2, 25))}% \\n  Base Case = {int(np.percentile(arr2, 50))}% \\n  Best Case = {int(np.percentile(arr2, 75))}%')\n",
    "print(f'Musical ROI: \\n  Worst Case = {int(np.percentile(arr3, 25))}% \\n  Base Case = {int(np.percentile(arr3, 50))}% \\n  Best Case = {int(np.percentile(arr3, 75))}%')\n",
    "print(f'Mystery ROI: \\n  Worst Case = {int(np.percentile(arr4, 25))}% \\n  Base Case = {int(np.percentile(arr4, 50))}% \\n  Best Case = {int(np.percentile(arr4, 75))}%')\n",
    "print(f'Sci-fi ROI: \\n  Worst Case = {int(np.percentile(arr5, 25))}% \\n  Base Case = {int(np.percentile(arr5, 50))}% \\n  Best Case = {int(np.percentile(arr5, 75))}%')"
   ]
  },
  {
   "cell_type": "markdown",
   "metadata": {},
   "source": [
    "We next decided to take a look at how each genre performed domestically, to see if it was necessary to release films in foreign countries. We were also curious to know if the top 5 genres in the USA were different than the top 5 genres worldwide"
   ]
  },
  {
   "cell_type": "code",
   "execution_count": 11,
   "metadata": {},
   "outputs": [
    {
     "data": {
      "image/png": "[encoded data removed]",
      "text/plain": [
       "<Figure size 1440x1008 with 1 Axes>"
      ]
     },
     "metadata": {
      "needs_background": "light"
     },
     "output_type": "display_data"
    }
   ],
   "source": [
    "fig_dims = (20, 14)\n",
    "fig, ax = plt.subplots(figsize=fig_dims)\n",
    "sns.boxplot( y=df[\"genres\"], \n",
    "            x=df[\"roi_domestic\"], \n",
    "            palette=\"Blues\", \n",
    "            width=0.6, \n",
    "            showfliers = False, \n",
    "            showmeans=True);\n",
    "\n",
    "plt.xlabel(\"% ROI\", size=14)\n",
    "plt.ylabel(\"Movie Genres\", size=14)\n",
    "plt.title(\"Average Domestic ROI By Genre\", size=18)\n",
    "plt.show()"
   ]
  },
  {
   "cell_type": "code",
   "execution_count": 12,
   "metadata": {},
   "outputs": [
    {
     "data": {
      "text/html": [
       "<div>\n",
       "<style scoped>\n",
       "    .dataframe tbody tr th:only-of-type {\n",
       "        vertical-align: middle;\n",
       "    }\n",
       "\n",
       "    .dataframe tbody tr th {\n",
       "        vertical-align: top;\n",
       "    }\n",
       "\n",
       "    .dataframe thead th {\n",
       "        text-align: right;\n",
       "    }\n",
       "</style>\n",
       "<table border=\"1\" class=\"dataframe\">\n",
       "  <thead>\n",
       "    <tr style=\"text-align: right;\">\n",
       "      <th></th>\n",
       "      <th>production_budget</th>\n",
       "      <th>domestic_gross</th>\n",
       "      <th>worldwide_gross</th>\n",
       "      <th>foreign_gross</th>\n",
       "      <th>profit</th>\n",
       "      <th>roi_domestic</th>\n",
       "      <th>roi_foreign</th>\n",
       "      <th>roi_worldwide</th>\n",
       "    </tr>\n",
       "    <tr>\n",
       "      <th>genres</th>\n",
       "      <th></th>\n",
       "      <th></th>\n",
       "      <th></th>\n",
       "      <th></th>\n",
       "      <th></th>\n",
       "      <th></th>\n",
       "      <th></th>\n",
       "      <th></th>\n",
       "    </tr>\n",
       "  </thead>\n",
       "  <tbody>\n",
       "    <tr>\n",
       "      <th>Mystery</th>\n",
       "      <td>12000000.0</td>\n",
       "      <td>25801570.0</td>\n",
       "      <td>45173738.0</td>\n",
       "      <td>26064449.0</td>\n",
       "      <td>36785387.0</td>\n",
       "      <td>56.965319</td>\n",
       "      <td>55.904993</td>\n",
       "      <td>227.818077</td>\n",
       "    </tr>\n",
       "    <tr>\n",
       "      <th>Music</th>\n",
       "      <td>14500000.0</td>\n",
       "      <td>16376066.0</td>\n",
       "      <td>31157914.0</td>\n",
       "      <td>7835022.0</td>\n",
       "      <td>11001573.0</td>\n",
       "      <td>20.438264</td>\n",
       "      <td>-38.546933</td>\n",
       "      <td>128.700183</td>\n",
       "    </tr>\n",
       "    <tr>\n",
       "      <th>Comedy</th>\n",
       "      <td>28000000.0</td>\n",
       "      <td>37243418.0</td>\n",
       "      <td>62758010.0</td>\n",
       "      <td>23046889.0</td>\n",
       "      <td>31239258.0</td>\n",
       "      <td>11.473743</td>\n",
       "      <td>-11.529117</td>\n",
       "      <td>144.709156</td>\n",
       "    </tr>\n",
       "    <tr>\n",
       "      <th>Romance</th>\n",
       "      <td>16000000.0</td>\n",
       "      <td>18729727.5</td>\n",
       "      <td>37682552.0</td>\n",
       "      <td>11190158.0</td>\n",
       "      <td>15492694.5</td>\n",
       "      <td>10.848518</td>\n",
       "      <td>-19.633567</td>\n",
       "      <td>133.868173</td>\n",
       "    </tr>\n",
       "    <tr>\n",
       "      <th>Animation</th>\n",
       "      <td>80000000.0</td>\n",
       "      <td>107514024.0</td>\n",
       "      <td>298374416.0</td>\n",
       "      <td>177037019.5</td>\n",
       "      <td>172705121.0</td>\n",
       "      <td>5.784405</td>\n",
       "      <td>83.082221</td>\n",
       "      <td>198.188978</td>\n",
       "    </tr>\n",
       "  </tbody>\n",
       "</table>\n",
       "</div>"
      ],
      "text/plain": [
       "           production_budget  domestic_gross  worldwide_gross  foreign_gross  \\\n",
       "genres                                                                         \n",
       "Mystery           12000000.0      25801570.0       45173738.0     26064449.0   \n",
       "Music             14500000.0      16376066.0       31157914.0      7835022.0   \n",
       "Comedy            28000000.0      37243418.0       62758010.0     23046889.0   \n",
       "Romance           16000000.0      18729727.5       37682552.0     11190158.0   \n",
       "Animation         80000000.0     107514024.0      298374416.0    177037019.5   \n",
       "\n",
       "                profit  roi_domestic  roi_foreign  roi_worldwide  \n",
       "genres                                                            \n",
       "Mystery     36785387.0     56.965319    55.904993     227.818077  \n",
       "Music       11001573.0     20.438264   -38.546933     128.700183  \n",
       "Comedy      31239258.0     11.473743   -11.529117     144.709156  \n",
       "Romance     15492694.5     10.848518   -19.633567     133.868173  \n",
       "Animation  172705121.0      5.784405    83.082221     198.188978  "
      ]
     },
     "execution_count": 12,
     "metadata": {},
     "output_type": "execute_result"
    }
   ],
   "source": [
    "#i know this worked because my rows went down from 5310 to 3945\n",
    "filtered_df_median_dom = df.groupby('genres').median()\n",
    "filtered_df_median_dom = filtered_df_median.sort_values(by=['roi_domestic'], ascending = False)\n",
    "filtered_df_median_dom.head(5)"
   ]
  },
  {
   "cell_type": "markdown",
   "metadata": {},
   "source": [
    ">It looks like our top 5 genres in the USA are different from our top 5 genres in the world. Only two genres (mystery and animation) are in the top 5 for domestic and worlwide ROI. \n",
    "\n",
    "We next wanted to see the worst, base, and best case ROI for the top 5 genres in the USA"
   ]
  },
  {
   "cell_type": "code",
   "execution_count": 13,
   "metadata": {},
   "outputs": [],
   "source": [
    "comedy = df.loc[df.genres=='Comedy']\n",
    "music = df.loc[df.genres=='Music']\n",
    "romance = df.loc[df.genres=='Romance']"
   ]
  },
  {
   "cell_type": "code",
   "execution_count": 14,
   "metadata": {},
   "outputs": [],
   "source": [
    "top_5_df_domestic= animation.append(comedy)\n",
    "top_5_df_domestic = top_5_df_domestic.append(music)\n",
    "top_5_df_domestic = top_5_df_domestic.append(mystery)\n",
    "top_5_df_domestic = top_5_df_domestic.append(romance)"
   ]
  },
  {
   "cell_type": "code",
   "execution_count": 15,
   "metadata": {},
   "outputs": [
    {
     "data": {
      "image/png": "[encoded data removed]",
      "text/plain": [
       "<Figure size 1080x720 with 1 Axes>"
      ]
     },
     "metadata": {
      "needs_background": "light"
     },
     "output_type": "display_data"
    }
   ],
   "source": [
    "#created a box plot with top 5 genres in roi_domestic based on median\n",
    "fig_dims = (15, 10)\n",
    "fig, ax = plt.subplots(figsize=fig_dims)\n",
    "sns.boxplot( x=top_5_df_domestic[\"genres\"], \n",
    "            y=top_5_df_domestic[\"roi_domestic\"], \n",
    "            palette=\"Blues\", \n",
    "            width=0.6, \n",
    "            showfliers = False, \n",
    "            showmeans=True,\n",
    "            data=top_5_df_domestic.groupby('roi_domestic', as_index=False).median());\n",
    "\n",
    "plt.ylabel(\"% ROI\", size=14)\n",
    "plt.xlabel(\"Movie Genres\", size=14)\n",
    "plt.title(\"Average Domestic ROI For The Top 5 Genres\", size=18)\n",
    "#sns.stripplot(x=\"genres\", y=\"roi_domestic\", data=top_5_df_domestic)\n",
    "ax.yaxis.grid(False) # Hide the horizontal gridlines\n",
    "ax.xaxis.grid(False) # Show the vertical gridlines\n",
    "sns.despine(offset=10, trim=True)\n",
    "plt.show()"
   ]
  },
  {
   "cell_type": "code",
   "execution_count": 16,
   "metadata": {
    "scrolled": true
   },
   "outputs": [
    {
     "name": "stdout",
     "output_type": "stream",
     "text": [
      "Animation ROI: \n",
      "  Worst Case = -28% \n",
      "  Base Case = 5% \n",
      "  Best Case = 68%\n",
      "Comedy ROI: \n",
      "  Worst Case = -45% \n",
      "  Base Case = 11% \n",
      "  Best Case = 127%\n",
      "Music ROI: \n",
      "  Worst Case = -55% \n",
      "  Base Case = 20% \n",
      "  Best Case = 133%\n",
      "Mystery ROI: \n",
      "  Worst Case = -76% \n",
      "  Base Case = 56% \n",
      "  Best Case = 252%\n",
      "Romance ROI: \n",
      "  Worst Case = -61% \n",
      "  Base Case = 10% \n",
      "  Best Case = 172%\n"
     ]
    }
   ],
   "source": [
    "#let's predict worst, base, and best case scenarios for each genre\n",
    "arr = animation['roi_domestic']\n",
    "arr2 = comedy['roi_domestic']\n",
    "arr3 = music['roi_domestic']\n",
    "arr4 = mystery['roi_domestic']\n",
    "arr5 = romance['roi_domestic']\n",
    "print(f'Animation ROI: \\n  Worst Case = {int(np.percentile(arr, 25))}% \\n  Base Case = {int(np.percentile(arr, 50))}% \\n  Best Case = {int(np.percentile(arr, 75))}%')\n",
    "print(f'Comedy ROI: \\n  Worst Case = {int(np.percentile(arr2, 25))}% \\n  Base Case = {int(np.percentile(arr2, 50))}% \\n  Best Case = {int(np.percentile(arr2, 75))}%')\n",
    "print(f'Music ROI: \\n  Worst Case = {int(np.percentile(arr3, 25))}% \\n  Base Case = {int(np.percentile(arr3, 50))}% \\n  Best Case = {int(np.percentile(arr3, 75))}%')\n",
    "print(f'Mystery ROI: \\n  Worst Case = {int(np.percentile(arr4, 25))}% \\n  Base Case = {int(np.percentile(arr4, 50))}% \\n  Best Case = {int(np.percentile(arr4, 75))}%')\n",
    "print(f'Romance ROI: \\n  Worst Case = {int(np.percentile(arr5, 25))}% \\n  Base Case = {int(np.percentile(arr5, 50))}% \\n  Best Case = {int(np.percentile(arr5, 75))}%')"
   ]
  },
  {
   "cell_type": "markdown",
   "metadata": {},
   "source": [
    "### Business Recommendation 1: Conclusions\n",
    "\n",
    "From what we see in the graph above and based on worst, base, and best case scenarios for each genre, we should create films in the adventure and animation genres. Although their best case ROI predictions are not as high as the mystery and musical genres, their worst case ROI predications are both far above 0%. \n",
    "\n",
    "All movies, no matter the genre, should be released worldwide and not just domestically, the worst case ROI predictions for each of the top 5 genres with highest average domestic ROI is below -25%."
   ]
  }
 ],
 "metadata": {
  "kernelspec": {
   "display_name": "Python 3",
   "language": "python",
   "name": "python3"
  },
  "language_info": {
   "codemirror_mode": {
    "name": "ipython",
    "version": 3
   },
   "file_extension": ".py",
   "mimetype": "text/x-python",
   "name": "python",
   "nbconvert_exporter": "python",
   "pygments_lexer": "ipython3",
   "version": "3.8.5"
  }
 },
 "nbformat": 4,
 "nbformat_minor": 2
}
