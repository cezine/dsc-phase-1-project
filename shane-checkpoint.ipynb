{
 "cells": [
  {
   "cell_type": "markdown",
   "metadata": {},
   "source": [
    "# Data Preparation\n",
    "\n",
    "## Step 1: Importing the data\n",
    "\n",
    "Our data are contained in the zippedData directory of this repo and will need to be unzipped and imported to be useful for this analysis. First we will import the required packages and build an unzip function to help access our relevant files.\n",
    "\n",
    "### How did we choose our data?\n",
    "\n",
    "We decided to use data from `tn.movie_budgets.csv.gz`, `imdb.title.basics.csv.gz` and `imdb.name.basics.csv.gz`. We chose `tn.movie_budgets.csv.gz` because it provided more detailed information about revenue and production costs which allowed us to ask and answer more meaningful questions about the overall return on investment for each film. We also included `imdb.title.basics.csv.gz` in order to take a more detailed look at what _types_ of films performed best over time. Finally, we took a look at the personell files in `imdb.name.basics.csv.gz` to answer questions about which indusdry professionals were involved in successful titles."
   ]
  },
  {
   "cell_type": "code",
   "execution_count": 1,
   "metadata": {},
   "outputs": [],
   "source": [
    "import pandas as pd\n",
    "import matplotlib.pyplot as plt\n",
    "import pandas as pd\n",
    "import gzip\n",
    "from io import StringIO\n",
    "%matplotlib inline\n",
    "\n",
    "\n",
    "# This function uses try statements to push through errors and unzip the csv data\n",
    "def unzip_csv(file_location): \n",
    "    file = gzip.open(file_location, 'rb')\n",
    "    content = file.read()\n",
    "    file.close()\n",
    "    try:\n",
    "        content_str = str(content,'utf-8')\n",
    "        content_data = StringIO(content_str) \n",
    "    except:\n",
    "        content_str = str(content,'latin-1')\n",
    "        content_data = StringIO(content_str) \n",
    "    try:\n",
    "        return pd.read_csv(content_data)\n",
    "    except:\n",
    "        return pd.read_csv(content_data, sep='\\t')\n",
    "\n",
    "    \n",
    "#hard-coding the file-locations and nicknames into a dict for future reference\n",
    "file_locations = ['zippedData/imdb.name.basics.csv.gz'\n",
    "                  ,'zippedData/imdb.title.basics.csv.gz'\n",
    "                  ,'zippedData/tn.movie_budgets.csv.gz']\n",
    "\n",
    "file_nicknames = ['name','basics','budgets']\n",
    "\n",
    "\n",
    "#this dicitonary comprehension uses a zip function to smush the two lists together and then parse them into a dict\n",
    "#we also have a reference for each raw df and its location on the drive.\n",
    "file_dict = {k:v for k,v in zip(file_nicknames,file_locations)}\n",
    "\n",
    "#we unzip and define frames\n",
    "name_raw = unzip_csv(file_dict['name'])\n",
    "basics_raw = unzip_csv(file_dict['basics'])\n",
    "budgets_raw = unzip_csv(file_dict['budgets'])\n",
    "\n",
    "#renaming frames for cleaning\n",
    "name = name_raw\n",
    "basics = basics_raw\n",
    "budgets = budgets_raw"
   ]
  },
  {
   "cell_type": "markdown",
   "metadata": {},
   "source": [
    "## Step 2: Cleaning the Data\n",
    "\n",
    "In the next step we take the raw data frames and format the values to their appropriate data types, drop duplicates, null values, and redundant or irrelevant columns. We'll examine the head of our budgets DataFrame below as a starting off point:\n",
    "\n",
    "### Budgets"
   ]
  },
  {
   "cell_type": "code",
   "execution_count": 2,
   "metadata": {
    "scrolled": true
   },
   "outputs": [
    {
     "data": {
      "text/html": [
       "<div>\n",
       "<style scoped>\n",
       "    .dataframe tbody tr th:only-of-type {\n",
       "        vertical-align: middle;\n",
       "    }\n",
       "\n",
       "    .dataframe tbody tr th {\n",
       "        vertical-align: top;\n",
       "    }\n",
       "\n",
       "    .dataframe thead th {\n",
       "        text-align: right;\n",
       "    }\n",
       "</style>\n",
       "<table border=\"1\" class=\"dataframe\">\n",
       "  <thead>\n",
       "    <tr style=\"text-align: right;\">\n",
       "      <th></th>\n",
       "      <th>id</th>\n",
       "      <th>release_date</th>\n",
       "      <th>movie</th>\n",
       "      <th>production_budget</th>\n",
       "      <th>domestic_gross</th>\n",
       "      <th>worldwide_gross</th>\n",
       "    </tr>\n",
       "  </thead>\n",
       "  <tbody>\n",
       "    <tr>\n",
       "      <th>0</th>\n",
       "      <td>1</td>\n",
       "      <td>Dec 18, 2009</td>\n",
       "      <td>Avatar</td>\n",
       "      <td>$425,000,000</td>\n",
       "      <td>$760,507,625</td>\n",
       "      <td>$2,776,345,279</td>\n",
       "    </tr>\n",
       "    <tr>\n",
       "      <th>1</th>\n",
       "      <td>2</td>\n",
       "      <td>May 20, 2011</td>\n",
       "      <td>Pirates of the Caribbean: On Stranger Tides</td>\n",
       "      <td>$410,600,000</td>\n",
       "      <td>$241,063,875</td>\n",
       "      <td>$1,045,663,875</td>\n",
       "    </tr>\n",
       "    <tr>\n",
       "      <th>2</th>\n",
       "      <td>3</td>\n",
       "      <td>Jun 7, 2019</td>\n",
       "      <td>Dark Phoenix</td>\n",
       "      <td>$350,000,000</td>\n",
       "      <td>$42,762,350</td>\n",
       "      <td>$149,762,350</td>\n",
       "    </tr>\n",
       "    <tr>\n",
       "      <th>3</th>\n",
       "      <td>4</td>\n",
       "      <td>May 1, 2015</td>\n",
       "      <td>Avengers: Age of Ultron</td>\n",
       "      <td>$330,600,000</td>\n",
       "      <td>$459,005,868</td>\n",
       "      <td>$1,403,013,963</td>\n",
       "    </tr>\n",
       "    <tr>\n",
       "      <th>4</th>\n",
       "      <td>5</td>\n",
       "      <td>Dec 15, 2017</td>\n",
       "      <td>Star Wars Ep. VIII: The Last Jedi</td>\n",
       "      <td>$317,000,000</td>\n",
       "      <td>$620,181,382</td>\n",
       "      <td>$1,316,721,747</td>\n",
       "    </tr>\n",
       "  </tbody>\n",
       "</table>\n",
       "</div>"
      ],
      "text/plain": [
       "   id  release_date                                        movie  \\\n",
       "0   1  Dec 18, 2009                                       Avatar   \n",
       "1   2  May 20, 2011  Pirates of the Caribbean: On Stranger Tides   \n",
       "2   3   Jun 7, 2019                                 Dark Phoenix   \n",
       "3   4   May 1, 2015                      Avengers: Age of Ultron   \n",
       "4   5  Dec 15, 2017            Star Wars Ep. VIII: The Last Jedi   \n",
       "\n",
       "  production_budget domestic_gross worldwide_gross  \n",
       "0      $425,000,000   $760,507,625  $2,776,345,279  \n",
       "1      $410,600,000   $241,063,875  $1,045,663,875  \n",
       "2      $350,000,000    $42,762,350    $149,762,350  \n",
       "3      $330,600,000   $459,005,868  $1,403,013,963  \n",
       "4      $317,000,000   $620,181,382  $1,316,721,747  "
      ]
     },
     "execution_count": 2,
     "metadata": {},
     "output_type": "execute_result"
    }
   ],
   "source": [
    "budgets.head()"
   ]
  },
  {
   "cell_type": "code",
   "execution_count": 3,
   "metadata": {},
   "outputs": [
    {
     "name": "stdout",
     "output_type": "stream",
     "text": [
      "<class 'pandas.core.frame.DataFrame'>\n",
      "RangeIndex: 5782 entries, 0 to 5781\n",
      "Data columns (total 6 columns):\n",
      " #   Column             Non-Null Count  Dtype \n",
      "---  ------             --------------  ----- \n",
      " 0   id                 5782 non-null   int64 \n",
      " 1   release_date       5782 non-null   object\n",
      " 2   movie              5782 non-null   object\n",
      " 3   production_budget  5782 non-null   object\n",
      " 4   domestic_gross     5782 non-null   object\n",
      " 5   worldwide_gross    5782 non-null   object\n",
      "dtypes: int64(1), object(5)\n",
      "memory usage: 271.2+ KB\n"
     ]
    }
   ],
   "source": [
    "budgets.info()"
   ]
  },
  {
   "cell_type": "code",
   "execution_count": 4,
   "metadata": {},
   "outputs": [
    {
     "data": {
      "text/plain": [
       "id                   0\n",
       "release_date         0\n",
       "movie                0\n",
       "production_budget    0\n",
       "domestic_gross       0\n",
       "worldwide_gross      0\n",
       "dtype: int64"
      ]
     },
     "execution_count": 4,
     "metadata": {},
     "output_type": "execute_result"
    }
   ],
   "source": [
    "budgets.isna().sum()"
   ]
  },
  {
   "cell_type": "markdown",
   "metadata": {},
   "source": [
    "After looking at some summary data for the budgets data frame we can see that the we have a few tasks before this is going to be useful for analysis. There seems to be a redundant index column, and the numerical and time information is in the wrong format."
   ]
  },
  {
   "cell_type": "code",
   "execution_count": 5,
   "metadata": {},
   "outputs": [],
   "source": [
    "#id column is a redundant index so we're dropping it\n",
    "budgets.drop('id', axis=1, inplace=True)\n",
    "\n",
    "#setting date column to datatime object for use in charts etc.\n",
    "budgets['release_date'] = pd.to_datetime(budgets['release_date'])\n",
    "\n",
    "#stripping any unseen or unknown whitespace from the object locales\n",
    "budgets.columns.str.strip()\n",
    "budgets['movie'] = budgets['movie'].str.strip()\n",
    "\n",
    "#this function launders the money ;D\n",
    "def clean_money(budgets_series):\n",
    "    #the map function applys the .replace to each cell in the given series, x[1:] skips the $\n",
    "    return budgets_series.map(lambda x: int(x[1:].replace(',','')))\n",
    "\n",
    "budgets['production_budget'] = clean_money(budgets['production_budget'])\n",
    "budgets['domestic_gross'] = clean_money(budgets['domestic_gross'])\n",
    "budgets['worldwide_gross'] = clean_money(budgets['worldwide_gross'])\n",
    "\n",
    "#adding in relevant columns\n",
    "budgets['foreign_gross'] = budgets.worldwide_gross - budgets.domestic_gross\n",
    "budgets['profit'] = budgets.worldwide_gross - budgets.production_budget\n",
    "\n",
    "#dropping duplicates\n",
    "budgets.drop_duplicates('movie', keep='first',inplace=True)"
   ]
  },
  {
   "cell_type": "code",
   "execution_count": 6,
   "metadata": {},
   "outputs": [
    {
     "name": "stdout",
     "output_type": "stream",
     "text": [
      "<class 'pandas.core.frame.DataFrame'>\n",
      "Int64Index: 5698 entries, 0 to 5781\n",
      "Data columns (total 7 columns):\n",
      " #   Column             Non-Null Count  Dtype         \n",
      "---  ------             --------------  -----         \n",
      " 0   release_date       5698 non-null   datetime64[ns]\n",
      " 1   movie              5698 non-null   object        \n",
      " 2   production_budget  5698 non-null   int64         \n",
      " 3   domestic_gross     5698 non-null   int64         \n",
      " 4   worldwide_gross    5698 non-null   int64         \n",
      " 5   foreign_gross      5698 non-null   int64         \n",
      " 6   profit             5698 non-null   int64         \n",
      "dtypes: datetime64[ns](1), int64(5), object(1)\n",
      "memory usage: 356.1+ KB\n"
     ]
    }
   ],
   "source": [
    "#looks good now\n",
    "budgets.info()"
   ]
  },
  {
   "cell_type": "markdown",
   "metadata": {},
   "source": [
    "### Basics\n",
    "Now the general shape of the cleaning process has been defined we can rinse and repeat on our other data sets, making them easier to use in later analysis."
   ]
  },
  {
   "cell_type": "code",
   "execution_count": 7,
   "metadata": {},
   "outputs": [
    {
     "data": {
      "text/html": [
       "<div>\n",
       "<style scoped>\n",
       "    .dataframe tbody tr th:only-of-type {\n",
       "        vertical-align: middle;\n",
       "    }\n",
       "\n",
       "    .dataframe tbody tr th {\n",
       "        vertical-align: top;\n",
       "    }\n",
       "\n",
       "    .dataframe thead th {\n",
       "        text-align: right;\n",
       "    }\n",
       "</style>\n",
       "<table border=\"1\" class=\"dataframe\">\n",
       "  <thead>\n",
       "    <tr style=\"text-align: right;\">\n",
       "      <th></th>\n",
       "      <th>tconst</th>\n",
       "      <th>primary_title</th>\n",
       "      <th>original_title</th>\n",
       "      <th>start_year</th>\n",
       "      <th>runtime_minutes</th>\n",
       "      <th>genres</th>\n",
       "    </tr>\n",
       "  </thead>\n",
       "  <tbody>\n",
       "    <tr>\n",
       "      <th>0</th>\n",
       "      <td>tt0063540</td>\n",
       "      <td>Sunghursh</td>\n",
       "      <td>Sunghursh</td>\n",
       "      <td>2013</td>\n",
       "      <td>175.0</td>\n",
       "      <td>Action,Crime,Drama</td>\n",
       "    </tr>\n",
       "    <tr>\n",
       "      <th>1</th>\n",
       "      <td>tt0066787</td>\n",
       "      <td>One Day Before the Rainy Season</td>\n",
       "      <td>Ashad Ka Ek Din</td>\n",
       "      <td>2019</td>\n",
       "      <td>114.0</td>\n",
       "      <td>Biography,Drama</td>\n",
       "    </tr>\n",
       "    <tr>\n",
       "      <th>2</th>\n",
       "      <td>tt0069049</td>\n",
       "      <td>The Other Side of the Wind</td>\n",
       "      <td>The Other Side of the Wind</td>\n",
       "      <td>2018</td>\n",
       "      <td>122.0</td>\n",
       "      <td>Drama</td>\n",
       "    </tr>\n",
       "    <tr>\n",
       "      <th>3</th>\n",
       "      <td>tt0069204</td>\n",
       "      <td>Sabse Bada Sukh</td>\n",
       "      <td>Sabse Bada Sukh</td>\n",
       "      <td>2018</td>\n",
       "      <td>NaN</td>\n",
       "      <td>Comedy,Drama</td>\n",
       "    </tr>\n",
       "    <tr>\n",
       "      <th>4</th>\n",
       "      <td>tt0100275</td>\n",
       "      <td>The Wandering Soap Opera</td>\n",
       "      <td>La Telenovela Errante</td>\n",
       "      <td>2017</td>\n",
       "      <td>80.0</td>\n",
       "      <td>Comedy,Drama,Fantasy</td>\n",
       "    </tr>\n",
       "  </tbody>\n",
       "</table>\n",
       "</div>"
      ],
      "text/plain": [
       "      tconst                    primary_title              original_title  \\\n",
       "0  tt0063540                        Sunghursh                   Sunghursh   \n",
       "1  tt0066787  One Day Before the Rainy Season             Ashad Ka Ek Din   \n",
       "2  tt0069049       The Other Side of the Wind  The Other Side of the Wind   \n",
       "3  tt0069204                  Sabse Bada Sukh             Sabse Bada Sukh   \n",
       "4  tt0100275         The Wandering Soap Opera       La Telenovela Errante   \n",
       "\n",
       "   start_year  runtime_minutes                genres  \n",
       "0        2013            175.0    Action,Crime,Drama  \n",
       "1        2019            114.0       Biography,Drama  \n",
       "2        2018            122.0                 Drama  \n",
       "3        2018              NaN          Comedy,Drama  \n",
       "4        2017             80.0  Comedy,Drama,Fantasy  "
      ]
     },
     "execution_count": 7,
     "metadata": {},
     "output_type": "execute_result"
    }
   ],
   "source": [
    "basics.head()"
   ]
  },
  {
   "cell_type": "code",
   "execution_count": 8,
   "metadata": {},
   "outputs": [
    {
     "name": "stdout",
     "output_type": "stream",
     "text": [
      "<class 'pandas.core.frame.DataFrame'>\n",
      "RangeIndex: 146144 entries, 0 to 146143\n",
      "Data columns (total 6 columns):\n",
      " #   Column           Non-Null Count   Dtype  \n",
      "---  ------           --------------   -----  \n",
      " 0   tconst           146144 non-null  object \n",
      " 1   primary_title    146144 non-null  object \n",
      " 2   original_title   146123 non-null  object \n",
      " 3   start_year       146144 non-null  int64  \n",
      " 4   runtime_minutes  114405 non-null  float64\n",
      " 5   genres           140736 non-null  object \n",
      "dtypes: float64(1), int64(1), object(4)\n",
      "memory usage: 6.7+ MB\n"
     ]
    }
   ],
   "source": [
    "basics.info()"
   ]
  },
  {
   "cell_type": "code",
   "execution_count": 9,
   "metadata": {},
   "outputs": [
    {
     "data": {
      "text/plain": [
       "tconst                 0\n",
       "primary_title          0\n",
       "original_title        21\n",
       "start_year             0\n",
       "runtime_minutes    31739\n",
       "genres              5408\n",
       "dtype: int64"
      ]
     },
     "execution_count": 9,
     "metadata": {},
     "output_type": "execute_result"
    }
   ],
   "source": [
    "basics.isna().sum()"
   ]
  },
  {
   "cell_type": "markdown",
   "metadata": {},
   "source": [
    "#### Null values\n",
    "So it looks like the column we're most interest in from this data frame has a rather signifigant portion of null values, something we didnt encounter in the other data frame we already processed. Let's address the null values."
   ]
  },
  {
   "cell_type": "code",
   "execution_count": 10,
   "metadata": {},
   "outputs": [],
   "source": [
    "#the dataframe below proivdes a list of indices that contain a null value in the genre column the genre column is very \n",
    "#important to our analysis so we'll drop null values.\n",
    "to_drop = basics[basics['genres'].isna()==True].index\n",
    "\n",
    "#simple drop will finish the job\n",
    "basics.drop(to_drop,inplace=True)"
   ]
  },
  {
   "cell_type": "markdown",
   "metadata": {},
   "source": [
    "#### Pressing on...\n",
    "\n",
    "Now that the null values have been removed we will run a similar set of cleaning techniques on the dataframe as we did previously. Since the 'movie' column in budgets is how we're going to identify which records go where we are going to adjust the primary title column of basics in order to more easily denote the implied relationship."
   ]
  },
  {
   "cell_type": "code",
   "execution_count": 11,
   "metadata": {},
   "outputs": [],
   "source": [
    "basics['movie'] = basics['primary_title']\n",
    "\n",
    "#keeping only 'movie' and 'ttconst' as keys for our other data, and 'genres' for further analysis\n",
    "basics.drop(['primary_title','original_title','start_year'\n",
    "                ,'runtime_minutes'],axis=1,inplace=True)"
   ]
  },
  {
   "cell_type": "markdown",
   "metadata": {},
   "source": [
    "The columns look correct:"
   ]
  },
  {
   "cell_type": "code",
   "execution_count": 12,
   "metadata": {},
   "outputs": [
    {
     "data": {
      "text/plain": [
       "Index(['tconst', 'genres', 'movie'], dtype='object')"
      ]
     },
     "execution_count": 12,
     "metadata": {},
     "output_type": "execute_result"
    }
   ],
   "source": [
    "basics.columns"
   ]
  },
  {
   "cell_type": "code",
   "execution_count": 13,
   "metadata": {},
   "outputs": [],
   "source": [
    "#the strip functions remove unwanted whitespace if its lurking in there\n",
    "basics.columns = basics.columns.str.strip()\n",
    "\n",
    "for column in list(basics.columns):\n",
    "    basics[column] = basics[column].str.strip()\n",
    "\n",
    "#Dropping duplicates\n",
    "basics.drop_duplicates('movie', keep='first', inplace=True)\n",
    "    \n",
    "#this .map will apply a .split to all the genres at each \",\" decoding the genres data into a nested list.\n",
    "basics['genres'] = basics['genres'].map(lambda x: x.split(\",\"))"
   ]
  },
  {
   "cell_type": "markdown",
   "metadata": {},
   "source": [
    "As demonstrated below the previously difficult to use string data has now been munged into a useful format:"
   ]
  },
  {
   "cell_type": "code",
   "execution_count": 14,
   "metadata": {},
   "outputs": [
    {
     "data": {
      "text/plain": [
       "['Action', 'Crime', 'Drama']"
      ]
     },
     "execution_count": 14,
     "metadata": {},
     "output_type": "execute_result"
    }
   ],
   "source": [
    "basics['genres'][0]"
   ]
  },
  {
   "cell_type": "code",
   "execution_count": 15,
   "metadata": {},
   "outputs": [
    {
     "data": {
      "text/plain": [
       "'Action'"
      ]
     },
     "execution_count": 15,
     "metadata": {},
     "output_type": "execute_result"
    }
   ],
   "source": [
    "basics['genres'][0][0]"
   ]
  },
  {
   "cell_type": "markdown",
   "metadata": {},
   "source": [
    "### Name"
   ]
  },
  {
   "cell_type": "code",
   "execution_count": 16,
   "metadata": {},
   "outputs": [
    {
     "data": {
      "text/html": [
       "<div>\n",
       "<style scoped>\n",
       "    .dataframe tbody tr th:only-of-type {\n",
       "        vertical-align: middle;\n",
       "    }\n",
       "\n",
       "    .dataframe tbody tr th {\n",
       "        vertical-align: top;\n",
       "    }\n",
       "\n",
       "    .dataframe thead th {\n",
       "        text-align: right;\n",
       "    }\n",
       "</style>\n",
       "<table border=\"1\" class=\"dataframe\">\n",
       "  <thead>\n",
       "    <tr style=\"text-align: right;\">\n",
       "      <th></th>\n",
       "      <th>nconst</th>\n",
       "      <th>primary_name</th>\n",
       "      <th>birth_year</th>\n",
       "      <th>death_year</th>\n",
       "      <th>primary_profession</th>\n",
       "      <th>known_for_titles</th>\n",
       "    </tr>\n",
       "  </thead>\n",
       "  <tbody>\n",
       "    <tr>\n",
       "      <th>0</th>\n",
       "      <td>nm0061671</td>\n",
       "      <td>Mary Ellen Bauder</td>\n",
       "      <td>NaN</td>\n",
       "      <td>NaN</td>\n",
       "      <td>miscellaneous,production_manager,producer</td>\n",
       "      <td>tt0837562,tt2398241,tt0844471,tt0118553</td>\n",
       "    </tr>\n",
       "    <tr>\n",
       "      <th>1</th>\n",
       "      <td>nm0061865</td>\n",
       "      <td>Joseph Bauer</td>\n",
       "      <td>NaN</td>\n",
       "      <td>NaN</td>\n",
       "      <td>composer,music_department,sound_department</td>\n",
       "      <td>tt0896534,tt6791238,tt0287072,tt1682940</td>\n",
       "    </tr>\n",
       "    <tr>\n",
       "      <th>2</th>\n",
       "      <td>nm0062070</td>\n",
       "      <td>Bruce Baum</td>\n",
       "      <td>NaN</td>\n",
       "      <td>NaN</td>\n",
       "      <td>miscellaneous,actor,writer</td>\n",
       "      <td>tt1470654,tt0363631,tt0104030,tt0102898</td>\n",
       "    </tr>\n",
       "    <tr>\n",
       "      <th>3</th>\n",
       "      <td>nm0062195</td>\n",
       "      <td>Axel Baumann</td>\n",
       "      <td>NaN</td>\n",
       "      <td>NaN</td>\n",
       "      <td>camera_department,cinematographer,art_department</td>\n",
       "      <td>tt0114371,tt2004304,tt1618448,tt1224387</td>\n",
       "    </tr>\n",
       "    <tr>\n",
       "      <th>4</th>\n",
       "      <td>nm0062798</td>\n",
       "      <td>Pete Baxter</td>\n",
       "      <td>NaN</td>\n",
       "      <td>NaN</td>\n",
       "      <td>production_designer,art_department,set_decorator</td>\n",
       "      <td>tt0452644,tt0452692,tt3458030,tt2178256</td>\n",
       "    </tr>\n",
       "  </tbody>\n",
       "</table>\n",
       "</div>"
      ],
      "text/plain": [
       "      nconst       primary_name  birth_year  death_year  \\\n",
       "0  nm0061671  Mary Ellen Bauder         NaN         NaN   \n",
       "1  nm0061865       Joseph Bauer         NaN         NaN   \n",
       "2  nm0062070         Bruce Baum         NaN         NaN   \n",
       "3  nm0062195       Axel Baumann         NaN         NaN   \n",
       "4  nm0062798        Pete Baxter         NaN         NaN   \n",
       "\n",
       "                                 primary_profession  \\\n",
       "0         miscellaneous,production_manager,producer   \n",
       "1        composer,music_department,sound_department   \n",
       "2                        miscellaneous,actor,writer   \n",
       "3  camera_department,cinematographer,art_department   \n",
       "4  production_designer,art_department,set_decorator   \n",
       "\n",
       "                          known_for_titles  \n",
       "0  tt0837562,tt2398241,tt0844471,tt0118553  \n",
       "1  tt0896534,tt6791238,tt0287072,tt1682940  \n",
       "2  tt1470654,tt0363631,tt0104030,tt0102898  \n",
       "3  tt0114371,tt2004304,tt1618448,tt1224387  \n",
       "4  tt0452644,tt0452692,tt3458030,tt2178256  "
      ]
     },
     "execution_count": 16,
     "metadata": {},
     "output_type": "execute_result"
    }
   ],
   "source": [
    "name.head()"
   ]
  },
  {
   "cell_type": "code",
   "execution_count": 17,
   "metadata": {},
   "outputs": [
    {
     "name": "stdout",
     "output_type": "stream",
     "text": [
      "<class 'pandas.core.frame.DataFrame'>\n",
      "RangeIndex: 606648 entries, 0 to 606647\n",
      "Data columns (total 6 columns):\n",
      " #   Column              Non-Null Count   Dtype  \n",
      "---  ------              --------------   -----  \n",
      " 0   nconst              606648 non-null  object \n",
      " 1   primary_name        606648 non-null  object \n",
      " 2   birth_year          82736 non-null   float64\n",
      " 3   death_year          6783 non-null    float64\n",
      " 4   primary_profession  555308 non-null  object \n",
      " 5   known_for_titles    576444 non-null  object \n",
      "dtypes: float64(2), object(4)\n",
      "memory usage: 27.8+ MB\n"
     ]
    }
   ],
   "source": [
    "name.info()"
   ]
  },
  {
   "cell_type": "code",
   "execution_count": 18,
   "metadata": {},
   "outputs": [
    {
     "data": {
      "text/plain": [
       "nconst                     0\n",
       "primary_name               0\n",
       "birth_year            523912\n",
       "death_year            599865\n",
       "primary_profession     51340\n",
       "known_for_titles       30204\n",
       "dtype: int64"
      ]
     },
     "execution_count": 18,
     "metadata": {},
     "output_type": "execute_result"
    }
   ],
   "source": [
    "name.isnull().sum()"
   ]
  },
  {
   "cell_type": "code",
   "execution_count": 19,
   "metadata": {},
   "outputs": [],
   "source": [
    "#dropping these since they're outside the scope of our analysis\n",
    "name.drop(['nconst','birth_year','death_year',],axis=1,inplace=True)\n",
    "\n",
    "#this phrase finds null values in either column\n",
    "to_drop = name[(name['primary_profession'].isna()==True)|\n",
    "               name['known_for_titles'].isna()==True].index\n",
    "\n",
    "name.drop(to_drop,inplace=True)\n",
    "\n",
    "#cleaning the object data\n",
    "name.columns = name.columns.str.strip()\n",
    "\n",
    "#for loop will work here since all columns are object data\n",
    "for column in list(name.columns):\n",
    "    name[column] = name[column].str.strip()\n",
    "\n",
    "#splitting the cleaned data into nested lists\n",
    "name['known_for_titles'] = name['known_for_titles'].map(lambda x: x.split(\",\"))\n",
    "name['primary_profession'] = name['primary_profession'].map(lambda x: x.split(\",\"));"
   ]
  },
  {
   "cell_type": "markdown",
   "metadata": {},
   "source": [
    "#### Unnesting the tconst values\n",
    "Now our primary linkage to the rest of our data set seems to be encoded in a nested list. To access these records we need to employe .explode() to get just 1 tconst and job value per record."
   ]
  },
  {
   "cell_type": "code",
   "execution_count": 20,
   "metadata": {},
   "outputs": [],
   "source": [
    "name_exploded = name.explode('known_for_titles')"
   ]
  },
  {
   "cell_type": "code",
   "execution_count": 21,
   "metadata": {},
   "outputs": [
    {
     "name": "stdout",
     "output_type": "stream",
     "text": [
      "<class 'pandas.core.frame.DataFrame'>\n",
      "RangeIndex: 3434013 entries, 0 to 3434012\n",
      "Data columns (total 3 columns):\n",
      " #   Column              Dtype \n",
      "---  ------              ----- \n",
      " 0   primary_name        object\n",
      " 1   primary_profession  object\n",
      " 2   known_for_titles    object\n",
      "dtypes: object(3)\n",
      "memory usage: 78.6+ MB\n"
     ]
    }
   ],
   "source": [
    "name_exploded = name_exploded.explode('primary_profession', ignore_index=True)\n",
    "name_exploded.info()"
   ]
  },
  {
   "cell_type": "code",
   "execution_count": 22,
   "metadata": {},
   "outputs": [
    {
     "data": {
      "text/html": [
       "<div>\n",
       "<style scoped>\n",
       "    .dataframe tbody tr th:only-of-type {\n",
       "        vertical-align: middle;\n",
       "    }\n",
       "\n",
       "    .dataframe tbody tr th {\n",
       "        vertical-align: top;\n",
       "    }\n",
       "\n",
       "    .dataframe thead th {\n",
       "        text-align: right;\n",
       "    }\n",
       "</style>\n",
       "<table border=\"1\" class=\"dataframe\">\n",
       "  <thead>\n",
       "    <tr style=\"text-align: right;\">\n",
       "      <th></th>\n",
       "      <th>primary_name</th>\n",
       "      <th>primary_profession</th>\n",
       "      <th>known_for_titles</th>\n",
       "    </tr>\n",
       "  </thead>\n",
       "  <tbody>\n",
       "    <tr>\n",
       "      <th>0</th>\n",
       "      <td>Mary Ellen Bauder</td>\n",
       "      <td>miscellaneous</td>\n",
       "      <td>tt0837562</td>\n",
       "    </tr>\n",
       "    <tr>\n",
       "      <th>1</th>\n",
       "      <td>Mary Ellen Bauder</td>\n",
       "      <td>production_manager</td>\n",
       "      <td>tt0837562</td>\n",
       "    </tr>\n",
       "    <tr>\n",
       "      <th>2</th>\n",
       "      <td>Mary Ellen Bauder</td>\n",
       "      <td>producer</td>\n",
       "      <td>tt0837562</td>\n",
       "    </tr>\n",
       "    <tr>\n",
       "      <th>3</th>\n",
       "      <td>Mary Ellen Bauder</td>\n",
       "      <td>miscellaneous</td>\n",
       "      <td>tt2398241</td>\n",
       "    </tr>\n",
       "    <tr>\n",
       "      <th>4</th>\n",
       "      <td>Mary Ellen Bauder</td>\n",
       "      <td>production_manager</td>\n",
       "      <td>tt2398241</td>\n",
       "    </tr>\n",
       "    <tr>\n",
       "      <th>...</th>\n",
       "      <td>...</td>\n",
       "      <td>...</td>\n",
       "      <td>...</td>\n",
       "    </tr>\n",
       "    <tr>\n",
       "      <th>3434008</th>\n",
       "      <td>Madeline Smith</td>\n",
       "      <td>actress</td>\n",
       "      <td>tt8734436</td>\n",
       "    </tr>\n",
       "    <tr>\n",
       "      <th>3434009</th>\n",
       "      <td>Madeline Smith</td>\n",
       "      <td>actress</td>\n",
       "      <td>tt9615610</td>\n",
       "    </tr>\n",
       "    <tr>\n",
       "      <th>3434010</th>\n",
       "      <td>Pegasus Envoyé</td>\n",
       "      <td>director</td>\n",
       "      <td>tt8743182</td>\n",
       "    </tr>\n",
       "    <tr>\n",
       "      <th>3434011</th>\n",
       "      <td>Pegasus Envoyé</td>\n",
       "      <td>actor</td>\n",
       "      <td>tt8743182</td>\n",
       "    </tr>\n",
       "    <tr>\n",
       "      <th>3434012</th>\n",
       "      <td>Pegasus Envoyé</td>\n",
       "      <td>writer</td>\n",
       "      <td>tt8743182</td>\n",
       "    </tr>\n",
       "  </tbody>\n",
       "</table>\n",
       "<p>3432481 rows × 3 columns</p>\n",
       "</div>"
      ],
      "text/plain": [
       "              primary_name  primary_profession known_for_titles\n",
       "0        Mary Ellen Bauder       miscellaneous        tt0837562\n",
       "1        Mary Ellen Bauder  production_manager        tt0837562\n",
       "2        Mary Ellen Bauder            producer        tt0837562\n",
       "3        Mary Ellen Bauder       miscellaneous        tt2398241\n",
       "4        Mary Ellen Bauder  production_manager        tt2398241\n",
       "...                    ...                 ...              ...\n",
       "3434008     Madeline Smith             actress        tt8734436\n",
       "3434009     Madeline Smith             actress        tt9615610\n",
       "3434010     Pegasus Envoyé            director        tt8743182\n",
       "3434011     Pegasus Envoyé               actor        tt8743182\n",
       "3434012     Pegasus Envoyé              writer        tt8743182\n",
       "\n",
       "[3432481 rows x 3 columns]"
      ]
     },
     "execution_count": 22,
     "metadata": {},
     "output_type": "execute_result"
    }
   ],
   "source": [
    "name_exploded.drop_duplicates()"
   ]
  },
  {
   "cell_type": "code",
   "execution_count": 23,
   "metadata": {},
   "outputs": [],
   "source": [
    "name_exploded = name_exploded[(name_exploded['primary_profession']=='director')| (name_exploded['primary_profession']=='producer')]"
   ]
  },
  {
   "cell_type": "code",
   "execution_count": 24,
   "metadata": {},
   "outputs": [
    {
     "name": "stdout",
     "output_type": "stream",
     "text": [
      "<class 'pandas.core.frame.DataFrame'>\n",
      "Int64Index: 881233 entries, 2 to 3434010\n",
      "Data columns (total 3 columns):\n",
      " #   Column              Non-Null Count   Dtype \n",
      "---  ------              --------------   ----- \n",
      " 0   primary_name        881233 non-null  object\n",
      " 1   primary_profession  881233 non-null  object\n",
      " 2   known_for_titles    881233 non-null  object\n",
      "dtypes: object(3)\n",
      "memory usage: 26.9+ MB\n"
     ]
    }
   ],
   "source": [
    "name_exploded.info()"
   ]
  },
  {
   "cell_type": "code",
   "execution_count": 25,
   "metadata": {},
   "outputs": [],
   "source": [
    "name_gb = name_exploded.groupby('known_for_titles')\n",
    "group_dict = name_gb.groups"
   ]
  },
  {
   "cell_type": "code",
   "execution_count": 26,
   "metadata": {},
   "outputs": [],
   "source": [
    "name_gb = name_exploded.groupby(['known_for_titles'])['primary_name'].apply(', '.join).reset_index()"
   ]
  },
  {
   "cell_type": "code",
   "execution_count": 27,
   "metadata": {},
   "outputs": [],
   "source": [
    "name_gb2 = name_exploded.groupby(['known_for_titles'])['primary_profession'].apply(', '.join).reset_index()"
   ]
  },
  {
   "cell_type": "markdown",
   "metadata": {},
   "source": [
    "## Merging the data"
   ]
  },
  {
   "cell_type": "code",
   "execution_count": 28,
   "metadata": {},
   "outputs": [],
   "source": [
    "name = name_gb.merge(name_gb2)\n",
    "name['primary_profession'] = name['primary_profession'].map(lambda x: x.split(\",\"))\n",
    "name['primary_name'] = name['primary_name'].map(lambda x: x.split(\",\"))"
   ]
  },
  {
   "cell_type": "code",
   "execution_count": 29,
   "metadata": {},
   "outputs": [],
   "source": [
    "df = budgets.merge(basics.merge(name,how='left',left_on='tconst',right_on='known_for_titles'),how='left')"
   ]
  },
  {
   "cell_type": "code",
   "execution_count": 30,
   "metadata": {},
   "outputs": [
    {
     "data": {
      "text/html": [
       "<div>\n",
       "<style scoped>\n",
       "    .dataframe tbody tr th:only-of-type {\n",
       "        vertical-align: middle;\n",
       "    }\n",
       "\n",
       "    .dataframe tbody tr th {\n",
       "        vertical-align: top;\n",
       "    }\n",
       "\n",
       "    .dataframe thead th {\n",
       "        text-align: right;\n",
       "    }\n",
       "</style>\n",
       "<table border=\"1\" class=\"dataframe\">\n",
       "  <thead>\n",
       "    <tr style=\"text-align: right;\">\n",
       "      <th></th>\n",
       "      <th>release_date</th>\n",
       "      <th>movie</th>\n",
       "      <th>production_budget</th>\n",
       "      <th>domestic_gross</th>\n",
       "      <th>worldwide_gross</th>\n",
       "      <th>foreign_gross</th>\n",
       "      <th>profit</th>\n",
       "      <th>tconst</th>\n",
       "      <th>genres</th>\n",
       "      <th>known_for_titles</th>\n",
       "      <th>primary_name</th>\n",
       "      <th>primary_profession</th>\n",
       "    </tr>\n",
       "  </thead>\n",
       "  <tbody>\n",
       "    <tr>\n",
       "      <th>0</th>\n",
       "      <td>2009-12-18</td>\n",
       "      <td>Avatar</td>\n",
       "      <td>425000000</td>\n",
       "      <td>760507625</td>\n",
       "      <td>2776345279</td>\n",
       "      <td>2015837654</td>\n",
       "      <td>2351345279</td>\n",
       "      <td>tt1775309</td>\n",
       "      <td>[Horror]</td>\n",
       "      <td>tt1775309</td>\n",
       "      <td>[Teruo Noguchi,  Atsushi Wada]</td>\n",
       "      <td>[director,  director]</td>\n",
       "    </tr>\n",
       "    <tr>\n",
       "      <th>1</th>\n",
       "      <td>2011-05-20</td>\n",
       "      <td>Pirates of the Caribbean: On Stranger Tides</td>\n",
       "      <td>410600000</td>\n",
       "      <td>241063875</td>\n",
       "      <td>1045663875</td>\n",
       "      <td>804600000</td>\n",
       "      <td>635063875</td>\n",
       "      <td>tt1298650</td>\n",
       "      <td>[Action, Adventure, Fantasy]</td>\n",
       "      <td>tt1298650</td>\n",
       "      <td>[Patrick Kennedy,  Chuck Williams,  Juan Carlo...</td>\n",
       "      <td>[director,  producer,  director,  producer,  d...</td>\n",
       "    </tr>\n",
       "    <tr>\n",
       "      <th>2</th>\n",
       "      <td>2019-06-07</td>\n",
       "      <td>Dark Phoenix</td>\n",
       "      <td>350000000</td>\n",
       "      <td>42762350</td>\n",
       "      <td>149762350</td>\n",
       "      <td>107000000</td>\n",
       "      <td>-200237650</td>\n",
       "      <td>tt6565702</td>\n",
       "      <td>[Action, Adventure, Sci-Fi]</td>\n",
       "      <td>tt6565702</td>\n",
       "      <td>[Danny MAlin,  Danny MAlin,  Marley Sniatowsky...</td>\n",
       "      <td>[producer,  director,  producer,  director,  p...</td>\n",
       "    </tr>\n",
       "    <tr>\n",
       "      <th>3</th>\n",
       "      <td>2015-05-01</td>\n",
       "      <td>Avengers: Age of Ultron</td>\n",
       "      <td>330600000</td>\n",
       "      <td>459005868</td>\n",
       "      <td>1403013963</td>\n",
       "      <td>944008095</td>\n",
       "      <td>1072413963</td>\n",
       "      <td>tt2395427</td>\n",
       "      <td>[Action, Adventure, Sci-Fi]</td>\n",
       "      <td>tt2395427</td>\n",
       "      <td>[Aaron Himelstein,  Elizabeth Olsen,  Lisa Las...</td>\n",
       "      <td>[producer,  producer,  producer,  producer,  d...</td>\n",
       "    </tr>\n",
       "    <tr>\n",
       "      <th>4</th>\n",
       "      <td>2017-12-15</td>\n",
       "      <td>Star Wars Ep. VIII: The Last Jedi</td>\n",
       "      <td>317000000</td>\n",
       "      <td>620181382</td>\n",
       "      <td>1316721747</td>\n",
       "      <td>696540365</td>\n",
       "      <td>999721747</td>\n",
       "      <td>NaN</td>\n",
       "      <td>NaN</td>\n",
       "      <td>NaN</td>\n",
       "      <td>NaN</td>\n",
       "      <td>NaN</td>\n",
       "    </tr>\n",
       "  </tbody>\n",
       "</table>\n",
       "</div>"
      ],
      "text/plain": [
       "  release_date                                        movie  \\\n",
       "0   2009-12-18                                       Avatar   \n",
       "1   2011-05-20  Pirates of the Caribbean: On Stranger Tides   \n",
       "2   2019-06-07                                 Dark Phoenix   \n",
       "3   2015-05-01                      Avengers: Age of Ultron   \n",
       "4   2017-12-15            Star Wars Ep. VIII: The Last Jedi   \n",
       "\n",
       "   production_budget  domestic_gross  worldwide_gross  foreign_gross  \\\n",
       "0          425000000       760507625       2776345279     2015837654   \n",
       "1          410600000       241063875       1045663875      804600000   \n",
       "2          350000000        42762350        149762350      107000000   \n",
       "3          330600000       459005868       1403013963      944008095   \n",
       "4          317000000       620181382       1316721747      696540365   \n",
       "\n",
       "       profit     tconst                        genres known_for_titles  \\\n",
       "0  2351345279  tt1775309                      [Horror]        tt1775309   \n",
       "1   635063875  tt1298650  [Action, Adventure, Fantasy]        tt1298650   \n",
       "2  -200237650  tt6565702   [Action, Adventure, Sci-Fi]        tt6565702   \n",
       "3  1072413963  tt2395427   [Action, Adventure, Sci-Fi]        tt2395427   \n",
       "4   999721747        NaN                           NaN              NaN   \n",
       "\n",
       "                                        primary_name  \\\n",
       "0                     [Teruo Noguchi,  Atsushi Wada]   \n",
       "1  [Patrick Kennedy,  Chuck Williams,  Juan Carlo...   \n",
       "2  [Danny MAlin,  Danny MAlin,  Marley Sniatowsky...   \n",
       "3  [Aaron Himelstein,  Elizabeth Olsen,  Lisa Las...   \n",
       "4                                                NaN   \n",
       "\n",
       "                                  primary_profession  \n",
       "0                              [director,  director]  \n",
       "1  [director,  producer,  director,  producer,  d...  \n",
       "2  [producer,  director,  producer,  director,  p...  \n",
       "3  [producer,  producer,  producer,  producer,  d...  \n",
       "4                                                NaN  "
      ]
     },
     "execution_count": 30,
     "metadata": {},
     "output_type": "execute_result"
    }
   ],
   "source": [
    "df.head()"
   ]
  },
  {
   "cell_type": "code",
   "execution_count": 31,
   "metadata": {},
   "outputs": [],
   "source": [
    "df.drop(['tconst','known_for_titles'],axis=1,inplace=True)"
   ]
  },
  {
   "cell_type": "code",
   "execution_count": 32,
   "metadata": {
    "scrolled": true
   },
   "outputs": [
    {
     "data": {
      "text/html": [
       "<div>\n",
       "<style scoped>\n",
       "    .dataframe tbody tr th:only-of-type {\n",
       "        vertical-align: middle;\n",
       "    }\n",
       "\n",
       "    .dataframe tbody tr th {\n",
       "        vertical-align: top;\n",
       "    }\n",
       "\n",
       "    .dataframe thead th {\n",
       "        text-align: right;\n",
       "    }\n",
       "</style>\n",
       "<table border=\"1\" class=\"dataframe\">\n",
       "  <thead>\n",
       "    <tr style=\"text-align: right;\">\n",
       "      <th></th>\n",
       "      <th>release_date</th>\n",
       "      <th>movie</th>\n",
       "      <th>production_budget</th>\n",
       "      <th>domestic_gross</th>\n",
       "      <th>worldwide_gross</th>\n",
       "      <th>foreign_gross</th>\n",
       "      <th>profit</th>\n",
       "      <th>genres</th>\n",
       "      <th>primary_name</th>\n",
       "      <th>primary_profession</th>\n",
       "    </tr>\n",
       "  </thead>\n",
       "  <tbody>\n",
       "    <tr>\n",
       "      <th>0</th>\n",
       "      <td>2009-12-18</td>\n",
       "      <td>Avatar</td>\n",
       "      <td>425000000</td>\n",
       "      <td>760507625</td>\n",
       "      <td>2776345279</td>\n",
       "      <td>2015837654</td>\n",
       "      <td>2351345279</td>\n",
       "      <td>[Horror]</td>\n",
       "      <td>[Teruo Noguchi,  Atsushi Wada]</td>\n",
       "      <td>[director,  director]</td>\n",
       "    </tr>\n",
       "    <tr>\n",
       "      <th>1</th>\n",
       "      <td>2011-05-20</td>\n",
       "      <td>Pirates of the Caribbean: On Stranger Tides</td>\n",
       "      <td>410600000</td>\n",
       "      <td>241063875</td>\n",
       "      <td>1045663875</td>\n",
       "      <td>804600000</td>\n",
       "      <td>635063875</td>\n",
       "      <td>[Action, Adventure, Fantasy]</td>\n",
       "      <td>[Patrick Kennedy,  Chuck Williams,  Juan Carlo...</td>\n",
       "      <td>[director,  producer,  director,  producer,  d...</td>\n",
       "    </tr>\n",
       "    <tr>\n",
       "      <th>2</th>\n",
       "      <td>2019-06-07</td>\n",
       "      <td>Dark Phoenix</td>\n",
       "      <td>350000000</td>\n",
       "      <td>42762350</td>\n",
       "      <td>149762350</td>\n",
       "      <td>107000000</td>\n",
       "      <td>-200237650</td>\n",
       "      <td>[Action, Adventure, Sci-Fi]</td>\n",
       "      <td>[Danny MAlin,  Danny MAlin,  Marley Sniatowsky...</td>\n",
       "      <td>[producer,  director,  producer,  director,  p...</td>\n",
       "    </tr>\n",
       "    <tr>\n",
       "      <th>3</th>\n",
       "      <td>2015-05-01</td>\n",
       "      <td>Avengers: Age of Ultron</td>\n",
       "      <td>330600000</td>\n",
       "      <td>459005868</td>\n",
       "      <td>1403013963</td>\n",
       "      <td>944008095</td>\n",
       "      <td>1072413963</td>\n",
       "      <td>[Action, Adventure, Sci-Fi]</td>\n",
       "      <td>[Aaron Himelstein,  Elizabeth Olsen,  Lisa Las...</td>\n",
       "      <td>[producer,  producer,  producer,  producer,  d...</td>\n",
       "    </tr>\n",
       "    <tr>\n",
       "      <th>4</th>\n",
       "      <td>2017-12-15</td>\n",
       "      <td>Star Wars Ep. VIII: The Last Jedi</td>\n",
       "      <td>317000000</td>\n",
       "      <td>620181382</td>\n",
       "      <td>1316721747</td>\n",
       "      <td>696540365</td>\n",
       "      <td>999721747</td>\n",
       "      <td>NaN</td>\n",
       "      <td>NaN</td>\n",
       "      <td>NaN</td>\n",
       "    </tr>\n",
       "  </tbody>\n",
       "</table>\n",
       "</div>"
      ],
      "text/plain": [
       "  release_date                                        movie  \\\n",
       "0   2009-12-18                                       Avatar   \n",
       "1   2011-05-20  Pirates of the Caribbean: On Stranger Tides   \n",
       "2   2019-06-07                                 Dark Phoenix   \n",
       "3   2015-05-01                      Avengers: Age of Ultron   \n",
       "4   2017-12-15            Star Wars Ep. VIII: The Last Jedi   \n",
       "\n",
       "   production_budget  domestic_gross  worldwide_gross  foreign_gross  \\\n",
       "0          425000000       760507625       2776345279     2015837654   \n",
       "1          410600000       241063875       1045663875      804600000   \n",
       "2          350000000        42762350        149762350      107000000   \n",
       "3          330600000       459005868       1403013963      944008095   \n",
       "4          317000000       620181382       1316721747      696540365   \n",
       "\n",
       "       profit                        genres  \\\n",
       "0  2351345279                      [Horror]   \n",
       "1   635063875  [Action, Adventure, Fantasy]   \n",
       "2  -200237650   [Action, Adventure, Sci-Fi]   \n",
       "3  1072413963   [Action, Adventure, Sci-Fi]   \n",
       "4   999721747                           NaN   \n",
       "\n",
       "                                        primary_name  \\\n",
       "0                     [Teruo Noguchi,  Atsushi Wada]   \n",
       "1  [Patrick Kennedy,  Chuck Williams,  Juan Carlo...   \n",
       "2  [Danny MAlin,  Danny MAlin,  Marley Sniatowsky...   \n",
       "3  [Aaron Himelstein,  Elizabeth Olsen,  Lisa Las...   \n",
       "4                                                NaN   \n",
       "\n",
       "                                  primary_profession  \n",
       "0                              [director,  director]  \n",
       "1  [director,  producer,  director,  producer,  d...  \n",
       "2  [producer,  director,  producer,  director,  p...  \n",
       "3  [producer,  producer,  producer,  producer,  d...  \n",
       "4                                                NaN  "
      ]
     },
     "execution_count": 32,
     "metadata": {},
     "output_type": "execute_result"
    }
   ],
   "source": [
    "df.head()"
   ]
  }
 ],
 "metadata": {
  "kernelspec": {
   "display_name": "Python 3",
   "language": "python",
   "name": "python3"
  },
  "language_info": {
   "codemirror_mode": {
    "name": "ipython",
    "version": 3
   },
   "file_extension": ".py",
   "mimetype": "text/x-python",
   "name": "python",
   "nbconvert_exporter": "python",
   "pygments_lexer": "ipython3",
   "version": "3.8.5"
  }
 },
 "nbformat": 4,
 "nbformat_minor": 2
}
